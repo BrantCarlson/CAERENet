{
 "metadata": {
  "name": "",
  "signature": "sha256:e7ce5e6e5f33d6cd0978715c8c3786382cc7a76e8b5f64cd25a0204a1fea87f2"
 },
 "nbformat": 3,
 "nbformat_minor": 0,
 "worksheets": [
  {
   "cells": [
    {
     "cell_type": "code",
     "collapsed": false,
     "input": [
      "%pylab\n",
      "import dataProc_cal as dp\n",
      "import pandas as pd\n",
      "import os\n",
      "import scipy.optimize as op\n",
      "from scipy.interpolate import interp1d\n",
      "import scipy.signal as signal\n",
      "import findEField as fef\n",
      "import conf"
     ],
     "language": "python",
     "metadata": {},
     "outputs": [
      {
       "output_type": "stream",
       "stream": "stdout",
       "text": [
        "Using matplotlib backend: TkAgg\n",
        "Populating the interactive namespace from numpy and matplotlib\n"
       ]
      }
     ],
     "prompt_number": 1
    },
    {
     "cell_type": "code",
     "collapsed": false,
     "input": [
      "# change your path as appropriate\n",
      "a = dp.readData(\"/home/brant/Downloads/A\",1024*1000,1024*0)\n",
      "fs = 1.0/(a[0]['t'][2]-a[0]['t'][1])\n",
      "ch1scaled = a[0]['adc']-mean(a[0]['adc'])\n",
      "ch2scaled = a[2]['adc']-mean(a[2]['adc'])"
     ],
     "language": "python",
     "metadata": {},
     "outputs": [],
     "prompt_number": 40
    },
    {
     "cell_type": "code",
     "collapsed": false,
     "input": [
      "# try this:\n",
      "specgram(ch1scaled,Fs=fs,NFFT=1024)\n",
      "colorbar()\n",
      "ylabel(\"frequency (Hz)\")\n",
      "xlabel(\"time (s)\")"
     ],
     "language": "python",
     "metadata": {},
     "outputs": [
      {
       "metadata": {},
       "output_type": "pyout",
       "prompt_number": 41,
       "text": [
        "<matplotlib.text.Text at 0x7fbc02415a90>"
       ]
      }
     ],
     "prompt_number": 41
    },
    {
     "cell_type": "code",
     "collapsed": false,
     "input": [
      "# try this:\n",
      "specgram(ch2scaled,Fs=fs,NFFT=1024)\n",
      "colorbar()\n",
      "ylabel(\"frequency (Hz)\")\n",
      "xlabel(\"time (s)\")"
     ],
     "language": "python",
     "metadata": {},
     "outputs": [
      {
       "metadata": {},
       "output_type": "pyout",
       "prompt_number": 43,
       "text": [
        "<matplotlib.text.Text at 0x7fbc02267b50>"
       ]
      }
     ],
     "prompt_number": 43
    },
    {
     "cell_type": "code",
     "collapsed": false,
     "input": [
      "# or this:\n",
      "psd(ch1scaled,Fs=fs,NFFT=1024*4);\n",
      "psd(ch2scaled,Fs=fs,NFFT=1024*4);"
     ],
     "language": "python",
     "metadata": {},
     "outputs": [],
     "prompt_number": 45
    },
    {
     "cell_type": "code",
     "collapsed": false,
     "input": [],
     "language": "python",
     "metadata": {},
     "outputs": []
    }
   ],
   "metadata": {}
  }
 ]
}