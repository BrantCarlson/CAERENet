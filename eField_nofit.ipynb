{
 "metadata": {
  "name": "",
  "signature": "sha256:fb3c5aedf7ffcc5a69f7716f26ca7e53bfe00cb1f6281ac813c9c173feba6562"
 },
 "nbformat": 3,
 "nbformat_minor": 0,
 "worksheets": [
  {
   "cells": [
    {
     "cell_type": "code",
     "collapsed": false,
     "input": [
      "%pylab\n",
      "import dataProc_cal as dp\n",
      "import pandas as pd\n",
      "import os\n",
      "import scipy.optimize as op\n",
      "from scipy.interpolate import interp1d\n",
      "import scipy.signal as signal\n",
      "reload(dp)"
     ],
     "language": "python",
     "metadata": {},
     "outputs": [
      {
       "output_type": "stream",
       "stream": "stdout",
       "text": [
        "Using matplotlib backend: Qt4Agg\n",
        "Populating the interactive namespace from numpy and matplotlib\n"
       ]
      },
      {
       "metadata": {},
       "output_type": "pyout",
       "prompt_number": 1,
       "text": [
        "<module 'dataProc_cal' from 'dataProc_cal.pyc'>"
       ]
      }
     ],
     "prompt_number": "*"
    },
    {
     "cell_type": "markdown",
     "metadata": {},
     "source": [
      "# NOTE\n",
      "this is experimental code written in December 2013.  Don't take it too seriously.\n",
      "\n",
      "The E-field-estimation-by-signal-variance method appeared here first.\n",
      "\n",
      "there is also some experimentation on signal estimation by detailed shape / fitting, but it didn't quite work with real data.\n",
      "\n",
      "This may still be valuable as example code, but like I said, don't take it too seriously.\n",
      "\n",
      "(BEC)"
     ]
    },
    {
     "cell_type": "code",
     "collapsed": false,
     "input": [
      "a = dp.readData(\"/home/brant/Downloads/A\",1024*1000,1024*1000*65)\n",
      "b = dp.interpAlign(a)"
     ],
     "language": "python",
     "metadata": {},
     "outputs": [],
     "prompt_number": 24
    },
    {
     "cell_type": "code",
     "collapsed": false,
     "input": [
      "plt.clf()\n",
      "ax1 = subplot(211)\n",
      "plot(b['t'],b['adc1'],label=\"adc0\")\n",
      "ylabel(\"photogate\")\n",
      "ax2 = subplot(212,sharex=ax1)\n",
      "plot(b['t'],b['adc0'],label=\"electrode 1\")\n",
      "plot(b['t'],b['adc2'],label=\"electrode 2\")\n",
      "ylabel(\"raw ADC output\")\n",
      "xlabel(\"time (s)\")\n",
      "legend()"
     ],
     "language": "python",
     "metadata": {},
     "outputs": [
      {
       "metadata": {},
       "output_type": "pyout",
       "prompt_number": 32,
       "text": [
        "<matplotlib.legend.Legend at 0x5adc4610>"
       ]
      }
     ],
     "prompt_number": 32
    },
    {
     "cell_type": "code",
     "collapsed": false,
     "input": [
      "specgram(b['adc0']-b['adc0'].mean(),1024*2,11000,cmap=cm.cubehelix_r);"
     ],
     "language": "python",
     "metadata": {},
     "outputs": [],
     "prompt_number": 18
    },
    {
     "cell_type": "code",
     "collapsed": false,
     "input": [
      "def findOmegaPhi(t,sig,f0=50.0,df=10.0):\n",
      "    fs = 1/(t[1]-t[0])\n",
      "    a = np.fft.fft(sig)\n",
      "    f = np.fft.fftfreq(len(sig),1/fs)\n",
      "\n",
      "def extractSignal(d, a1=1.0, o1=0.0, a2=1.0, o2=0.0, tau=0.5):\n",
      "    \"\"\"d must be data frame with keys t, pg, adc1, adc2 for time, photogate, adc1, and adc2.\n",
      "    o1, o2 are offsets (should be constant.  probably aren't).\n",
      "    adc1 = a1*E*(modulation) + o1\n",
      "    adc2 = a2*E*(modulation) + o2\"\"\"\n",
      "    n = len(d.index)\n",
      "    t = d['t']\n",
      "    dt = t[1]-t[0]\n",
      "    \n",
      "    adc1 = d['adc0'];\n",
      "    if o1==0:\n",
      "        adc1 = adc1 - mean(adc1)\n",
      "    else:\n",
      "        adc1 = adc1 - o1\n",
      "    \n",
      "    adc2 = d['adc2'];\n",
      "    if o2==0:\n",
      "        adc2 = adc2 - mean(adc2)\n",
      "    else:\n",
      "        adc2 = adc2 - o2\n",
      "\n",
      "    mu1 = np.zeros(n); mu1[0]=0.0\n",
      "    mu2 = np.zeros(n); mu2[0]=0.0\n",
      "    expFact = exp(-dt/tau)\n",
      "    print expFact\n",
      "\n",
      "    #theta = np.zeros(n)\n",
      "    # determine theta(t) using photogate info here\n",
      "    #theta = d['t']*omega\n",
      "    \n",
      "    E = np.zeros(n)\n",
      "    crap = np.zeros(n)\n",
      "        \n",
      "    for i in xrange(1,n):\n",
      "        # weighted average, not solved for self-consistency\n",
      "        #E[i] = ((adc1[i] + mu1[i-1])*a1*cos(theta[i])**2 + (adc2[i] + mu2[i-1])*a2*sin(theta[i])**2)/(a1*cos(theta[i])**2 + a2*sin(theta[i])**2)\n",
      "        #mu1[i] = mu1[i-1]*expFact + E[i]*a1*cos(theta[i])**2*(1-expFact)\n",
      "        #mu2[i] = mu2[i-1]*expFact + E[i]*a2*sin(theta[i])**2*(1-expFact)\n",
      "        # solve these equations to find E[i], mu1[i], and mu2[i] simultaneously.\n",
      "        \n",
      "        # weighted average\n",
      "        #ac2 = a1*cos(theta[i])**2\n",
      "        #as2 = a2*sin(theta[i])**2\n",
      "        #E[i] = ((adc1[i] + expFact*mu1[i-1])*ac2 + (adc2[i] + expFact*mu2[i-1])*as2)/(expFact*(ac2**2 + as2**2))\n",
      "        #mu1[i] = mu1[i-1]*expFact + E[i]*ac2*(1-expFact)\n",
      "        #mu2[i] = mu2[i-1]*expFact + E[i]*as2*(1-expFact)\n",
      "\n",
      "        ## sum, weighted average (doesn't work... ?)\n",
      "        #ac2 = a1*cos(theta[i])**2\n",
      "        #as2 = a2*sin(theta[i])**2\n",
      "        #E[i] = 0.5*(adc1[i]/a1*cos(theta[i])**2 + adc2[i]/a2*sin(theta[i])**2) + mu1[i-1]/a1 + mu2[i-1]/a2\n",
      "        #mu1[i] = mu1[i-1]*expFact + E[i]*ac2*(1-expFact)\n",
      "        #mu2[i] = mu2[i-1]*expFact + E[i]*as2*(1-expFact)\n",
      "\n",
      "        # sum, unweighted average\n",
      "        ac2 = 0.5*a1 #a1*cos(theta[i])**2\n",
      "        as2 = 0.5*a2 #a2*sin(theta[i])**2            \n",
      "        E[i] = adc1[i]/a1 + adc2[i]/a2 + mu1[i-1]/a1 + mu2[i-1]/a2\n",
      "        mu1[i] = mu1[i-1]*expFact + E[i]*ac2*(1-expFact)\n",
      "        mu2[i] = mu2[i-1]*expFact + E[i]*as2*(1-expFact)\n",
      "    \n",
      "    d['E'] = E\n",
      "    d['mu1'] = mu1\n",
      "    d['mu2'] = mu2\n",
      "    \n",
      "    return d\n",
      "\n",
      "def extractSignal_oavg(d, a1=1.0, a2=1.0, tau=0.5):\n",
      "    n = len(d.index)\n",
      "    t = d['t']\n",
      "    dt = t[1]-t[0]\n",
      "    \n",
      "    adc1 = d['adc0'];    \n",
      "    adc2 = d['adc2'];\n",
      "\n",
      "    mu1 = np.zeros(n); mu1[0]=0.0\n",
      "    mu2 = np.zeros(n); mu2[0]=0.0\n",
      "    o1 = np.zeros(n); o1[0] = mean(adc1)\n",
      "    o2 = np.zeros(n); o2[0] = mean(adc2)\n",
      "    \n",
      "    expFact = exp(-dt/tau)\n",
      "    expFactA = 0.99999\n",
      "    print expFact\n",
      "\n",
      "    E = np.zeros(n)\n",
      "    y1 = np.zeros(n)\n",
      "    y2 = np.zeros(n)\n",
      "    \n",
      "    a1max,a2max = 0.0, 0.0\n",
      "    a1min,a2min = 1.0e10,1.0e10\n",
      "    \n",
      "    for i in xrange(1,n):\n",
      "        ac2 = 0.5*a1 #a1*cos(theta[i])**2\n",
      "        as2 = 0.5*a2 #a2*sin(theta[i])**2            \n",
      "        E[i] = (adc1[i]-o1[i-1])/a1 + (adc2[i]-o2[i-1])/a2 + mu1[i-1]/a1 + mu2[i-1]/a2\n",
      "        mu1[i] = mu1[i-1]*expFact + E[i]*ac2*(1-expFact)\n",
      "        mu2[i] = mu2[i-1]*expFact + E[i]*as2*(1-expFact)\n",
      "        a1max = max(a1max*expFactA, adc1[i]-o1[i-1])\n",
      "        a2max = max(a2max*expFactA, adc2[i]-o2[i-1])\n",
      "        a1min = min(a1min*expFactA, adc1[i]-o1[i-1])\n",
      "        a2min = min(a2min*expFactA, adc2[i]-o2[i-1])\n",
      "        EFromAmp1 = (a1max-a1min)/a1\n",
      "        EFromAmp2 = (a2max-a2min)/a2\n",
      "        o1[i] = o1[i-1] + 0.5*dt/tau*(E[i] - EFromAmp1)\n",
      "        o2[i] = o2[i-1] + 0.5*dt/tau*(E[i] - EFromAmp2)\n",
      "        \n",
      "        y1[i] = E[i] - EFromAmp1\n",
      "        y2[i] = o1[i]\n",
      "    \n",
      "    plot(t,adc1)\n",
      "    plot(t,adc2)\n",
      "    plot(t,y1)\n",
      "    plot(t,y2)\n",
      "    \n",
      "    d['E'] = E\n",
      "    d['mu1'] = mu1\n",
      "    d['mu2'] = mu2\n",
      "    \n",
      "    return d\n",
      "\n",
      "def extractSignal(d,a1,a2,phi):\n",
      "    n = len(d.index)\n",
      "    t = d['t'].values\n",
      "    dt = t[1]-t[0]\n",
      "    \n",
      "    adc1 = d['adc0'].values\n",
      "    adc2 = d['adc2'].values\n",
      "    pg = d['adc1'].values\n",
      "    \n",
      "    # determine ts where sensor plates are maximally covered here.  (calibration info)\n",
      "    pg = pg-mean(pg)\n",
      "    pgB = pg>0\n",
      "    pgi = find(logical_and(logical_and(pgB[1:-1],pgB[2:]),logical_not(pgB[:-2])))\n",
      "    nrev = pgi.shape[0]-1\n",
      "    pgTrans = t[pgi]\n",
      "    \n",
      "    tm1 = np.zeros(2*nrev); tm2 = np.zeros(2*nrev)\n",
      "    tm1[0::2] = pgTrans[:-1] + (pgTrans[1:]-pgTrans[:-1])*phi/(2*pi)\n",
      "    tm1[1::2] = pgTrans[:-1] + (pgTrans[1:]-pgTrans[:-1])*(phi+pi)/(2*pi)\n",
      "    tm2[0::2] = pgTrans[:-1] + (pgTrans[1:]-pgTrans[:-1])*(phi+pi/2)/(2*pi)\n",
      "    tm2[1::2] = pgTrans[:-1] + (pgTrans[1:]-pgTrans[:-1])*(phi+pi/2+pi)/(2*pi)\n",
      "    im1 = searchsorted(t,tm1)\n",
      "    im2 = searchsorted(t,tm2)\n",
      "    \n",
      "    v01r = np.zeros(2*nrev)\n",
      "    v02r = np.zeros(2*nrev)\n",
      "    \n",
      "    nsamp = 15\n",
      "    x = arange(-nsamp,nsamp+1)\n",
      "\n",
      "    for i in xrange(2*nrev):\n",
      "        a,b,c = polyfit(x, adc1[im1[i]-nsamp:im1[i]+nsamp+1], 2)\n",
      "        v01r[i] = c\n",
      "        a,b,c = polyfit(x, adc2[im2[i]-nsamp:im2[i]+nsamp+1], 2)\n",
      "        v02r[i] = c\n",
      "\n",
      "    v01 = interp(t,tm1,v01r)\n",
      "    v02 = interp(t,tm2,v02r)\n",
      "\n",
      "    E = (adc1 - v01)/a1 + (adc2 - v02)/a2\n",
      "    \n",
      "    d['E'] = E\n",
      "    d['v01'] = v01\n",
      "    d['v02'] = v02\n",
      "\n",
      "    return d\n",
      "\n",
      "\n",
      "\n",
      "def findWaveShape(t,sig,f0=50.0,df=5.0):\n",
      "    a = np.fft.fft(sig)\n",
      "    f = np.fft.fftfreq(len(sig),t[1]-t[0])\n",
      "    \n",
      "    ap = abs(a[f>=0])**2\n",
      "    fp = f[f>=0]\n",
      "    powf = interp1d(fp,log(ap),'linear')\n",
      "                    \n",
      "    def ampSqSum(f0):\n",
      "        fs = f0*np.array([1,3])\n",
      "        return -sum(powf(fs))\n",
      "     \n",
      "    #return ampSqSum\n",
      "    f0 = op.fmin(ampSqSum,f0)\n",
      "    \n",
      "    print \"hooray!\",f0\n",
      "    #plt.semilogy(fp,ap,'.')\n",
      "    #plt.semilogy(fp,powf(fp))\n",
      "    #plt.vlines(f0*np.array((1,3)),1,1e8)\n",
      "    plt.plot(real(a),imag(a))\n",
      "    return f0\n",
      "\n",
      "def findwaveShape(t,sig):\n",
      "    a = np.fft.fft(sig)\n",
      "    f = np.fft.fftfreq(len(sig),t[1]-t[0])\n",
      "    \n"
     ],
     "language": "python",
     "metadata": {},
     "outputs": [],
     "prompt_number": 9
    },
    {
     "cell_type": "code",
     "collapsed": false,
     "input": [
      "d = extractSignal(b,10,10,0.80+pi/2)"
     ],
     "language": "python",
     "metadata": {},
     "outputs": [],
     "prompt_number": 30
    },
    {
     "cell_type": "code",
     "collapsed": false,
     "input": [
      "plot(d['t'],d['E'])"
     ],
     "language": "python",
     "metadata": {},
     "outputs": [
      {
       "metadata": {},
       "output_type": "pyout",
       "prompt_number": 32,
       "text": [
        "[<matplotlib.lines.Line2D at 0xc5689450>]"
       ]
      }
     ],
     "prompt_number": 32
    },
    {
     "cell_type": "code",
     "collapsed": false,
     "input": [
      "plot(d['v01'],d['v02'])"
     ],
     "language": "python",
     "metadata": {},
     "outputs": [
      {
       "metadata": {},
       "output_type": "pyout",
       "prompt_number": 971,
       "text": [
        "[<matplotlib.lines.Line2D at 0x7f4d91ab3690>]"
       ]
      }
     ],
     "prompt_number": 971
    },
    {
     "cell_type": "code",
     "collapsed": false,
     "input": [
      "specgram(d['E'],1024*4,11000,cmap=cm.cubehelix_r);\n",
      "colorbar()"
     ],
     "language": "python",
     "metadata": {},
     "outputs": [
      {
       "metadata": {},
       "output_type": "pyout",
       "prompt_number": 34,
       "text": [
        "<matplotlib.colorbar.Colorbar instance at 0xf7cf2d8>"
       ]
      }
     ],
     "prompt_number": 34
    },
    {
     "cell_type": "code",
     "collapsed": false,
     "input": [
      "1/(d['t'][1]-d['t'][0])"
     ],
     "language": "python",
     "metadata": {},
     "outputs": [
      {
       "metadata": {},
       "output_type": "pyout",
       "prompt_number": 983,
       "text": [
        "11001.100110011001"
       ]
      }
     ],
     "prompt_number": 983
    },
    {
     "cell_type": "code",
     "collapsed": false,
     "input": [
      "\n",
      "def mockSignal(t,E,a1,o1,a2,o2,phi,tau,omega=2*pi*25):\n",
      "    alpha = exp(-(t[1]-t[0])/0.25)\n",
      "    th = omega*t\n",
      "    adc1 = a1*E*(cos(th+phi)**2+0.1*cos(6*(th+phi)) + 0.1)/1.2       + np.random.randn(n)\n",
      "    adc2 = a2*E*(1 - (cos(th+phi)**2+0.1*cos(6*(th+phi)) + 0.1)/1.2) + np.random.randn(n)\n",
      "    pg = cos(th)\n",
      "\n",
      "    adc1a = 0.0\n",
      "    adc2a = 0.0\n",
      "    for i in xrange(1,n):\n",
      "        adc1a = alpha*adc1a + (1-alpha)*adc1[i]\n",
      "        adc1[i] = adc1[i] - adc1a + o1\n",
      "        adc2a = alpha*adc2a + (1-alpha)*adc2[i]\n",
      "        adc2[i] = adc2[i] - adc2a + o2\n",
      "        \n",
      "    return pd.DataFrame({'t':t, 'adc0':adc1, 'adc2':adc2, 'adc1':pg})"
     ],
     "language": "python",
     "metadata": {},
     "outputs": [],
     "prompt_number": 855
    },
    {
     "cell_type": "code",
     "collapsed": false,
     "input": [
      "#n = 10000\n",
      "#omega = 25*2*pi\n",
      "#t = linspace(0,10,n)\n",
      "#E = 0.8*np.ones(n)\n",
      "#E[n/4:] = 2.3\n",
      "#E[n/2:] = -0.5\n",
      "#E[n/3] = 5.0\n",
      "\n",
      "tmax = 30\n",
      "n = tmax*10000\n",
      "t = linspace(0,tmax,n)\n",
      "E = 5.5*np.ones(t.shape)\n",
      "\n",
      "tau = 0.25; phi = 0.3\n",
      "\n",
      "d = mockSignal(t,E,100,1010,150,1200,phi,tau)\n",
      "\n",
      "d2 = extractSignal(d,a1,a2,phi,tau)"
     ],
     "language": "python",
     "metadata": {},
     "outputs": [
      {
       "ename": "SyntaxError",
       "evalue": "invalid syntax (<ipython-input-858-0f09be248736>, line 18)",
       "output_type": "pyerr",
       "traceback": [
        "\u001b[1;36m  File \u001b[1;32m\"<ipython-input-858-0f09be248736>\"\u001b[1;36m, line \u001b[1;32m18\u001b[0m\n\u001b[1;33m    d2 = extractSignal(d,a1,a2,,tau)\u001b[0m\n\u001b[1;37m                               ^\u001b[0m\n\u001b[1;31mSyntaxError\u001b[0m\u001b[1;31m:\u001b[0m invalid syntax\n"
       ]
      }
     ],
     "prompt_number": 858
    },
    {
     "cell_type": "code",
     "collapsed": false,
     "input": [
      "#plot(d['t'],d['adc1'])\n",
      "#plot(d['t'],d['adc2'])\n",
      "\n",
      "#plot(d2['t'],d2['mu2']+d2['adc2']-1200)\n",
      "\n",
      "ax1 = subplot(2,1,1)\n",
      "plot(d2bl['t'],d2bl['adc0'])\n",
      "plot(d2bl['t'],d2bl['adc2'])\n",
      "\n",
      "subplot(2,1,2,sharex=ax1)\n",
      "\n",
      "plot(d2bl['t'],d2bl['E'])\n",
      "plot(t,E)\n",
      "\n",
      "\n",
      "#plot(d2['t'],d2['E'])\n",
      "#plot(d2bl['t'],d2bl['E'])\n",
      "#plot(t,E)\n",
      "\n",
      "#plot(d2['t'],d2['adc1']-1000+40 - 0.8*d2['ac2'])\n",
      "#plot(d2['t'],0.8*d2['ac2'])\n",
      "\n",
      "#plot(d2['t'],d2['mu1'])"
     ],
     "language": "python",
     "metadata": {},
     "outputs": [
      {
       "metadata": {},
       "output_type": "pyout",
       "prompt_number": 846,
       "text": [
        "[<matplotlib.lines.Line2D at 0x7f4e2db164d0>]"
       ]
      }
     ],
     "prompt_number": 846
    },
    {
     "cell_type": "code",
     "collapsed": false,
     "input": [
      "print (1/omega)/1.0\n",
      "print (2.26-2.217)/2.3"
     ],
     "language": "python",
     "metadata": {},
     "outputs": [
      {
       "output_type": "stream",
       "stream": "stdout",
       "text": [
        "0.00636619772368\n",
        "0.0186956521739\n"
       ]
      }
     ],
     "prompt_number": 363
    },
    {
     "cell_type": "code",
     "collapsed": false,
     "input": [
      "plot(d2['t'],d2['adc1'])"
     ],
     "language": "python",
     "metadata": {},
     "outputs": [
      {
       "metadata": {},
       "output_type": "pyout",
       "prompt_number": 238,
       "text": [
        "[<matplotlib.lines.Line2D at 0x7f4f6969a810>]"
       ]
      }
     ],
     "prompt_number": 238
    },
    {
     "cell_type": "code",
     "collapsed": false,
     "input": [
      "n = 10000\n",
      "t = linspace(0,100,n)\n",
      "y = np.ones(n)\n",
      "y[:n/2] = 0.5\n",
      "y = y*cos(10*t)**2\n",
      "z = np.zeros(n)\n",
      "expFact = 0.99\n",
      "for i in xrange(1,n):\n",
      "    z[i] = z[i-1]*expFact + y[i]*(1-expFact)\n",
      "plot(y-z)\n",
      "#plot(y)"
     ],
     "language": "python",
     "metadata": {},
     "outputs": [
      {
       "metadata": {},
       "output_type": "pyout",
       "prompt_number": 125,
       "text": [
        "[<matplotlib.lines.Line2D at 0x7f4f990f3e50>]"
       ]
      }
     ],
     "prompt_number": 125
    },
    {
     "cell_type": "code",
     "collapsed": false,
     "input": [
      "n = 1000\n",
      "t = linspace(0,10,n)\n",
      "y = (sin(t)**2-0.5)\n",
      "plot(t,y)\n",
      "plot(t,y*sin(t)**2)"
     ],
     "language": "python",
     "metadata": {},
     "outputs": [
      {
       "metadata": {},
       "output_type": "pyout",
       "prompt_number": 127,
       "text": [
        "[<matplotlib.lines.Line2D at 0x7f4f990e1cd0>]"
       ]
      }
     ],
     "prompt_number": 127
    },
    {
     "cell_type": "code",
     "collapsed": false,
     "input": [
      "findWaveShape(b['t'],b['adc0']-mean(b['adc0']),50)[0]"
     ],
     "language": "python",
     "metadata": {},
     "outputs": [
      {
       "output_type": "stream",
       "stream": "stdout",
       "text": [
        "Optimization terminated successfully.\n",
        "         Current function value: -36.942567\n",
        "         Iterations: 19\n",
        "         Function evaluations: 38\n",
        "hooray! [ 39.78889465]\n"
       ]
      },
      {
       "metadata": {},
       "output_type": "pyout",
       "prompt_number": 103,
       "text": [
        "39.788894653320312"
       ]
      }
     ],
     "prompt_number": 103
    },
    {
     "cell_type": "code",
     "collapsed": false,
     "input": [
      "f"
     ],
     "language": "python",
     "metadata": {},
     "outputs": [
      {
       "metadata": {},
       "output_type": "pyout",
       "prompt_number": 80,
       "text": [
        "<function __main__.ampSqSum>"
       ]
      }
     ],
     "prompt_number": 80
    },
    {
     "cell_type": "code",
     "collapsed": false,
     "input": [
      "x = linspace(20,50)\n",
      "semilogy(x,abs(fv(x)))"
     ],
     "language": "python",
     "metadata": {},
     "outputs": [
      {
       "metadata": {},
       "output_type": "pyout",
       "prompt_number": 78,
       "text": [
        "[<matplotlib.lines.Line2D at 0x7f4fb3289c50>]"
       ]
      }
     ],
     "prompt_number": 78
    },
    {
     "cell_type": "code",
     "collapsed": false,
     "input": [
      "sig = b['adc0'] - mean(b['adc0'])\n",
      "z = fft.fft(sig)\n",
      "f = fft.fftfreq(len(sig),b['t'][1]-b['t'][0])\n",
      "z = z[f>0]\n",
      "f = f[f>0]\n",
      "\n",
      "ipk = argmax(z)\n",
      "\n",
      "a,b,c = polyfit(f[ipk-1:ipk+2],abs(z[ipk-1:ipk+2])**2,2)\n",
      "f0 = -b/(2*a)\n",
      "\n",
      "print f0\n"
     ],
     "language": "python",
     "metadata": {},
     "outputs": [
      {
       "output_type": "stream",
       "stream": "stdout",
       "text": [
        "38.7541102511\n"
       ]
      }
     ],
     "prompt_number": 69
    },
    {
     "cell_type": "code",
     "collapsed": false,
     "input": [
      "semilogy(f,abs(z),'.')\n",
      "vlines(f0*arange(14),1,1e12)"
     ],
     "language": "python",
     "metadata": {},
     "outputs": [
      {
       "metadata": {},
       "output_type": "pyout",
       "prompt_number": 35,
       "text": [
        "<matplotlib.collections.LineCollection at 0x7f4fb76a63d0>"
       ]
      }
     ],
     "prompt_number": 35
    },
    {
     "cell_type": "code",
     "collapsed": false,
     "input": [
      "x = linspace(0,10,1000)\n",
      "plot(x,(cos(x)**2+0.1*cos(6*x) + 0.1)/1.2)\n",
      "plot(x,1-(cos(x)**2+0.1*cos(6*x) + 0.1)/1.2)"
     ],
     "language": "python",
     "metadata": {},
     "outputs": [
      {
       "metadata": {},
       "output_type": "pyout",
       "prompt_number": 482,
       "text": [
        "[<matplotlib.lines.Line2D at 0x7f4ed845c6d0>]"
       ]
      }
     ],
     "prompt_number": 482
    },
    {
     "cell_type": "code",
     "collapsed": false,
     "input": [
      "x = linspace(0,20,1000)\n",
      "plot(x,cos(x/2)**2)\n",
      "plot(x,cos(1.3*x)*cos(x/2)**2)"
     ],
     "language": "python",
     "metadata": {},
     "outputs": [
      {
       "metadata": {},
       "output_type": "pyout",
       "prompt_number": 498,
       "text": [
        "[<matplotlib.lines.Line2D at 0x7f4ed369e0d0>]"
       ]
      }
     ],
     "prompt_number": 498
    },
    {
     "cell_type": "code",
     "collapsed": false,
     "input": [
      "polyfit([-1,0,1],[1,0,1],2)"
     ],
     "language": "python",
     "metadata": {},
     "outputs": [
      {
       "metadata": {},
       "output_type": "pyout",
       "prompt_number": 851,
       "text": [
        "array([  1.00000000e+00,   7.85046229e-17,  -1.28197512e-16])"
       ]
      }
     ],
     "prompt_number": 851
    },
    {
     "cell_type": "code",
     "collapsed": false,
     "input": [
      "searchsorted(arange(10),[2,3,3,7,1])"
     ],
     "language": "python",
     "metadata": {},
     "outputs": [
      {
       "metadata": {},
       "output_type": "pyout",
       "prompt_number": 852,
       "text": [
        "array([2, 3, 3, 7, 1])"
       ]
      }
     ],
     "prompt_number": 852
    },
    {
     "cell_type": "code",
     "collapsed": false,
     "input": [
      "arange(-10,10).shape"
     ],
     "language": "python",
     "metadata": {},
     "outputs": [
      {
       "metadata": {},
       "output_type": "pyout",
       "prompt_number": 854,
       "text": [
        "(20,)"
       ]
      }
     ],
     "prompt_number": 854
    },
    {
     "cell_type": "code",
     "collapsed": false,
     "input": [
      "def extractAmplitude(d,a1,a2,phi):\n",
      "    n = len(d.index)\n",
      "    t = d['t'].values\n",
      "    dt = t[1]-t[0]\n",
      "    \n",
      "    adc1 = d['adc0'].values\n",
      "    adc2 = d['adc2'].values\n",
      "    pg = d['adc1'].values\n",
      "    \n",
      "    b,a = signal.butter(4,1000.0/5500.0)\n",
      "    adc1 = filtfilt(b,a,adc1)\n",
      "    adc2 = filtfilt(b,a,adc2)\n",
      "    pg = filtfilt(b,a,pg)\n",
      "   \n",
      "    # determine ts where sensor plates are maximally covered here.  (calibration info)\n",
      "    pg = pg-mean(pg)\n",
      "    pgB = pg>0\n",
      "    pgi = find(logical_and(logical_and(pgB[1:-1],pgB[2:]),logical_not(pgB[:-2])))\n",
      "    nrev = pgi.shape[0]-1\n",
      "    pgTrans = t[pgi]\n",
      "    \n",
      "    tm1 = np.zeros(2*nrev); tm2 = np.zeros(2*nrev)\n",
      "    tm1[0::2] = pgTrans[:-1] + (pgTrans[1:]-pgTrans[:-1])*phi/(2*pi)\n",
      "    tm1[1::2] = pgTrans[:-1] + (pgTrans[1:]-pgTrans[:-1])*(phi+pi)/(2*pi)\n",
      "    tm2[0::2] = pgTrans[:-1] + (pgTrans[1:]-pgTrans[:-1])*(phi+pi/2)/(2*pi)\n",
      "    tm2[1::2] = pgTrans[:-1] + (pgTrans[1:]-pgTrans[:-1])*(phi+pi/2+pi)/(2*pi)\n",
      "    im1 = searchsorted(t,tm1)\n",
      "    im2 = searchsorted(t,tm2)\n",
      "\n",
      "    #return t,adc1,adc2,tm1,tm2,pg\n",
      "        \n",
      "    v01a = np.zeros(2*(nrev-1))\n",
      "    v02a = np.zeros(2*(nrev-1))\n",
      "    v01b = np.zeros(2*(nrev-1))\n",
      "    v02b = np.zeros(2*(nrev-1))\n",
      "    var1 = np.zeros(2*(nrev-1))\n",
      "    var2 = np.zeros(2*(nrev-1))\n",
      "    \n",
      "    nsamp = 15\n",
      "    x = arange(-nsamp,nsamp+1)\n",
      "\n",
      "    for i in xrange(2*(nrev-1)):\n",
      "        a,b,c = polyfit(x, adc1[im1[i]-nsamp:im1[i]+nsamp+1], 2)\n",
      "        v01a[i] = c\n",
      "        a,b,c = polyfit(x, adc2[im2[i]-nsamp:im2[i]+nsamp+1], 2)\n",
      "        v02a[i] = c\n",
      "        a,b,c = polyfit(x, adc1[im2[i]-nsamp:im2[i]+nsamp+1], 2)\n",
      "        v01b[i] = c\n",
      "        a,b,c = polyfit(x, adc2[im1[i]-nsamp:im1[i]+nsamp+1], 2)\n",
      "        v02b[i] = c\n",
      "        var1[i] = var(adc1[im1[i]:im1[i+1]])\n",
      "        var2[i] = var(adc2[im2[i]:im2[i+1]])\n",
      "\n",
      "    return pd.DataFrame({'t':tm1[:-2],'v01a':v01a,'v01b':v01b,'v02a':v02a,'v02b':v02b,'var1':var1,'var2':var2})\n",
      "\n",
      "def appendFrames(fns,blksize,nblk,a1,a2,phi):\n",
      "    x = pd.DataFrame()\n",
      "    tmax = 0.0\n",
      "    for fn in fns:\n",
      "        nblk = min(os.stat(fn).st_size/4 / blksize, nblk)\n",
      "        for i in xrange(1,nblk):\n",
      "            a = dp.readData(fn,blksize,i*blksize)\n",
      "            b = dp.interpAlign(a)\n",
      "            c = extractAmplitude(b,a1,a2,phi)\n",
      "            tm = c['t'].max()\n",
      "            c['t'] = c['t']+tmax\n",
      "            tmax = tm+tmax\n",
      "            print \"file\",fn,\"block\",i,\"of\",nblk,\"tmax:\",tmax\n",
      "            \n",
      "            x = x.append(c)\n",
      "    \n",
      "    return x\n",
      "        "
     ],
     "language": "python",
     "metadata": {},
     "outputs": [],
     "prompt_number": 81
    },
    {
     "cell_type": "code",
     "collapsed": false,
     "input": [
      "#a = dp.readData(\"/home/brant/Downloads/A\",1024*1000*3,1024*1000*63)\n",
      "a = dp.readData(\"/home/brant/Downloads/A\",1024*1000*3,0)\n",
      "b = dp.interpAlign(a)\n",
      "c = extractAmplitude(b,10,10,0.8+pi/2)\n",
      "#t,a1,a2,t1,t2,pg = extractAmplitude(b,10,10,0.8+pi/2)\n",
      "plot(c['t'],sqrt(c['var1']))\n",
      "plot(c['t'],sqrt(c['var2']))"
     ],
     "language": "python",
     "metadata": {},
     "outputs": [
      {
       "metadata": {},
       "output_type": "pyout",
       "prompt_number": 85,
       "text": [
        "[<matplotlib.lines.Line2D at 0xe148cd10>]"
       ]
      }
     ],
     "prompt_number": 85
    },
    {
     "cell_type": "code",
     "collapsed": false,
     "input": [
      "plot(t,a1)\n",
      "plot(t,pg)\n",
      "hlines(mean(pg),0,30)\n",
      "plot(c['t'],c['v01a'])\n",
      "vlines(t1,0,1500)"
     ],
     "language": "python",
     "metadata": {},
     "outputs": [
      {
       "metadata": {},
       "output_type": "pyout",
       "prompt_number": 69,
       "text": [
        "<matplotlib.collections.LineCollection at 0xc1d21c10>"
       ]
      }
     ],
     "prompt_number": 69
    },
    {
     "cell_type": "code",
     "collapsed": false,
     "input": [
      "plot(d['t'],d['v01b']-d['v01a'])\n",
      "plot(d['t'],d['v02b']-d['v02a'])"
     ],
     "language": "python",
     "metadata": {},
     "outputs": [
      {
       "metadata": {},
       "output_type": "pyout",
       "prompt_number": 6,
       "text": [
        "[<matplotlib.lines.Line2D at 0x62f08d0>]"
       ]
      }
     ],
     "prompt_number": 6
    },
    {
     "cell_type": "code",
     "collapsed": false,
     "input": [
      "d2 = appendFrames([\"/home/brant/Downloads/%s\"%x for x in ['L','M','N','O']],1024*1000,10000,10,10,0.8+pi/2)"
     ],
     "language": "python",
     "metadata": {},
     "outputs": [
      {
       "output_type": "stream",
       "stream": "stdout",
       "text": [
        "file /home/brant/Downloads/L block 1 of 200 tmax: 31.0421148412\n",
        "file"
       ]
      },
      {
       "output_type": "stream",
       "stream": "stdout",
       "text": [
        " /home/brant/Downloads/L block 2 of 200 tmax: 62.0875349923\n",
        "file"
       ]
      },
      {
       "output_type": "stream",
       "stream": "stdout",
       "text": [
        " /home/brant/Downloads/L block 3 of 200 tmax: 93.1033725275\n",
        "file"
       ]
      },
      {
       "output_type": "stream",
       "stream": "stdout",
       "text": [
        " /home/brant/Downloads/L block 4 of 200 tmax: 124.136439861\n",
        "file"
       ]
      },
      {
       "output_type": "stream",
       "stream": "stdout",
       "text": [
        " /home/brant/Downloads/L block 5 of 200 tmax: 155.169861979\n",
        "file"
       ]
      },
      {
       "output_type": "stream",
       "stream": "stdout",
       "text": [
        " /home/brant/Downloads/L block 6 of 200 tmax: 186.209722936\n",
        "file"
       ]
      },
      {
       "output_type": "stream",
       "stream": "stdout",
       "text": [
        " /home/brant/Downloads/L block 7 of 200 tmax: 217.252764026\n",
        "file"
       ]
      },
      {
       "output_type": "stream",
       "stream": "stdout",
       "text": [
        " /home/brant/Downloads/L block 8 of 200 tmax: 248.264407004\n",
        "file"
       ]
      },
      {
       "output_type": "stream",
       "stream": "stdout",
       "text": [
        " /home/brant/Downloads/L block 9 of 200 tmax: 279.283912829\n",
        "file"
       ]
      },
      {
       "output_type": "stream",
       "stream": "stdout",
       "text": [
        " /home/brant/Downloads/L block 10 of 200 tmax: 310.299636633\n",
        "file"
       ]
      },
      {
       "output_type": "stream",
       "stream": "stdout",
       "text": [
        " /home/brant/Downloads/L block 11 of 200 tmax: 341.312160441\n",
        "file"
       ]
      },
      {
       "output_type": "stream",
       "stream": "stdout",
       "text": [
        " /home/brant/Downloads/L block 12 of 200 tmax: 372.347024146\n",
        "file"
       ]
      },
      {
       "output_type": "stream",
       "stream": "stdout",
       "text": [
        " /home/brant/Downloads/L block 13 of 200 tmax: 403.383740349\n",
        "file"
       ]
      },
      {
       "output_type": "stream",
       "stream": "stdout",
       "text": [
        " /home/brant/Downloads/L block 14 of 200 tmax: 434.398447289\n",
        "file"
       ]
      },
      {
       "output_type": "stream",
       "stream": "stdout",
       "text": [
        " /home/brant/Downloads/L block 15 of 200 tmax: 465.415805654\n",
        "file"
       ]
      },
      {
       "output_type": "stream",
       "stream": "stdout",
       "text": [
        " /home/brant/Downloads/L block 16 of 200 tmax: 496.444091049\n",
        "file"
       ]
      },
      {
       "output_type": "stream",
       "stream": "stdout",
       "text": [
        " /home/brant/Downloads/L block 17 of 200 tmax: 527.478771749\n",
        "file"
       ]
      },
      {
       "output_type": "stream",
       "stream": "stdout",
       "text": [
        " /home/brant/Downloads/L block 18 of 200 tmax: 558.522430905\n",
        "file"
       ]
      },
      {
       "output_type": "stream",
       "stream": "stdout",
       "text": [
        " /home/brant/Downloads/L block 19 of 200 tmax: 589.54942515\n",
        "file"
       ]
      },
      {
       "output_type": "stream",
       "stream": "stdout",
       "text": [
        " /home/brant/Downloads/L block 20 of 200 tmax: 620.565800105\n",
        "file"
       ]
      },
      {
       "output_type": "stream",
       "stream": "stdout",
       "text": [
        " /home/brant/Downloads/L block 21 of 200 tmax: 651.600126021\n",
        "file"
       ]
      },
      {
       "output_type": "stream",
       "stream": "stdout",
       "text": [
        " /home/brant/Downloads/L block 22 of 200 tmax: 682.61924383\n",
        "file"
       ]
      },
      {
       "output_type": "stream",
       "stream": "stdout",
       "text": [
        " /home/brant/Downloads/L block 23 of 200 tmax: 713.637023665\n",
        "file"
       ]
      },
      {
       "output_type": "stream",
       "stream": "stdout",
       "text": [
        " /home/brant/Downloads/L block 24 of 200 tmax: 744.672092825\n",
        "file"
       ]
      },
      {
       "output_type": "stream",
       "stream": "stdout",
       "text": [
        " /home/brant/Downloads/L block 25 of 200 tmax: 775.707802502\n",
        "file"
       ]
      },
      {
       "output_type": "stream",
       "stream": "stdout",
       "text": [
        " /home/brant/Downloads/L block 26 of 200 tmax: 806.754298231\n",
        "file"
       ]
      },
      {
       "output_type": "stream",
       "stream": "stdout",
       "text": [
        " /home/brant/Downloads/L block 27 of 200 tmax: 837.765702595\n",
        "file"
       ]
      },
      {
       "output_type": "stream",
       "stream": "stdout",
       "text": [
        " /home/brant/Downloads/L block 28 of 200 tmax: 868.799376769\n",
        "file"
       ]
      },
      {
       "output_type": "stream",
       "stream": "stdout",
       "text": [
        " /home/brant/Downloads/L block 29 of 200 tmax: 899.845323484\n",
        "file"
       ]
      },
      {
       "output_type": "stream",
       "stream": "stdout",
       "text": [
        " /home/brant/Downloads/L block 30 of 200 tmax: 930.891819213\n",
        "file"
       ]
      },
      {
       "output_type": "stream",
       "stream": "stdout",
       "text": [
        " /home/brant/Downloads/L block 31 of 200 tmax: 961.9172012\n",
        "file"
       ]
      },
      {
       "output_type": "stream",
       "stream": "stdout",
       "text": [
        " /home/brant/Downloads/L block 32 of 200 tmax: 992.962049887\n",
        "file"
       ]
      },
      {
       "output_type": "stream",
       "stream": "stdout",
       "text": [
        " /home/brant/Downloads/L block 33 of 200 tmax: 1023.98971758\n",
        "file"
       ]
      },
      {
       "output_type": "stream",
       "stream": "stdout",
       "text": [
        " /home/brant/Downloads/L block 34 of 200 tmax: 1055.01747671\n",
        "file"
       ]
      },
      {
       "output_type": "stream",
       "stream": "stdout",
       "text": [
        " /home/brant/Downloads/L block 35 of 200 tmax: 1086.02898366\n",
        "file"
       ]
      },
      {
       "output_type": "stream",
       "stream": "stdout",
       "text": [
        " /home/brant/Downloads/L block 36 of 200 tmax: 1117.04422801\n",
        "file"
       ]
      },
      {
       "output_type": "stream",
       "stream": "stdout",
       "text": [
        " /home/brant/Downloads/L block 37 of 200 tmax: 1148.0765521\n",
        "file"
       ]
      },
      {
       "output_type": "stream",
       "stream": "stdout",
       "text": [
        " /home/brant/Downloads/L block 38 of 200 tmax: 1179.11015723\n",
        "file"
       ]
      },
      {
       "output_type": "stream",
       "stream": "stdout",
       "text": [
        " /home/brant/Downloads/L block 39 of 200 tmax: 1210.13544778\n",
        "file"
       ]
      },
      {
       "output_type": "stream",
       "stream": "stdout",
       "text": [
        " /home/brant/Downloads/L block 40 of 200 tmax: 1241.16751982\n",
        "file"
       ]
      },
      {
       "output_type": "stream",
       "stream": "stdout",
       "text": [
        " /home/brant/Downloads/L block 41 of 200 tmax: 1272.21345531\n",
        "file"
       ]
      },
      {
       "output_type": "stream",
       "stream": "stdout",
       "text": [
        " /home/brant/Downloads/L block 42 of 200 tmax: 1303.24422042\n",
        "file"
       ]
      },
      {
       "output_type": "stream",
       "stream": "stdout",
       "text": [
        " /home/brant/Downloads/L block 43 of 200 tmax: 1334.26020736\n",
        "file"
       ]
      },
      {
       "output_type": "stream",
       "stream": "stdout",
       "text": [
        " /home/brant/Downloads/L block 44 of 200 tmax: 1365.28324544\n",
        "file"
       ]
      },
      {
       "output_type": "stream",
       "stream": "stdout",
       "text": [
        " /home/brant/Downloads/L block 45 of 200 tmax: 1396.30275127\n",
        "file"
       ]
      },
      {
       "output_type": "stream",
       "stream": "stdout",
       "text": [
        " /home/brant/Downloads/L block 46 of 200 tmax: 1427.3415608\n",
        "file"
       ]
      },
      {
       "output_type": "stream",
       "stream": "stdout",
       "text": [
        " /home/brant/Downloads/L block 47 of 200 tmax: 1458.36186718\n",
        "file"
       ]
      },
      {
       "output_type": "stream",
       "stream": "stdout",
       "text": [
        " /home/brant/Downloads/L block 48 of 200 tmax: 1489.38188812\n",
        "file"
       ]
      },
      {
       "output_type": "stream",
       "stream": "stdout",
       "text": [
        " /home/brant/Downloads/L block 49 of 200 tmax: 1520.40227477\n",
        "file"
       ]
      },
      {
       "output_type": "stream",
       "stream": "stdout",
       "text": [
        " /home/brant/Downloads/L block 50 of 200 tmax: 1551.42588373\n",
        "file"
       ]
      },
      {
       "output_type": "stream",
       "stream": "stdout",
       "text": [
        " /home/brant/Downloads/L block 51 of 200 tmax: 1582.43913896\n",
        "file"
       ]
      },
      {
       "output_type": "stream",
       "stream": "stdout",
       "text": [
        " /home/brant/Downloads/L block 52 of 200 tmax: 1613.48744229\n",
        "file"
       ]
      },
      {
       "output_type": "stream",
       "stream": "stdout",
       "text": [
        " /home/brant/Downloads/L block 53 of 200 tmax: 1644.51493828\n",
        "file"
       ]
      },
      {
       "output_type": "stream",
       "stream": "stdout",
       "text": [
        " /home/brant/Downloads/L block 54 of 200 tmax: 1675.55174599\n",
        "file"
       ]
      },
      {
       "output_type": "stream",
       "stream": "stdout",
       "text": [
        " /home/brant/Downloads/L block 55 of 200 tmax: 1706.56417837\n",
        "file"
       ]
      },
      {
       "output_type": "stream",
       "stream": "stdout",
       "text": [
        " /home/brant/Downloads/L block 56 of 200 tmax: 1737.57845047\n",
        "file"
       ]
      },
      {
       "output_type": "stream",
       "stream": "stdout",
       "text": [
        " /home/brant/Downloads/L block 57 of 200 tmax: 1768.60310103\n",
        "file"
       ]
      },
      {
       "output_type": "stream",
       "stream": "stdout",
       "text": [
        " /home/brant/Downloads/L block 58 of 200 tmax: 1799.63231186\n",
        "file"
       ]
      },
      {
       "output_type": "stream",
       "stream": "stdout",
       "text": [
        " /home/brant/Downloads/L block 59 of 200 tmax: 1830.67276843\n",
        "file"
       ]
      },
      {
       "output_type": "stream",
       "stream": "stdout",
       "text": [
        " /home/brant/Downloads/L block 60 of 200 tmax: 1861.6869491\n",
        "file"
       ]
      },
      {
       "output_type": "stream",
       "stream": "stdout",
       "text": [
        " /home/brant/Downloads/L block 61 of 200 tmax: 1892.70726663\n",
        "file"
       ]
      },
      {
       "output_type": "stream",
       "stream": "stdout",
       "text": [
        " /home/brant/Downloads/L block 62 of 200 tmax: 1923.7513833\n",
        "file"
       ]
      },
      {
       "output_type": "stream",
       "stream": "stdout",
       "text": [
        " /home/brant/Downloads/L block 63 of 200 tmax: 1954.78902575\n",
        "file"
       ]
      },
      {
       "output_type": "stream",
       "stream": "stdout",
       "text": [
        " /home/brant/Downloads/L block 64 of 200 tmax: 1985.80969784\n",
        "file"
       ]
      },
      {
       "output_type": "stream",
       "stream": "stdout",
       "text": [
        " /home/brant/Downloads/L block 65 of 200 tmax: 2016.83625725\n",
        "file"
       ]
      },
      {
       "output_type": "stream",
       "stream": "stdout",
       "text": [
        " /home/brant/Downloads/L block 66 of 200 tmax: 2047.87800608\n",
        "file"
       ]
      },
      {
       "output_type": "stream",
       "stream": "stdout",
       "text": [
        " /home/brant/Downloads/L block 67 of 200 tmax: 2078.9249481\n",
        "file"
       ]
      },
      {
       "output_type": "stream",
       "stream": "stdout",
       "text": [
        " /home/brant/Downloads/L block 68 of 200 tmax: 2109.96513016\n",
        "file"
       ]
      },
      {
       "output_type": "stream",
       "stream": "stdout",
       "text": [
        " /home/brant/Downloads/L block 69 of 200 tmax: 2140.98168797\n",
        "file"
       ]
      },
      {
       "output_type": "stream",
       "stream": "stdout",
       "text": [
        " /home/brant/Downloads/L block 70 of 200 tmax: 2172.02618188\n",
        "file"
       ]
      },
      {
       "output_type": "stream",
       "stream": "stdout",
       "text": [
        " /home/brant/Downloads/L block 71 of 200 tmax: 2203.06738169\n",
        "file"
       ]
      },
      {
       "output_type": "stream",
       "stream": "stdout",
       "text": [
        " /home/brant/Downloads/L block 72 of 200 tmax: 2234.11169259\n",
        "file"
       ]
      },
      {
       "output_type": "stream",
       "stream": "stdout",
       "text": [
        " /home/brant/Downloads/L block 73 of 200 tmax: 2265.15694096\n",
        "file"
       ]
      },
      {
       "output_type": "stream",
       "stream": "stdout",
       "text": [
        " /home/brant/Downloads/L block 74 of 200 tmax: 2296.18406009\n",
        "file"
       ]
      },
      {
       "output_type": "stream",
       "stream": "stdout",
       "text": [
        " /home/brant/Downloads/L block 75 of 200 tmax: 2327.22214883\n",
        "file"
       ]
      },
      {
       "output_type": "stream",
       "stream": "stdout",
       "text": [
        " /home/brant/Downloads/L block 76 of 200 tmax: 2358.26252512\n",
        "file"
       ]
      },
      {
       "output_type": "stream",
       "stream": "stdout",
       "text": [
        " /home/brant/Downloads/L block 77 of 200 tmax: 2389.29896682\n",
        "file"
       ]
      },
      {
       "output_type": "stream",
       "stream": "stdout",
       "text": [
        " /home/brant/Downloads/L block 78 of 200 tmax: 2420.31205035\n",
        "file"
       ]
      },
      {
       "output_type": "stream",
       "stream": "stdout",
       "text": [
        " /home/brant/Downloads/L block 79 of 200 tmax: 2451.35142012\n",
        "file"
       ]
      },
      {
       "output_type": "stream",
       "stream": "stdout",
       "text": [
        " /home/brant/Downloads/L block 80 of 200 tmax: 2482.38849111\n",
        "file"
       ]
      },
      {
       "output_type": "stream",
       "stream": "stdout",
       "text": [
        " /home/brant/Downloads/L block 81 of 200 tmax: 2513.43132674\n",
        "file"
       ]
      },
      {
       "output_type": "stream",
       "stream": "stdout",
       "text": [
        " /home/brant/Downloads/L block 82 of 200 tmax: 2544.45742901\n",
        "file"
       ]
      },
      {
       "output_type": "stream",
       "stream": "stdout",
       "text": [
        " /home/brant/Downloads/L block 83 of 200 tmax: 2575.50192291\n",
        "file"
       ]
      },
      {
       "output_type": "stream",
       "stream": "stdout",
       "text": [
        " /home/brant/Downloads/L block 84 of 200 tmax: 2606.53555048\n",
        "file"
       ]
      },
      {
       "output_type": "stream",
       "stream": "stdout",
       "text": [
        " /home/brant/Downloads/L block 85 of 200 tmax: 2637.56312675\n",
        "file"
       ]
      },
      {
       "output_type": "stream",
       "stream": "stdout",
       "text": [
        " /home/brant/Downloads/L block 86 of 200 tmax: 2668.60818089\n",
        "file"
       ]
      },
      {
       "output_type": "stream",
       "stream": "stdout",
       "text": [
        " /home/brant/Downloads/L block 87 of 200 tmax: 2699.62052184\n",
        "file"
       ]
      },
      {
       "output_type": "stream",
       "stream": "stdout",
       "text": [
        " /home/brant/Downloads/L block 88 of 200 tmax: 2730.64838355\n",
        "file"
       ]
      },
      {
       "output_type": "stream",
       "stream": "stdout",
       "text": [
        " /home/brant/Downloads/L block 89 of 200 tmax: 2761.66540966\n",
        "file"
       ]
      },
      {
       "output_type": "stream",
       "stream": "stdout",
       "text": [
        " /home/brant/Downloads/L block 90 of 200 tmax: 2792.71037229\n",
        "file"
       ]
      },
      {
       "output_type": "stream",
       "stream": "stdout",
       "text": [
        " /home/brant/Downloads/L block 91 of 200 tmax: 2823.72858697\n",
        "file"
       ]
      },
      {
       "output_type": "stream",
       "stream": "stdout",
       "text": [
        " /home/brant/Downloads/L block 92 of 200 tmax: 2854.74293935\n",
        "file"
       ]
      },
      {
       "output_type": "stream",
       "stream": "stdout",
       "text": [
        " /home/brant/Downloads/L block 93 of 200 tmax: 2885.75474288\n",
        "file"
       ]
      },
      {
       "output_type": "stream",
       "stream": "stdout",
       "text": [
        " /home/brant/Downloads/L block 94 of 200 tmax: 2916.78086744\n",
        "file"
       ]
      },
      {
       "output_type": "stream",
       "stream": "stdout",
       "text": [
        " /home/brant/Downloads/L block 95 of 200 tmax: 2947.81940247\n",
        "file"
       ]
      },
      {
       "output_type": "stream",
       "stream": "stdout",
       "text": [
        " /home/brant/Downloads/L block 96 of 200 tmax: 2978.8611513\n",
        "file"
       ]
      },
      {
       "output_type": "stream",
       "stream": "stdout",
       "text": [
        " /home/brant/Downloads/L block 97 of 200 tmax: 3009.88224708\n",
        "file"
       ]
      },
      {
       "output_type": "stream",
       "stream": "stdout",
       "text": [
        " /home/brant/Downloads/L block 98 of 200 tmax: 3040.92188013\n",
        "file"
       ]
      },
      {
       "output_type": "stream",
       "stream": "stdout",
       "text": [
        " /home/brant/Downloads/L block 99 of 200 tmax: 3071.94761668\n",
        "file"
       ]
      },
      {
       "output_type": "stream",
       "stream": "stdout",
       "text": [
        " /home/brant/Downloads/L block 100 of 200 tmax: 3102.97391295\n",
        "file"
       ]
      },
      {
       "output_type": "stream",
       "stream": "stdout",
       "text": [
        " /home/brant/Downloads/L block 101 of 200 tmax: 3133.98762533\n",
        "file"
       ]
      },
      {
       "output_type": "stream",
       "stream": "stdout",
       "text": [
        " /home/brant/Downloads/L block 102 of 200 tmax: 3165.0138993\n",
        "file"
       ]
      },
      {
       "output_type": "stream",
       "stream": "stdout",
       "text": [
        " /home/brant/Downloads/L block 103 of 200 tmax: 3196.02719914\n",
        "file"
       ]
      },
      {
       "output_type": "stream",
       "stream": "stdout",
       "text": [
        " /home/brant/Downloads/L block 104 of 200 tmax: 3227.06374357\n",
        "file"
       ]
      },
      {
       "output_type": "stream",
       "stream": "stdout",
       "text": [
        " /home/brant/Downloads/L block 105 of 200 tmax: 3258.11189756\n",
        "file"
       ]
      },
      {
       "output_type": "stream",
       "stream": "stdout",
       "text": [
        " /home/brant/Downloads/L block 106 of 200 tmax: 3289.12590653\n",
        "file"
       ]
      },
      {
       "output_type": "stream",
       "stream": "stdout",
       "text": [
        " /home/brant/Downloads/L block 107 of 200 tmax: 3320.17271044\n",
        "file"
       ]
      },
      {
       "output_type": "stream",
       "stream": "stdout",
       "text": [
        " /home/brant/Downloads/L block 108 of 200 tmax: 3351.200115\n",
        "file"
       ]
      },
      {
       "output_type": "stream",
       "stream": "stdout",
       "text": [
        " /home/brant/Downloads/L block 109 of 200 tmax: 3382.21838765\n",
        "file"
       ]
      },
      {
       "output_type": "stream",
       "stream": "stdout",
       "text": [
        " /home/brant/Downloads/L block 110 of 200 tmax: 3413.25803193\n",
        "file"
       ]
      },
      {
       "output_type": "stream",
       "stream": "stdout",
       "text": [
        " /home/brant/Downloads/L block 111 of 200 tmax: 3444.29676119\n",
        "file"
       ]
      },
      {
       "output_type": "stream",
       "stream": "stdout",
       "text": [
        " /home/brant/Downloads/L block 112 of 200 tmax: 3475.31194757\n",
        "file"
       ]
      },
      {
       "output_type": "stream",
       "stream": "stdout",
       "text": [
        " /home/brant/Downloads/L block 113 of 200 tmax: 3506.35670475\n",
        "file"
       ]
      },
      {
       "output_type": "stream",
       "stream": "stdout",
       "text": [
        " /home/brant/Downloads/L block 114 of 200 tmax: 3537.40466452\n",
        "file"
       ]
      },
      {
       "output_type": "stream",
       "stream": "stdout",
       "text": [
        " /home/brant/Downloads/L block 115 of 200 tmax: 3568.42415919\n",
        "file"
       ]
      },
      {
       "output_type": "stream",
       "stream": "stdout",
       "text": [
        " /home/brant/Downloads/L block 116 of 200 tmax: 3599.43750586\n",
        "file"
       ]
      },
      {
       "output_type": "stream",
       "stream": "stdout",
       "text": [
        " /home/brant/Downloads/L block 117 of 200 tmax: 3630.45094395\n",
        "file"
       ]
      },
      {
       "output_type": "stream",
       "stream": "stdout",
       "text": [
        " /home/brant/Downloads/L block 118 of 200 tmax: 3661.47771967\n",
        "file"
       ]
      },
      {
       "output_type": "stream",
       "stream": "stdout",
       "text": [
        " /home/brant/Downloads/L block 119 of 200 tmax: 3692.52605667\n",
        "file"
       ]
      },
      {
       "output_type": "stream",
       "stream": "stdout",
       "text": [
        " /home/brant/Downloads/L block 120 of 200 tmax: 3723.55873554\n",
        "file"
       ]
      },
      {
       "output_type": "stream",
       "stream": "stdout",
       "text": [
        " /home/brant/Downloads/L block 121 of 200 tmax: 3754.59590926\n",
        "file"
       ]
      },
      {
       "output_type": "stream",
       "stream": "stdout",
       "text": [
        " /home/brant/Downloads/L block 122 of 200 tmax: 3785.61071878\n",
        "file"
       ]
      },
      {
       "output_type": "stream",
       "stream": "stdout",
       "text": [
        " /home/brant/Downloads/L block 123 of 200 tmax: 3816.65649371\n",
        "file"
       ]
      },
      {
       "output_type": "stream",
       "stream": "stdout",
       "text": [
        " /home/brant/Downloads/L block 124 of 200 tmax: 3847.69533692\n",
        "file"
       ]
      },
      {
       "output_type": "stream",
       "stream": "stdout",
       "text": [
        " /home/brant/Downloads/L block 125 of 200 tmax: 3878.70962017\n",
        "file"
       ]
      },
      {
       "output_type": "stream",
       "stream": "stdout",
       "text": [
        " /home/brant/Downloads/L block 126 of 200 tmax: 3909.73876187\n",
        "file"
       ]
      },
      {
       "output_type": "stream",
       "stream": "stdout",
       "text": [
        " /home/brant/Downloads/L block 127 of 200 tmax: 3940.76372017\n",
        "file"
       ]
      },
      {
       "output_type": "stream",
       "stream": "stdout",
       "text": [
        " /home/brant/Downloads/L block 128 of 200 tmax: 3971.79139902\n",
        "file"
       ]
      },
      {
       "output_type": "stream",
       "stream": "stdout",
       "text": [
        " /home/brant/Downloads/L block 129 of 200 tmax: 4002.82617123\n",
        "file"
       ]
      },
      {
       "output_type": "stream",
       "stream": "stdout",
       "text": [
        " /home/brant/Downloads/L block 130 of 200 tmax: 4033.86645602\n",
        "file"
       ]
      },
      {
       "output_type": "stream",
       "stream": "stdout",
       "text": [
        " /home/brant/Downloads/L block 131 of 200 tmax: 4064.89557542\n",
        "file"
       ]
      },
      {
       "output_type": "stream",
       "stream": "stdout",
       "text": [
        " /home/brant/Downloads/L block 132 of 200 tmax: 4095.9190818\n",
        "file"
       ]
      },
      {
       "output_type": "stream",
       "stream": "stdout",
       "text": [
        " /home/brant/Downloads/L block 133 of 200 tmax: 4126.95880635\n",
        "file"
       ]
      },
      {
       "output_type": "stream",
       "stream": "stdout",
       "text": [
        " /home/brant/Downloads/L block 134 of 200 tmax: 4157.97426702\n",
        "file"
       ]
      },
      {
       "output_type": "stream",
       "stream": "stdout",
       "text": [
        " /home/brant/Downloads/L block 135 of 200 tmax: 4189.02249007\n",
        "file"
       ]
      },
      {
       "output_type": "stream",
       "stream": "stdout",
       "text": [
        " /home/brant/Downloads/L block 136 of 200 tmax: 4220.05984679\n",
        "file"
       ]
      },
      {
       "output_type": "stream",
       "stream": "stdout",
       "text": [
        " /home/brant/Downloads/L block 137 of 200 tmax: 4251.0931774\n",
        "file"
       ]
      },
      {
       "output_type": "stream",
       "stream": "stdout",
       "text": [
        " /home/brant/Downloads/L block 138 of 200 tmax: 4282.11640949\n",
        "file"
       ]
      },
      {
       "output_type": "stream",
       "stream": "stdout",
       "text": [
        " /home/brant/Downloads/L block 139 of 200 tmax: 4313.13306988\n",
        "file"
       ]
      },
      {
       "output_type": "stream",
       "stream": "stdout",
       "text": [
        " /home/brant/Downloads/L block 140 of 200 tmax: 4344.17298867\n",
        "file"
       ]
      },
      {
       "output_type": "stream",
       "stream": "stdout",
       "text": [
        " /home/brant/Downloads/L block 141 of 200 tmax: 4375.21731079\n",
        "file"
       ]
      },
      {
       "output_type": "stream",
       "stream": "stdout",
       "text": [
        " /home/brant/Downloads/L block 142 of 200 tmax: 4406.2511792\n",
        "file"
       ]
      },
      {
       "output_type": "stream",
       "stream": "stdout",
       "text": [
        " /home/brant/Downloads/L block 143 of 200 tmax: 4437.27340557\n",
        "file"
       ]
      },
      {
       "output_type": "stream",
       "stream": "stdout",
       "text": [
        " /home/brant/Downloads/L block 144 of 200 tmax: 4468.29214652\n",
        "file"
       ]
      },
      {
       "output_type": "stream",
       "stream": "stdout",
       "text": [
        " /home/brant/Downloads/L block 145 of 200 tmax: 4499.33160779\n",
        "file"
       ]
      },
      {
       "output_type": "stream",
       "stream": "stdout",
       "text": [
        " /home/brant/Downloads/L block 146 of 200 tmax: 4530.37801202\n",
        "file"
       ]
      },
      {
       "output_type": "stream",
       "stream": "stdout",
       "text": [
        " /home/brant/Downloads/L block 147 of 200 tmax: 4561.3912784\n",
        "file"
       ]
      },
      {
       "output_type": "stream",
       "stream": "stdout",
       "text": [
        " /home/brant/Downloads/L block 148 of 200 tmax: 4592.4385286\n",
        "file"
       ]
      },
      {
       "output_type": "stream",
       "stream": "stdout",
       "text": [
        " /home/brant/Downloads/L block 149 of 200 tmax: 4623.47065846\n",
        "file"
       ]
      },
      {
       "output_type": "stream",
       "stream": "stdout",
       "text": [
        " /home/brant/Downloads/L block 150 of 200 tmax: 4654.49369654\n",
        "file"
       ]
      },
      {
       "output_type": "stream",
       "stream": "stdout",
       "text": [
        " /home/brant/Downloads/L block 151 of 200 tmax: 4685.52089595\n",
        "file"
       ]
      },
      {
       "output_type": "stream",
       "stream": "stdout",
       "text": [
        " /home/brant/Downloads/L block 152 of 200 tmax: 4716.5445049\n",
        "file"
       ]
      },
      {
       "output_type": "stream",
       "stream": "stdout",
       "text": [
        " /home/brant/Downloads/L block 153 of 200 tmax: 4747.56490271\n",
        "file"
       ]
      },
      {
       "output_type": "stream",
       "stream": "stdout",
       "text": [
        " /home/brant/Downloads/L block 154 of 200 tmax: 4778.58486567\n",
        "file"
       ]
      },
      {
       "output_type": "stream",
       "stream": "stdout",
       "text": [
        " /home/brant/Downloads/L block 155 of 200 tmax: 4809.59788008\n",
        "file"
       ]
      },
      {
       "output_type": "stream",
       "stream": "stdout",
       "text": [
        " /home/brant/Downloads/L block 156 of 200 tmax: 4840.62965515\n",
        "file"
       ]
      },
      {
       "output_type": "stream",
       "stream": "stdout",
       "text": [
        " /home/brant/Downloads/L block 157 of 200 tmax: 4871.66281399\n",
        "file"
       ]
      },
      {
       "output_type": "stream",
       "stream": "stdout",
       "text": [
        " /home/brant/Downloads/L block 158 of 200 tmax: 4902.67754323\n",
        "file"
       ]
      },
      {
       "output_type": "stream",
       "stream": "stdout",
       "text": [
        " /home/brant/Downloads/L block 159 of 200 tmax: 4933.70133504\n",
        "file"
       ]
      },
      {
       "output_type": "stream",
       "stream": "stdout",
       "text": [
        " /home/brant/Downloads/L block 160 of 200 tmax: 4964.74198585\n",
        "file"
       ]
      },
      {
       "output_type": "stream",
       "stream": "stdout",
       "text": [
        " /home/brant/Downloads/L block 161 of 200 tmax: 4995.77925106\n",
        "file"
       ]
      },
      {
       "output_type": "stream",
       "stream": "stdout",
       "text": [
        " /home/brant/Downloads/L block 162 of 200 tmax: 5026.79745459\n",
        "file"
       ]
      },
      {
       "output_type": "stream",
       "stream": "stdout",
       "text": [
        " /home/brant/Downloads/L block 163 of 200 tmax: 5057.81402355\n",
        "file"
       ]
      },
      {
       "output_type": "stream",
       "stream": "stdout",
       "text": [
        " /home/brant/Downloads/L block 164 of 200 tmax: 5088.84634764\n",
        "file"
       ]
      },
      {
       "output_type": "stream",
       "stream": "stdout",
       "text": [
        " /home/brant/Downloads/L block 165 of 200 tmax: 5119.85733947\n",
        "file"
       ]
      },
      {
       "output_type": "stream",
       "stream": "stdout",
       "text": [
        " /home/brant/Downloads/L block 166 of 200 tmax: 5150.8983675\n",
        "file"
       ]
      },
      {
       "output_type": "stream",
       "stream": "stdout",
       "text": [
        " /home/brant/Downloads/L block 167 of 200 tmax: 5181.93708553\n",
        "file"
       ]
      },
      {
       "output_type": "stream",
       "stream": "stdout",
       "text": [
        " /home/brant/Downloads/L block 168 of 200 tmax: 5212.94924363\n",
        "file"
       ]
      },
      {
       "output_type": "stream",
       "stream": "stdout",
       "text": [
        " /home/brant/Downloads/L block 169 of 200 tmax: 5243.97239544\n",
        "file"
       ]
      },
      {
       "output_type": "stream",
       "stream": "stdout",
       "text": [
        " /home/brant/Downloads/L block 170 of 200 tmax: 5274.99658886\n",
        "file"
       ]
      },
      {
       "output_type": "stream",
       "stream": "stdout",
       "text": [
        " /home/brant/Downloads/L block 171 of 200 tmax: 5306.01232381\n",
        "file"
       ]
      },
      {
       "output_type": "stream",
       "stream": "stdout",
       "text": [
        " /home/brant/Downloads/L block 172 of 200 tmax: 5337.0262302\n",
        "file"
       ]
      },
      {
       "output_type": "stream",
       "stream": "stdout",
       "text": [
        " /home/brant/Downloads/L block 173 of 200 tmax: 5368.0502963\n",
        "file"
       ]
      },
      {
       "output_type": "stream",
       "stream": "stdout",
       "text": [
        " /home/brant/Downloads/L block 174 of 200 tmax: 5399.08736728\n",
        "file"
       ]
      },
      {
       "output_type": "stream",
       "stream": "stdout",
       "text": [
        " /home/brant/Downloads/L block 175 of 200 tmax: 5430.10875965\n",
        "file"
       ]
      },
      {
       "output_type": "stream",
       "stream": "stdout",
       "text": [
        " /home/brant/Downloads/L block 176 of 200 tmax: 5461.1249406\n",
        "file"
       ]
      },
      {
       "output_type": "stream",
       "stream": "stdout",
       "text": [
        " /home/brant/Downloads/L block 177 of 200 tmax: 5492.13811556\n",
        "file"
       ]
      },
      {
       "output_type": "stream",
       "stream": "stdout",
       "text": [
        " /home/brant/Downloads/L block 178 of 200 tmax: 5523.15203309\n",
        "file"
       ]
      },
      {
       "output_type": "stream",
       "stream": "stdout",
       "text": [
        " /home/brant/Downloads/L block 179 of 200 tmax: 5554.18892108\n",
        "file"
       ]
      },
      {
       "output_type": "stream",
       "stream": "stdout",
       "text": [
        " /home/brant/Downloads/L block 180 of 200 tmax: 5585.20601631\n",
        "file"
       ]
      },
      {
       "output_type": "stream",
       "stream": "stdout",
       "text": [
        " /home/brant/Downloads/L block 181 of 200 tmax: 5616.22851697\n",
        "file"
       ]
      },
      {
       "output_type": "stream",
       "stream": "stdout",
       "text": [
        " /home/brant/Downloads/L block 182 of 200 tmax: 5647.26988857\n",
        "file"
       ]
      },
      {
       "output_type": "stream",
       "stream": "stdout",
       "text": [
        " /home/brant/Downloads/L block 183 of 200 tmax: 5678.28837753\n",
        "file"
       ]
      },
      {
       "output_type": "stream",
       "stream": "stdout",
       "text": [
        " /home/brant/Downloads/L block 184 of 200 tmax: 5709.31851379\n",
        "file"
       ]
      },
      {
       "output_type": "stream",
       "stream": "stdout",
       "text": [
        " /home/brant/Downloads/L block 185 of 200 tmax: 5740.34545006\n",
        "file"
       ]
      },
      {
       "output_type": "stream",
       "stream": "stdout",
       "text": [
        " /home/brant/Downloads/L block 186 of 200 tmax: 5771.39242575\n",
        "file"
       ]
      },
      {
       "output_type": "stream",
       "stream": "stdout",
       "text": [
        " /home/brant/Downloads/L block 187 of 200 tmax: 5802.43062844\n",
        "file"
       ]
      },
      {
       "output_type": "stream",
       "stream": "stdout",
       "text": [
        " /home/brant/Downloads/L block 188 of 200 tmax: 5833.46179668\n",
        "file"
       ]
      },
      {
       "output_type": "stream",
       "stream": "stdout",
       "text": [
        " /home/brant/Downloads/L block 189 of 200 tmax: 5864.49760908\n",
        "file"
       ]
      },
      {
       "output_type": "stream",
       "stream": "stdout",
       "text": [
        " /home/brant/Downloads/L block 190 of 200 tmax: 5895.51215547\n",
        "file"
       ]
      },
      {
       "output_type": "stream",
       "stream": "stdout",
       "text": [
        " /home/brant/Downloads/L block 191 of 200 tmax: 5926.54813965\n",
        "file"
       ]
      },
      {
       "output_type": "stream",
       "stream": "stdout",
       "text": [
        " /home/brant/Downloads/L block 192 of 200 tmax: 5957.56916631\n",
        "file"
       ]
      },
      {
       "output_type": "stream",
       "stream": "stdout",
       "text": [
        " /home/brant/Downloads/L block 193 of 200 tmax: 5988.58397583\n",
        "file"
       ]
      },
      {
       "output_type": "stream",
       "stream": "stdout",
       "text": [
        " /home/brant/Downloads/L block 194 of 200 tmax: 6019.61987973\n",
        "file"
       ]
      },
      {
       "output_type": "stream",
       "stream": "stdout",
       "text": [
        " /home/brant/Downloads/L block 195 of 200 tmax: 6050.63471155\n",
        "file"
       ]
      },
      {
       "output_type": "stream",
       "stream": "stdout",
       "text": [
        " /home/brant/Downloads/L block 196 of 200 tmax: 6081.65646964\n",
        "file"
       ]
      },
      {
       "output_type": "stream",
       "stream": "stdout",
       "text": [
        " /home/brant/Downloads/L block 197 of 200 tmax: 6112.69436415\n",
        "file"
       ]
      },
      {
       "output_type": "stream",
       "stream": "stdout",
       "text": [
        " /home/brant/Downloads/L block 198 of 200 tmax: 6143.71311624\n",
        "file"
       ]
      },
      {
       "output_type": "stream",
       "stream": "stdout",
       "text": [
        " /home/brant/Downloads/L block 199 of 200 tmax: 6174.74601179\n",
        "file"
       ]
      },
      {
       "output_type": "stream",
       "stream": "stdout",
       "text": [
        " /home/brant/Downloads/M block 1 of 200 tmax: 6205.76430675\n",
        "file"
       ]
      },
      {
       "output_type": "stream",
       "stream": "stdout",
       "text": [
        " /home/brant/Downloads/M block 2 of 200 tmax: 6236.79052274\n",
        "file"
       ]
      },
      {
       "output_type": "stream",
       "stream": "stdout",
       "text": [
        " /home/brant/Downloads/M block 3 of 200 tmax: 6267.80407456\n",
        "file"
       ]
      },
      {
       "output_type": "stream",
       "stream": "stdout",
       "text": [
        " /home/brant/Downloads/M block 4 of 200 tmax: 6298.82568324\n",
        "file"
       ]
      },
      {
       "output_type": "stream",
       "stream": "stdout",
       "text": [
        " /home/brant/Downloads/M block 5 of 200 tmax: 6329.85453951\n",
        "file"
       ]
      },
      {
       "output_type": "stream",
       "stream": "stdout",
       "text": [
        " /home/brant/Downloads/M block 6 of 200 tmax: 6360.88604008\n",
        "file"
       ]
      },
      {
       "output_type": "stream",
       "stream": "stdout",
       "text": [
        " /home/brant/Downloads/M block 7 of 200 tmax: 6391.90763761\n",
        "file"
       ]
      },
      {
       "output_type": "stream",
       "stream": "stdout",
       "text": [
        " /home/brant/Downloads/M block 8 of 200 tmax: 6422.93559074\n",
        "file"
       ]
      },
      {
       "output_type": "stream",
       "stream": "stdout",
       "text": [
        " /home/brant/Downloads/M block 9 of 200 tmax: 6453.97214639\n",
        "file"
       ]
      },
      {
       "output_type": "stream",
       "stream": "stdout",
       "text": [
        " /home/brant/Downloads/M block 10 of 200 tmax: 6485.01215668\n",
        "file"
       ]
      },
      {
       "output_type": "stream",
       "stream": "stdout",
       "text": [
        " /home/brant/Downloads/M block 11 of 200 tmax: 6516.05391673\n",
        "file"
       ]
      },
      {
       "output_type": "stream",
       "stream": "stdout",
       "text": [
        " /home/brant/Downloads/M block 12 of 200 tmax: 6547.06497769\n",
        "file"
       ]
      },
      {
       "output_type": "stream",
       "stream": "stdout",
       "text": [
        " /home/brant/Downloads/M block 13 of 200 tmax: 6578.08802692\n",
        "file"
       ]
      },
      {
       "output_type": "stream",
       "stream": "stdout",
       "text": [
        " /home/brant/Downloads/M block 14 of 200 tmax: 6609.12411383\n",
        "file"
       ]
      },
      {
       "output_type": "stream",
       "stream": "stdout",
       "text": [
        " /home/brant/Downloads/M block 15 of 200 tmax: 6640.13546022\n",
        "file"
       ]
      },
      {
       "output_type": "stream",
       "stream": "stdout",
       "text": [
        " /home/brant/Downloads/M block 16 of 200 tmax: 6671.14871546\n",
        "file"
       ]
      },
      {
       "output_type": "stream",
       "stream": "stdout",
       "text": [
        " /home/brant/Downloads/M block 17 of 200 tmax: 6702.16947898\n",
        "file"
       ]
      },
      {
       "output_type": "stream",
       "stream": "stdout",
       "text": [
        " /home/brant/Downloads/M block 18 of 200 tmax: 6733.2128058\n",
        "file"
       ]
      },
      {
       "output_type": "stream",
       "stream": "stdout",
       "text": [
        " /home/brant/Downloads/M block 19 of 200 tmax: 6764.25613262\n",
        "file"
       ]
      },
      {
       "output_type": "stream",
       "stream": "stdout",
       "text": [
        " /home/brant/Downloads/M block 20 of 200 tmax: 6795.29296278\n",
        "file"
       ]
      },
      {
       "output_type": "stream",
       "stream": "stdout",
       "text": [
        " /home/brant/Downloads/M block 21 of 200 tmax: 6826.30826289\n",
        "file"
       ]
      },
      {
       "output_type": "stream",
       "stream": "stdout",
       "text": [
        " /home/brant/Downloads/M block 22 of 200 tmax: 6857.35067469\n",
        "file"
       ]
      },
      {
       "output_type": "stream",
       "stream": "stdout",
       "text": [
        " /home/brant/Downloads/M block 23 of 200 tmax: 6888.37402051\n",
        "file"
       ]
      },
      {
       "output_type": "stream",
       "stream": "stdout",
       "text": [
        " /home/brant/Downloads/M block 24 of 200 tmax: 6919.41284127\n",
        "file"
       ]
      },
      {
       "output_type": "stream",
       "stream": "stdout",
       "text": [
        " /home/brant/Downloads/M block 25 of 200 tmax: 6950.43878298\n",
        "file"
       ]
      },
      {
       "output_type": "stream",
       "stream": "stdout",
       "text": [
        " /home/brant/Downloads/M block 26 of 200 tmax: 6981.46609611\n",
        "file"
       ]
      },
      {
       "output_type": "stream",
       "stream": "stdout",
       "text": [
        " /home/brant/Downloads/M block 27 of 200 tmax: 7012.49796269\n",
        "file"
       ]
      },
      {
       "output_type": "stream",
       "stream": "stdout",
       "text": [
        " /home/brant/Downloads/M block 28 of 200 tmax: 7043.51141193\n",
        "file"
       ]
      },
      {
       "output_type": "stream",
       "stream": "stdout",
       "text": [
        " /home/brant/Downloads/M block 29 of 200 tmax: 7074.5375365\n",
        "file"
       ]
      },
      {
       "output_type": "stream",
       "stream": "stdout",
       "text": [
        " /home/brant/Downloads/M block 30 of 200 tmax: 7105.54888289\n",
        "file"
       ]
      },
      {
       "output_type": "stream",
       "stream": "stdout",
       "text": [
        " /home/brant/Downloads/M block 31 of 200 tmax: 7136.58753187\n",
        "file"
       ]
      },
      {
       "output_type": "stream",
       "stream": "stdout",
       "text": [
        " /home/brant/Downloads/M block 32 of 200 tmax: 7167.61940967\n",
        "file"
       ]
      },
      {
       "output_type": "stream",
       "stream": "stdout",
       "text": [
        " /home/brant/Downloads/M block 33 of 200 tmax: 7198.64939653\n",
        "file"
       ]
      },
      {
       "output_type": "stream",
       "stream": "stdout",
       "text": [
        " /home/brant/Downloads/M block 34 of 200 tmax: 7229.67425225\n",
        "file"
       ]
      },
      {
       "output_type": "stream",
       "stream": "stdout",
       "text": [
        " /home/brant/Downloads/M block 35 of 200 tmax: 7260.6944895\n",
        "file"
       ]
      },
      {
       "output_type": "stream",
       "stream": "stdout",
       "text": [
        " /home/brant/Downloads/M block 36 of 200 tmax: 7291.72619553\n",
        "file"
       ]
      },
      {
       "output_type": "stream",
       "stream": "stdout",
       "text": [
        " /home/brant/Downloads/M block 37 of 200 tmax: 7322.74900393\n",
        "file"
       ]
      },
      {
       "output_type": "stream",
       "stream": "stdout",
       "text": [
        " /home/brant/Downloads/M block 38 of 200 tmax: 7353.77349393\n",
        "file"
       ]
      },
      {
       "output_type": "stream",
       "stream": "stdout",
       "text": [
        " /home/brant/Downloads/M block 39 of 200 tmax: 7384.80400706\n",
        "file"
       ]
      },
      {
       "output_type": "stream",
       "stream": "stdout",
       "text": [
        " /home/brant/Downloads/M block 40 of 200 tmax: 7415.8219363\n",
        "file"
       ]
      },
      {
       "output_type": "stream",
       "stream": "stdout",
       "text": [
        " /home/brant/Downloads/M block 41 of 200 tmax: 7446.84437899\n",
        "file"
       ]
      },
      {
       "output_type": "stream",
       "stream": "stdout",
       "text": [
        " /home/brant/Downloads/M block 42 of 200 tmax: 7477.87871613\n",
        "file"
       ]
      },
      {
       "output_type": "stream",
       "stream": "stdout",
       "text": [
        " /home/brant/Downloads/M block 43 of 200 tmax: 7508.90413157\n",
        "file"
       ]
      },
      {
       "output_type": "stream",
       "stream": "stdout",
       "text": [
        " /home/brant/Downloads/M block 44 of 200 tmax: 7539.92143196\n",
        "file"
       ]
      },
      {
       "output_type": "stream",
       "stream": "stdout",
       "text": [
        " /home/brant/Downloads/M block 45 of 200 tmax: 7570.9568093\n",
        "file"
       ]
      },
      {
       "output_type": "stream",
       "stream": "stdout",
       "text": [
        " /home/brant/Downloads/M block 46 of 200 tmax: 7601.97054398\n",
        "file"
       ]
      },
      {
       "output_type": "stream",
       "stream": "stdout",
       "text": [
        " /home/brant/Downloads/M block 47 of 200 tmax: 7632.99105552\n",
        "file"
       ]
      },
      {
       "output_type": "stream",
       "stream": "stdout",
       "text": [
        " /home/brant/Downloads/M block 48 of 200 tmax: 7664.03729919\n",
        "file"
       ]
      },
      {
       "output_type": "stream",
       "stream": "stdout",
       "text": [
        " /home/brant/Downloads/M block 49 of 200 tmax: 7695.06799869\n",
        "file"
       ]
      },
      {
       "output_type": "stream",
       "stream": "stdout",
       "text": [
        " /home/brant/Downloads/M block 50 of 200 tmax: 7726.08676194\n",
        "file"
       ]
      },
      {
       "output_type": "stream",
       "stream": "stdout",
       "text": [
        " /home/brant/Downloads/M block 51 of 200 tmax: 7757.1354874\n",
        "file"
       ]
      },
      {
       "output_type": "stream",
       "stream": "stdout",
       "text": [
        " /home/brant/Downloads/M block 52 of 200 tmax: 7788.1663699\n",
        "file"
       ]
      },
      {
       "output_type": "stream",
       "stream": "stdout",
       "text": [
        " /home/brant/Downloads/M block 53 of 200 tmax: 7819.17891601\n",
        "file"
       ]
      },
      {
       "output_type": "stream",
       "stream": "stdout",
       "text": [
        " /home/brant/Downloads/M block 54 of 200 tmax: 7850.226887\n",
        "file"
       ]
      },
      {
       "output_type": "stream",
       "stream": "stdout",
       "text": [
        " /home/brant/Downloads/M block 55 of 200 tmax: 7881.27311945\n",
        "file"
       ]
      },
      {
       "output_type": "stream",
       "stream": "stdout",
       "text": [
        " /home/brant/Downloads/M block 56 of 200 tmax: 7912.31669833\n",
        "file"
       ]
      },
      {
       "output_type": "stream",
       "stream": "stdout",
       "text": [
        " /home/brant/Downloads/M block 57 of 200 tmax: 7943.33217015\n",
        "file"
       ]
      },
      {
       "output_type": "stream",
       "stream": "stdout",
       "text": [
        " /home/brant/Downloads/M block 58 of 200 tmax: 7974.3543274\n",
        "file"
       ]
      },
      {
       "output_type": "stream",
       "stream": "stdout",
       "text": [
        " /home/brant/Downloads/M block 59 of 200 tmax: 8005.37639322\n",
        "file"
       ]
      },
      {
       "output_type": "stream",
       "stream": "stdout",
       "text": [
        " /home/brant/Downloads/M block 60 of 200 tmax: 8036.42373492\n",
        "file"
       ]
      },
      {
       "output_type": "stream",
       "stream": "stdout",
       "text": [
        " /home/brant/Downloads/M block 61 of 200 tmax: 8067.45652775\n",
        "file"
       ]
      },
      {
       "output_type": "stream",
       "stream": "stdout",
       "text": [
        " /home/brant/Downloads/M block 62 of 200 tmax: 8098.50505898\n",
        "file"
       ]
      },
      {
       "output_type": "stream",
       "stream": "stdout",
       "text": [
        " /home/brant/Downloads/M block 63 of 200 tmax: 8129.54296471\n",
        "file"
       ]
      },
      {
       "output_type": "stream",
       "stream": "stdout",
       "text": [
        " /home/brant/Downloads/M block 64 of 200 tmax: 8160.56953527\n",
        "file"
       ]
      },
      {
       "output_type": "stream",
       "stream": "stdout",
       "text": [
        " /home/brant/Downloads/M block 65 of 200 tmax: 8191.59131565\n",
        "file"
       ]
      },
      {
       "output_type": "stream",
       "stream": "stdout",
       "text": [
        " /home/brant/Downloads/M block 66 of 200 tmax: 8222.60697033\n",
        "file"
       ]
      },
      {
       "output_type": "stream",
       "stream": "stdout",
       "text": [
        " /home/brant/Downloads/M block 67 of 200 tmax: 8253.65542129\n",
        "file"
       ]
      },
      {
       "output_type": "stream",
       "stream": "stdout",
       "text": [
        " /home/brant/Downloads/M block 68 of 200 tmax: 8284.67656167\n",
        "file"
       ]
      },
      {
       "output_type": "stream",
       "stream": "stdout",
       "text": [
        " /home/brant/Downloads/M block 69 of 200 tmax: 8315.70579481\n",
        "file"
       ]
      },
      {
       "output_type": "stream",
       "stream": "stdout",
       "text": [
        " /home/brant/Downloads/M block 70 of 200 tmax: 8346.74277429\n",
        "file"
       ]
      },
      {
       "output_type": "stream",
       "stream": "stdout",
       "text": [
        " /home/brant/Downloads/M block 71 of 200 tmax: 8377.78562115\n",
        "file"
       ]
      },
      {
       "output_type": "stream",
       "stream": "stdout",
       "text": [
        " /home/brant/Downloads/M block 72 of 200 tmax: 8408.80097924\n",
        "file"
       ]
      },
      {
       "output_type": "stream",
       "stream": "stdout",
       "text": [
        " /home/brant/Downloads/M block 73 of 200 tmax: 8439.83186174\n",
        "file"
       ]
      },
      {
       "output_type": "stream",
       "stream": "stdout",
       "text": [
        " /home/brant/Downloads/M block 74 of 200 tmax: 8470.85134526\n",
        "file"
       ]
      },
      {
       "output_type": "stream",
       "stream": "stdout",
       "text": [
        " /home/brant/Downloads/M block 75 of 200 tmax: 8501.88422959\n",
        "file"
       ]
      },
      {
       "output_type": "stream",
       "stream": "stdout",
       "text": [
        " /home/brant/Downloads/M block 76 of 200 tmax: 8532.89715257\n",
        "file"
       ]
      },
      {
       "output_type": "stream",
       "stream": "stdout",
       "text": [
        " /home/brant/Downloads/M block 77 of 200 tmax: 8563.934063\n",
        "file"
       ]
      },
      {
       "output_type": "stream",
       "stream": "stdout",
       "text": [
        " /home/brant/Downloads/M block 78 of 200 tmax: 8594.97390151\n",
        "file"
       ]
      },
      {
       "output_type": "stream",
       "stream": "stdout",
       "text": [
        " /home/brant/Downloads/M block 79 of 200 tmax: 8626.00577931\n",
        "file"
       ]
      },
      {
       "output_type": "stream",
       "stream": "stdout",
       "text": [
        " /home/brant/Downloads/M block 80 of 200 tmax: 8657.04279247\n",
        "file"
       ]
      },
      {
       "output_type": "stream",
       "stream": "stdout",
       "text": [
        " /home/brant/Downloads/M block 81 of 200 tmax: 8688.07165989\n",
        "file"
       ]
      },
      {
       "output_type": "stream",
       "stream": "stdout",
       "text": [
        " /home/brant/Downloads/M block 82 of 200 tmax: 8719.09022913\n",
        "file"
       ]
      },
      {
       "output_type": "stream",
       "stream": "stdout",
       "text": [
        " /home/brant/Downloads/M block 83 of 200 tmax: 8750.10430722\n",
        "file"
       ]
      },
      {
       "output_type": "stream",
       "stream": "stdout",
       "text": [
        " /home/brant/Downloads/M block 84 of 200 tmax: 8781.13525878\n",
        "file"
       ]
      },
      {
       "output_type": "stream",
       "stream": "stdout",
       "text": [
        " /home/brant/Downloads/M block 85 of 200 tmax: 8812.16638211\n",
        "file"
       ]
      },
      {
       "output_type": "stream",
       "stream": "stdout",
       "text": [
        " /home/brant/Downloads/M block 86 of 200 tmax: 8843.18111135\n",
        "file"
       ]
      },
      {
       "output_type": "stream",
       "stream": "stdout",
       "text": [
        " /home/brant/Downloads/M block 87 of 200 tmax: 8874.19693774\n",
        "file"
       ]
      },
      {
       "output_type": "stream",
       "stream": "stdout",
       "text": [
        " /home/brant/Downloads/M block 88 of 200 tmax: 8905.21460384\n",
        "file"
       ]
      },
      {
       "output_type": "stream",
       "stream": "stdout",
       "text": [
        " /home/brant/Downloads/M block 89 of 200 tmax: 8936.23077364\n",
        "file"
       ]
      },
      {
       "output_type": "stream",
       "stream": "stdout",
       "text": [
        " /home/brant/Downloads/M block 90 of 200 tmax: 8967.24841744\n",
        "file"
       ]
      },
      {
       "output_type": "stream",
       "stream": "stdout",
       "text": [
        " /home/brant/Downloads/M block 91 of 200 tmax: 8998.29355186\n",
        "file"
       ]
      },
      {
       "output_type": "stream",
       "stream": "stdout",
       "text": [
        " /home/brant/Downloads/M block 92 of 200 tmax: 9029.31614395\n",
        "file"
       ]
      },
      {
       "output_type": "stream",
       "stream": "stdout",
       "text": [
        " /home/brant/Downloads/M block 93 of 200 tmax: 9060.36310841\n",
        "file"
       ]
      },
      {
       "output_type": "stream",
       "stream": "stdout",
       "text": [
        " /home/brant/Downloads/M block 94 of 200 tmax: 9091.4071448\n",
        "file"
       ]
      },
      {
       "output_type": "stream",
       "stream": "stdout",
       "text": [
        " /home/brant/Downloads/M block 95 of 200 tmax: 9122.44039514\n",
        "file"
       ]
      },
      {
       "output_type": "stream",
       "stream": "stdout",
       "text": [
        " /home/brant/Downloads/M block 96 of 200 tmax: 9153.45977608\n",
        "file"
       ]
      },
      {
       "output_type": "stream",
       "stream": "stdout",
       "text": [
        " /home/brant/Downloads/M block 97 of 200 tmax: 9184.47807104\n",
        "file"
       ]
      },
      {
       "output_type": "stream",
       "stream": "stdout",
       "text": [
        " /home/brant/Downloads/M block 98 of 200 tmax: 9215.51066963\n",
        "file"
       ]
      },
      {
       "output_type": "stream",
       "stream": "stdout",
       "text": [
        " /home/brant/Downloads/M block 99 of 200 tmax: 9246.53507112\n",
        "file"
       ]
      },
      {
       "output_type": "stream",
       "stream": "stdout",
       "text": [
        " /home/brant/Downloads/M block 100 of 200 tmax: 9277.58194409\n",
        "file"
       ]
      },
      {
       "output_type": "stream",
       "stream": "stdout",
       "text": [
        " /home/brant/Downloads/M block 101 of 200 tmax: 9308.60787464\n",
        "file"
       ]
      },
      {
       "output_type": "stream",
       "stream": "stdout",
       "text": [
        " /home/brant/Downloads/M block 102 of 200 tmax: 9339.63518778\n",
        "file"
       ]
      },
      {
       "output_type": "stream",
       "stream": "stdout",
       "text": [
        " /home/brant/Downloads/M block 103 of 200 tmax: 9370.66605906\n",
        "file"
       ]
      },
      {
       "output_type": "stream",
       "stream": "stdout",
       "text": [
        " /home/brant/Downloads/M block 104 of 200 tmax: 9401.7013915\n",
        "file"
       ]
      },
      {
       "output_type": "stream",
       "stream": "stdout",
       "text": [
        " /home/brant/Downloads/M block 105 of 200 tmax: 9432.71812102\n",
        "file"
       ]
      },
      {
       "output_type": "stream",
       "stream": "stdout",
       "text": [
        " /home/brant/Downloads/M block 106 of 200 tmax: 9463.73805053\n",
        "file"
       ]
      },
      {
       "output_type": "stream",
       "stream": "stdout",
       "text": [
        " /home/brant/Downloads/M block 107 of 200 tmax: 9494.76378708\n",
        "file"
       ]
      },
      {
       "output_type": "stream",
       "stream": "stdout",
       "text": [
        " /home/brant/Downloads/M block 108 of 200 tmax: 9525.7919922\n",
        "file"
       ]
      },
      {
       "output_type": "stream",
       "stream": "stdout",
       "text": [
        " /home/brant/Downloads/M block 109 of 200 tmax: 9556.81129286\n",
        "file"
       ]
      },
      {
       "output_type": "stream",
       "stream": "stdout",
       "text": [
        " /home/brant/Downloads/M block 110 of 200 tmax: 9587.85980164\n",
        "file"
       ]
      },
      {
       "output_type": "stream",
       "stream": "stdout",
       "text": [
        " /home/brant/Downloads/M block 111 of 200 tmax: 9618.90181376\n",
        "file"
       ]
      },
      {
       "output_type": "stream",
       "stream": "stdout",
       "text": [
        " /home/brant/Downloads/M block 112 of 200 tmax: 9649.92821261\n",
        "file"
       ]
      },
      {
       "output_type": "stream",
       "stream": "stdout",
       "text": [
        " /home/brant/Downloads/M block 113 of 200 tmax: 9680.95908388\n",
        "file"
       ]
      },
      {
       "output_type": "stream",
       "stream": "stdout",
       "text": [
        " /home/brant/Downloads/M block 114 of 200 tmax: 9711.97929883\n",
        "file"
       ]
      },
      {
       "output_type": "stream",
       "stream": "stdout",
       "text": [
        " /home/brant/Downloads/M block 115 of 200 tmax: 9742.99218836\n",
        "file"
       ]
      },
      {
       "output_type": "stream",
       "stream": "stdout",
       "text": [
        " /home/brant/Downloads/M block 116 of 200 tmax: 9774.01459759\n",
        "file"
       ]
      },
      {
       "output_type": "stream",
       "stream": "stdout",
       "text": [
        " /home/brant/Downloads/M block 117 of 200 tmax: 9805.0602698\n",
        "file"
       ]
      },
      {
       "output_type": "stream",
       "stream": "stdout",
       "text": [
        " /home/brant/Downloads/M block 118 of 200 tmax: 9836.08267903\n",
        "file"
       ]
      },
      {
       "output_type": "stream",
       "stream": "stdout",
       "text": [
        " /home/brant/Downloads/M block 119 of 200 tmax: 9867.12332983\n",
        "file"
       ]
      },
      {
       "output_type": "stream",
       "stream": "stdout",
       "text": [
        " /home/brant/Downloads/M block 120 of 200 tmax: 9898.15119154\n",
        "file"
       ]
      },
      {
       "output_type": "stream",
       "stream": "stdout",
       "text": [
        " /home/brant/Downloads/M block 121 of 200 tmax: 9929.19787027\n",
        "file"
       ]
      },
      {
       "output_type": "stream",
       "stream": "stdout",
       "text": [
        " /home/brant/Downloads/M block 122 of 200 tmax: 9960.24594399\n",
        "file"
       ]
      },
      {
       "output_type": "stream",
       "stream": "stdout",
       "text": [
        " /home/brant/Downloads/M block 123 of 200 tmax: 9991.29126142\n",
        "file"
       ]
      },
      {
       "output_type": "stream",
       "stream": "stdout",
       "text": [
        " /home/brant/Downloads/M block 124 of 200 tmax: 10022.3189403\n",
        "file"
       ]
      },
      {
       "output_type": "stream",
       "stream": "stdout",
       "text": [
        " /home/brant/Downloads/M block 125 of 200 tmax: 10053.3303892\n",
        "file"
       ]
      },
      {
       "output_type": "stream",
       "stream": "stdout",
       "text": [
        " /home/brant/Downloads/M block 126 of 200 tmax: 10084.3683752\n",
        "file"
       ]
      },
      {
       "output_type": "stream",
       "stream": "stdout",
       "text": [
        " /home/brant/Downloads/M block 127 of 200 tmax: 10115.4044285\n",
        "file"
       ]
      },
      {
       "output_type": "stream",
       "stream": "stdout",
       "text": [
        " /home/brant/Downloads/M block 128 of 200 tmax: 10146.4492884\n",
        "file"
       ]
      },
      {
       "output_type": "stream",
       "stream": "stdout",
       "text": [
        " /home/brant/Downloads/M block 129 of 200 tmax: 10177.4761332\n",
        "file"
       ]
      },
      {
       "output_type": "stream",
       "stream": "stdout",
       "text": [
        " /home/brant/Downloads/M block 130 of 200 tmax: 10208.5121174\n",
        "file"
       ]
      },
      {
       "output_type": "stream",
       "stream": "stdout",
       "text": [
        " /home/brant/Downloads/M block 131 of 200 tmax: 10239.5245721\n",
        "file"
       ]
      },
      {
       "output_type": "stream",
       "stream": "stdout",
       "text": [
        " /home/brant/Downloads/M block 132 of 200 tmax: 10270.5582687\n",
        "file"
       ]
      },
      {
       "output_type": "stream",
       "stream": "stdout",
       "text": [
        " /home/brant/Downloads/M block 133 of 200 tmax: 10301.5844736\n",
        "file"
       ]
      },
      {
       "output_type": "stream",
       "stream": "stdout",
       "text": [
        " /home/brant/Downloads/M block 134 of 200 tmax: 10332.6237406\n",
        "file"
       ]
      },
      {
       "output_type": "stream",
       "stream": "stdout",
       "text": [
        " /home/brant/Downloads/M block 135 of 200 tmax: 10363.6650544\n",
        "file"
       ]
      },
      {
       "output_type": "stream",
       "stream": "stdout",
       "text": [
        " /home/brant/Downloads/M block 136 of 200 tmax: 10394.6899792\n",
        "file"
       ]
      },
      {
       "output_type": "stream",
       "stream": "stdout",
       "text": [
        " /home/brant/Downloads/M block 137 of 200 tmax: 10425.7200575\n",
        "file"
       ]
      },
      {
       "output_type": "stream",
       "stream": "stdout",
       "text": [
        " /home/brant/Downloads/M block 138 of 200 tmax: 10456.7575972\n",
        "file"
       ]
      },
      {
       "output_type": "stream",
       "stream": "stdout",
       "text": [
        " /home/brant/Downloads/M block 139 of 200 tmax: 10487.805305\n",
        "file"
       ]
      },
      {
       "output_type": "stream",
       "stream": "stdout",
       "text": [
        " /home/brant/Downloads/M block 140 of 200 tmax: 10518.820663\n",
        "file"
       ]
      },
      {
       "output_type": "stream",
       "stream": "stdout",
       "text": [
        " /home/brant/Downloads/M block 141 of 200 tmax: 10549.8457128\n",
        "file"
       ]
      },
      {
       "output_type": "stream",
       "stream": "stdout",
       "text": [
        " /home/brant/Downloads/M block 142 of 200 tmax: 10580.8817997\n",
        "file"
       ]
      },
      {
       "output_type": "stream",
       "stream": "stdout",
       "text": [
        " /home/brant/Downloads/M block 143 of 200 tmax: 10611.8997289\n",
        "file"
       ]
      },
      {
       "output_type": "stream",
       "stream": "stdout",
       "text": [
        " /home/brant/Downloads/M block 144 of 200 tmax: 10642.9469903\n",
        "file"
       ]
      },
      {
       "output_type": "stream",
       "stream": "stdout",
       "text": [
        " /home/brant/Downloads/M block 145 of 200 tmax: 10673.9841977\n",
        "file"
       ]
      },
      {
       "output_type": "stream",
       "stream": "stdout",
       "text": [
        " /home/brant/Downloads/M block 146 of 200 tmax: 10705.0314367\n",
        "file"
       ]
      },
      {
       "output_type": "stream",
       "stream": "stdout",
       "text": [
        " /home/brant/Downloads/M block 147 of 200 tmax: 10736.0522002\n",
        "file"
       ]
      },
      {
       "output_type": "stream",
       "stream": "stdout",
       "text": [
        " /home/brant/Downloads/M block 148 of 200 tmax: 10767.0725512\n",
        "file"
       ]
      },
      {
       "output_type": "stream",
       "stream": "stdout",
       "text": [
        " /home/brant/Downloads/M block 149 of 200 tmax: 10798.0892004\n",
        "file"
       ]
      },
      {
       "output_type": "stream",
       "stream": "stdout",
       "text": [
        " /home/brant/Downloads/M block 150 of 200 tmax: 10829.1240754\n",
        "file"
       ]
      },
      {
       "output_type": "stream",
       "stream": "stdout",
       "text": [
        " /home/brant/Downloads/M block 151 of 200 tmax: 10860.1471135\n",
        "file"
       ]
      },
      {
       "output_type": "stream",
       "stream": "stdout",
       "text": [
        " /home/brant/Downloads/M block 152 of 200 tmax: 10891.1840239\n",
        "file"
       ]
      },
      {
       "output_type": "stream",
       "stream": "stdout",
       "text": [
        " /home/brant/Downloads/M block 153 of 200 tmax: 10922.2146173\n",
        "file"
       ]
      },
      {
       "output_type": "stream",
       "stream": "stdout",
       "text": [
        " /home/brant/Downloads/M block 154 of 200 tmax: 10953.2575557\n",
        "file"
       ]
      },
      {
       "output_type": "stream",
       "stream": "stdout",
       "text": [
        " /home/brant/Downloads/M block 155 of 200 tmax: 10984.2741023\n",
        "file"
       ]
      },
      {
       "output_type": "stream",
       "stream": "stdout",
       "text": [
        " /home/brant/Downloads/M block 156 of 200 tmax: 11015.2865459\n",
        "file"
       ]
      },
      {
       "output_type": "stream",
       "stream": "stdout",
       "text": [
        " /home/brant/Downloads/M block 157 of 200 tmax: 11046.3263731\n",
        "file"
       ]
      },
      {
       "output_type": "stream",
       "stream": "stdout",
       "text": [
        " /home/brant/Downloads/M block 158 of 200 tmax: 11077.3624376\n",
        "file"
       ]
      },
      {
       "output_type": "stream",
       "stream": "stdout",
       "text": [
        " /home/brant/Downloads/M block 159 of 200 tmax: 11108.3824585\n",
        "file"
       ]
      },
      {
       "output_type": "stream",
       "stream": "stdout",
       "text": [
        " /home/brant/Downloads/M block 160 of 200 tmax: 11139.3962044\n",
        "file"
       ]
      },
      {
       "output_type": "stream",
       "stream": "stdout",
       "text": [
        " /home/brant/Downloads/M block 161 of 200 tmax: 11170.4281737\n",
        "file"
       ]
      },
      {
       "output_type": "stream",
       "stream": "stdout",
       "text": [
        " /home/brant/Downloads/M block 162 of 200 tmax: 11201.4715696\n",
        "file"
       ]
      },
      {
       "output_type": "stream",
       "stream": "stdout",
       "text": [
        " /home/brant/Downloads/M block 163 of 200 tmax: 11232.5062727\n",
        "file"
       ]
      },
      {
       "output_type": "stream",
       "stream": "stdout",
       "text": [
        " /home/brant/Downloads/M block 164 of 200 tmax: 11263.5198134\n",
        "file"
       ]
      },
      {
       "output_type": "stream",
       "stream": "stdout",
       "text": [
        " /home/brant/Downloads/M block 165 of 200 tmax: 11294.5506734\n",
        "file"
       ]
      },
      {
       "output_type": "stream",
       "stream": "stdout",
       "text": [
        " /home/brant/Downloads/M block 166 of 200 tmax: 11325.5639287\n",
        "file"
       ]
      },
      {
       "output_type": "stream",
       "stream": "stdout",
       "text": [
        " /home/brant/Downloads/M block 167 of 200 tmax: 11356.5858116\n",
        "file"
       ]
      },
      {
       "output_type": "stream",
       "stream": "stdout",
       "text": [
        " /home/brant/Downloads/M block 168 of 200 tmax: 11387.6169799\n",
        "file"
       ]
      },
      {
       "output_type": "stream",
       "stream": "stdout",
       "text": [
        " /home/brant/Downloads/M block 169 of 200 tmax: 11418.6351031\n",
        "file"
       ]
      },
      {
       "output_type": "stream",
       "stream": "stdout",
       "text": [
        " /home/brant/Downloads/M block 170 of 200 tmax: 11449.6479926\n",
        "file"
       ]
      },
      {
       "output_type": "stream",
       "stream": "stdout",
       "text": [
        " /home/brant/Downloads/M block 171 of 200 tmax: 11480.684285\n",
        "file"
       ]
      },
      {
       "output_type": "stream",
       "stream": "stdout",
       "text": [
        " /home/brant/Downloads/M block 172 of 200 tmax: 11511.707254\n",
        "file"
       ]
      },
      {
       "output_type": "stream",
       "stream": "stdout",
       "text": [
        " /home/brant/Downloads/M block 173 of 200 tmax: 11542.739395\n",
        "file"
       ]
      },
      {
       "output_type": "stream",
       "stream": "stdout",
       "text": [
        " /home/brant/Downloads/M block 174 of 200 tmax: 11573.7556094\n",
        "file"
       ]
      },
      {
       "output_type": "stream",
       "stream": "stdout",
       "text": [
        " /home/brant/Downloads/M block 175 of 200 tmax: 11604.8001033\n",
        "file"
       ]
      },
      {
       "output_type": "stream",
       "stream": "stdout",
       "text": [
        " /home/brant/Downloads/M block 176 of 200 tmax: 11635.8319811\n",
        "file"
       ]
      },
      {
       "output_type": "stream",
       "stream": "stdout",
       "text": [
        " /home/brant/Downloads/M block 177 of 200 tmax: 11666.86466\n",
        "file"
       ]
      },
      {
       "output_type": "stream",
       "stream": "stdout",
       "text": [
        " /home/brant/Downloads/M block 178 of 200 tmax: 11697.8761781\n",
        "file"
       ]
      },
      {
       "output_type": "stream",
       "stream": "stdout",
       "text": [
        " /home/brant/Downloads/M block 179 of 200 tmax: 11728.9115218\n",
        "file"
       ]
      },
      {
       "output_type": "stream",
       "stream": "stdout",
       "text": [
        " /home/brant/Downloads/M block 180 of 200 tmax: 11759.925805\n",
        "file"
       ]
      },
      {
       "output_type": "stream",
       "stream": "stdout",
       "text": [
        " /home/brant/Downloads/M block 181 of 200 tmax: 11790.948076\n",
        "file"
       ]
      },
      {
       "output_type": "stream",
       "stream": "stdout",
       "text": [
        " /home/brant/Downloads/M block 182 of 200 tmax: 11821.9823216\n",
        "file"
       ]
      },
      {
       "output_type": "stream",
       "stream": "stdout",
       "text": [
        " /home/brant/Downloads/M block 183 of 200 tmax: 11853.0260723\n",
        "file"
       ]
      },
      {
       "output_type": "stream",
       "stream": "stdout",
       "text": [
        " /home/brant/Downloads/M block 184 of 200 tmax: 11884.042813\n",
        "file"
       ]
      },
      {
       "output_type": "stream",
       "stream": "stdout",
       "text": [
        " /home/brant/Downloads/M block 185 of 200 tmax: 11915.0866085\n",
        "file"
       ]
      },
      {
       "output_type": "stream",
       "stream": "stdout",
       "text": [
        " /home/brant/Downloads/M block 186 of 200 tmax: 11946.1136474\n",
        "file"
       ]
      },
      {
       "output_type": "stream",
       "stream": "stdout",
       "text": [
        " /home/brant/Downloads/M block 187 of 200 tmax: 11977.1588733\n",
        "file"
       ]
      },
      {
       "output_type": "stream",
       "stream": "stdout",
       "text": [
        " /home/brant/Downloads/M block 188 of 200 tmax: 12008.1960582\n",
        "file"
       ]
      },
      {
       "output_type": "stream",
       "stream": "stdout",
       "text": [
        " /home/brant/Downloads/M block 189 of 200 tmax: 12039.2096903\n",
        "file"
       ]
      },
      {
       "output_type": "stream",
       "stream": "stdout",
       "text": [
        " /home/brant/Downloads/M block 190 of 200 tmax: 12070.2529032\n",
        "file"
       ]
      },
      {
       "output_type": "stream",
       "stream": "stdout",
       "text": [
        " /home/brant/Downloads/M block 191 of 200 tmax: 12101.2666379\n",
        "file"
       ]
      },
      {
       "output_type": "stream",
       "stream": "stdout",
       "text": [
        " /home/brant/Downloads/M block 192 of 200 tmax: 12132.2937682\n",
        "file"
       ]
      },
      {
       "output_type": "stream",
       "stream": "stdout",
       "text": [
        " /home/brant/Downloads/M block 193 of 200 tmax: 12163.3137088\n",
        "file"
       ]
      },
      {
       "output_type": "stream",
       "stream": "stdout",
       "text": [
        " /home/brant/Downloads/M block 194 of 200 tmax: 12194.3257867\n",
        "file"
       ]
      },
      {
       "output_type": "stream",
       "stream": "stdout",
       "text": [
        " /home/brant/Downloads/M block 195 of 200 tmax: 12225.3425385\n",
        "file"
       ]
      },
      {
       "output_type": "stream",
       "stream": "stdout",
       "text": [
        " /home/brant/Downloads/M block 196 of 200 tmax: 12256.3821715\n",
        "file"
       ]
      },
      {
       "output_type": "stream",
       "stream": "stdout",
       "text": [
        " /home/brant/Downloads/M block 197 of 200 tmax: 12287.4140381\n",
        "file"
       ]
      },
      {
       "output_type": "stream",
       "stream": "stdout",
       "text": [
        " /home/brant/Downloads/M block 198 of 200 tmax: 12318.4393978\n",
        "file"
       ]
      },
      {
       "output_type": "stream",
       "stream": "stdout",
       "text": [
        " /home/brant/Downloads/M block 199 of 200 tmax: 12349.4839832\n",
        "file"
       ]
      },
      {
       "output_type": "stream",
       "stream": "stdout",
       "text": [
        " /home/brant/Downloads/N block 1 of 200 tmax: 12380.5299524\n",
        "file"
       ]
      },
      {
       "output_type": "stream",
       "stream": "stdout",
       "text": [
        " /home/brant/Downloads/N block 2 of 200 tmax: 12411.5557112\n",
        "file"
       ]
      },
      {
       "output_type": "stream",
       "stream": "stdout",
       "text": [
        " /home/brant/Downloads/N block 3 of 200 tmax: 12442.5744745\n",
        "file"
       ]
      },
      {
       "output_type": "stream",
       "stream": "stdout",
       "text": [
        " /home/brant/Downloads/N block 4 of 200 tmax: 12473.6187854\n",
        "file"
       ]
      },
      {
       "output_type": "stream",
       "stream": "stdout",
       "text": [
        " /home/brant/Downloads/N block 5 of 200 tmax: 12504.6598134\n",
        "file"
       ]
      },
      {
       "output_type": "stream",
       "stream": "stdout",
       "text": [
        " /home/brant/Downloads/N block 6 of 200 tmax: 12535.6783024\n",
        "file"
       ]
      },
      {
       "output_type": "stream",
       "stream": "stdout",
       "text": [
        " /home/brant/Downloads/N block 7 of 200 tmax: 12566.7227272\n",
        "file"
       ]
      },
      {
       "output_type": "stream",
       "stream": "stdout",
       "text": [
        " /home/brant/Downloads/N block 8 of 200 tmax: 12597.7406787\n",
        "file"
       ]
      },
      {
       "output_type": "stream",
       "stream": "stdout",
       "text": [
        " /home/brant/Downloads/N block 9 of 200 tmax: 12628.7665402\n",
        "file"
       ]
      },
      {
       "output_type": "stream",
       "stream": "stdout",
       "text": [
        " /home/brant/Downloads/N block 10 of 200 tmax: 12659.800797\n",
        "file"
       ]
      },
      {
       "output_type": "stream",
       "stream": "stdout",
       "text": [
        " /home/brant/Downloads/N block 11 of 200 tmax: 12690.8397205\n",
        "file"
       ]
      },
      {
       "output_type": "stream",
       "stream": "stdout",
       "text": [
        " /home/brant/Downloads/N block 12 of 200 tmax: 12721.8836654\n",
        "file"
       ]
      },
      {
       "output_type": "stream",
       "stream": "stdout",
       "text": [
        " /home/brant/Downloads/N block 13 of 200 tmax: 12752.924968\n",
        "file"
       ]
      },
      {
       "output_type": "stream",
       "stream": "stdout",
       "text": [
        " /home/brant/Downloads/N block 14 of 200 tmax: 12783.9416172\n",
        "file"
       ]
      },
      {
       "output_type": "stream",
       "stream": "stdout",
       "text": [
        " /home/brant/Downloads/N block 15 of 200 tmax: 12814.9609179\n",
        "file"
       ]
      },
      {
       "output_type": "stream",
       "stream": "stdout",
       "text": [
        " /home/brant/Downloads/N block 16 of 200 tmax: 12846.0069673\n",
        "file"
       ]
      },
      {
       "output_type": "stream",
       "stream": "stdout",
       "text": [
        " /home/brant/Downloads/N block 17 of 200 tmax: 12877.0292963\n",
        "file"
       ]
      },
      {
       "output_type": "stream",
       "stream": "stdout",
       "text": [
        " /home/brant/Downloads/N block 18 of 200 tmax: 12908.0651777\n",
        "file"
       ]
      },
      {
       "output_type": "stream",
       "stream": "stdout",
       "text": [
        " /home/brant/Downloads/N block 19 of 200 tmax: 12939.0784441\n",
        "file"
       ]
      },
      {
       "output_type": "stream",
       "stream": "stdout",
       "text": [
        " /home/brant/Downloads/N block 20 of 200 tmax: 12970.1092127\n",
        "file"
       ]
      },
      {
       "output_type": "stream",
       "stream": "stdout",
       "text": [
        " /home/brant/Downloads/N block 21 of 200 tmax: 13001.1508812\n",
        "file"
       ]
      },
      {
       "output_type": "stream",
       "stream": "stdout",
       "text": [
        " /home/brant/Downloads/N block 22 of 200 tmax: 13032.1721242\n",
        "file"
       ]
      },
      {
       "output_type": "stream",
       "stream": "stdout",
       "text": [
        " /home/brant/Downloads/N block 23 of 200 tmax: 13063.1957331\n",
        "file"
       ]
      },
      {
       "output_type": "stream",
       "stream": "stdout",
       "text": [
        " /home/brant/Downloads/N block 24 of 200 tmax: 13094.2228634\n",
        "file"
       ]
      },
      {
       "output_type": "stream",
       "stream": "stdout",
       "text": [
        " /home/brant/Downloads/N block 25 of 200 tmax: 13125.2409867\n",
        "file"
       ]
      },
      {
       "output_type": "stream",
       "stream": "stdout",
       "text": [
        " /home/brant/Downloads/N block 26 of 200 tmax: 13156.2634182\n",
        "file"
       ]
      },
      {
       "output_type": "stream",
       "stream": "stdout",
       "text": [
        " /home/brant/Downloads/N block 27 of 200 tmax: 13187.280616\n",
        "file"
       ]
      },
      {
       "output_type": "stream",
       "stream": "stdout",
       "text": [
        " /home/brant/Downloads/N block 28 of 200 tmax: 13218.3274087\n",
        "file"
       ]
      },
      {
       "output_type": "stream",
       "stream": "stdout",
       "text": [
        " /home/brant/Downloads/N block 29 of 200 tmax: 13249.3611968\n",
        "file"
       ]
      },
      {
       "output_type": "stream",
       "stream": "stdout",
       "text": [
        " /home/brant/Downloads/N block 30 of 200 tmax: 13280.397364\n",
        "file"
       ]
      },
      {
       "output_type": "stream",
       "stream": "stdout",
       "text": [
        " /home/brant/Downloads/N block 31 of 200 tmax: 13311.4426814\n",
        "file"
       ]
      },
      {
       "output_type": "stream",
       "stream": "stdout",
       "text": [
        " /home/brant/Downloads/N block 32 of 200 tmax: 13342.4760923\n",
        "file"
       ]
      },
      {
       "output_type": "stream",
       "stream": "stdout",
       "text": [
        " /home/brant/Downloads/N block 33 of 200 tmax: 13373.4913701\n",
        "file"
       ]
      },
      {
       "output_type": "stream",
       "stream": "stdout",
       "text": [
        " /home/brant/Downloads/N block 34 of 200 tmax: 13404.5273543\n",
        "file"
       ]
      },
      {
       "output_type": "stream",
       "stream": "stdout",
       "text": [
        " /home/brant/Downloads/N block 35 of 200 tmax: 13435.5477521\n",
        "file"
       ]
      },
      {
       "output_type": "stream",
       "stream": "stdout",
       "text": [
        " /home/brant/Downloads/N block 36 of 200 tmax: 13466.5884832\n",
        "file"
       ]
      },
      {
       "output_type": "stream",
       "stream": "stdout",
       "text": [
        " /home/brant/Downloads/N block 37 of 200 tmax: 13497.6239184\n",
        "file"
       ]
      },
      {
       "output_type": "stream",
       "stream": "stdout",
       "text": [
        " /home/brant/Downloads/N block 38 of 200 tmax: 13528.6564367\n",
        "file"
       ]
      },
      {
       "output_type": "stream",
       "stream": "stdout",
       "text": [
        " /home/brant/Downloads/N block 39 of 200 tmax: 13559.6840241\n",
        "file"
       ]
      },
      {
       "output_type": "stream",
       "stream": "stdout",
       "text": [
        " /home/brant/Downloads/N block 40 of 200 tmax: 13590.7162567\n",
        "file"
       ]
      },
      {
       "output_type": "stream",
       "stream": "stdout",
       "text": [
        " /home/brant/Downloads/N block 41 of 200 tmax: 13621.7315234\n",
        "file"
       ]
      },
      {
       "output_type": "stream",
       "stream": "stdout",
       "text": [
        " /home/brant/Downloads/N block 42 of 200 tmax: 13652.764854\n",
        "file"
       ]
      },
      {
       "output_type": "stream",
       "stream": "stdout",
       "text": [
        " /home/brant/Downloads/N block 43 of 200 tmax: 13683.7944417\n",
        "file"
       ]
      },
      {
       "output_type": "stream",
       "stream": "stdout",
       "text": [
        " /home/brant/Downloads/N block 44 of 200 tmax: 13714.8129083\n",
        "file"
       ]
      },
      {
       "output_type": "stream",
       "stream": "stdout",
       "text": [
        " /home/brant/Downloads/N block 45 of 200 tmax: 13745.8415015\n",
        "file"
       ]
      },
      {
       "output_type": "stream",
       "stream": "stdout",
       "text": [
        " /home/brant/Downloads/N block 46 of 200 tmax: 13776.8682549\n",
        "file"
       ]
      },
      {
       "output_type": "stream",
       "stream": "stdout",
       "text": [
        " /home/brant/Downloads/N block 47 of 200 tmax: 13807.8793961\n",
        "file"
       ]
      },
      {
       "output_type": "stream",
       "stream": "stdout",
       "text": [
        " /home/brant/Downloads/N block 48 of 200 tmax: 13838.9045841\n",
        "file"
       ]
      },
      {
       "output_type": "stream",
       "stream": "stdout",
       "text": [
        " /home/brant/Downloads/N block 49 of 200 tmax: 13869.9229705\n",
        "file"
       ]
      },
      {
       "output_type": "stream",
       "stream": "stdout",
       "text": [
        " /home/brant/Downloads/N block 50 of 200 tmax: 13900.9566783\n",
        "file"
       ]
      },
      {
       "output_type": "stream",
       "stream": "stdout",
       "text": [
        " /home/brant/Downloads/N block 51 of 200 tmax: 13931.9965056\n",
        "file"
       ]
      },
      {
       "output_type": "stream",
       "stream": "stdout",
       "text": [
        " /home/brant/Downloads/N block 52 of 200 tmax: 13963.0170863\n",
        "file"
       ]
      },
      {
       "output_type": "stream",
       "stream": "stdout",
       "text": [
        " /home/brant/Downloads/N block 53 of 200 tmax: 13994.0374841\n",
        "file"
       ]
      },
      {
       "output_type": "stream",
       "stream": "stdout",
       "text": [
        " /home/brant/Downloads/N block 54 of 200 tmax: 14025.0656892\n",
        "file"
       ]
      },
      {
       "output_type": "stream",
       "stream": "stdout",
       "text": [
        " /home/brant/Downloads/N block 55 of 200 tmax: 14056.0785899\n",
        "file"
       ]
      },
      {
       "output_type": "stream",
       "stream": "stdout",
       "text": [
        " /home/brant/Downloads/N block 56 of 200 tmax: 14087.1255543\n",
        "file"
       ]
      },
      {
       "output_type": "stream",
       "stream": "stdout",
       "text": [
        " /home/brant/Downloads/N block 57 of 200 tmax: 14118.1733423\n",
        "file"
       ]
      },
      {
       "output_type": "stream",
       "stream": "stdout",
       "text": [
        " /home/brant/Downloads/N block 58 of 200 tmax: 14149.216178\n",
        "file"
       ]
      },
      {
       "output_type": "stream",
       "stream": "stdout",
       "text": [
        " /home/brant/Downloads/N block 59 of 200 tmax: 14180.2430228\n",
        "file"
       ]
      },
      {
       "output_type": "stream",
       "stream": "stdout",
       "text": [
        " /home/brant/Downloads/N block 60 of 200 tmax: 14211.2635009\n",
        "file"
       ]
      },
      {
       "output_type": "stream",
       "stream": "stdout",
       "text": [
        " /home/brant/Downloads/N block 61 of 200 tmax: 14242.2890546\n",
        "file"
       ]
      },
      {
       "output_type": "stream",
       "stream": "stdout",
       "text": [
        " /home/brant/Downloads/N block 62 of 200 tmax: 14273.3142649\n",
        "file"
       ]
      },
      {
       "output_type": "stream",
       "stream": "stdout",
       "text": [
        " /home/brant/Downloads/N block 63 of 200 tmax: 14304.3278858\n",
        "file"
       ]
      },
      {
       "output_type": "stream",
       "stream": "stdout",
       "text": [
        " /home/brant/Downloads/N block 64 of 200 tmax: 14335.3442719\n",
        "file"
       ]
      },
      {
       "output_type": "stream",
       "stream": "stdout",
       "text": [
        " /home/brant/Downloads/N block 65 of 200 tmax: 14366.3580757\n",
        "file"
       ]
      },
      {
       "output_type": "stream",
       "stream": "stdout",
       "text": [
        " /home/brant/Downloads/N block 66 of 200 tmax: 14397.3712507\n",
        "file"
       ]
      },
      {
       "output_type": "stream",
       "stream": "stdout",
       "text": [
        " /home/brant/Downloads/N block 67 of 200 tmax: 14428.4137427\n",
        "file"
       ]
      },
      {
       "output_type": "stream",
       "stream": "stdout",
       "text": [
        " /home/brant/Downloads/N block 68 of 200 tmax: 14459.4602497\n",
        "file"
       ]
      },
      {
       "output_type": "stream",
       "stream": "stdout",
       "text": [
        " /home/brant/Downloads/N block 69 of 200 tmax: 14490.5063682\n",
        "file"
       ]
      },
      {
       "output_type": "stream",
       "stream": "stdout",
       "text": [
        " /home/brant/Downloads/N block 70 of 200 tmax: 14521.5512281\n",
        "file"
       ]
      },
      {
       "output_type": "stream",
       "stream": "stdout",
       "text": [
        " /home/brant/Downloads/N block 71 of 200 tmax: 14552.5963738\n",
        "file"
       ]
      },
      {
       "output_type": "stream",
       "stream": "stdout",
       "text": [
        " /home/brant/Downloads/N block 72 of 200 tmax: 14583.6180516\n",
        "file"
       ]
      },
      {
       "output_type": "stream",
       "stream": "stdout",
       "text": [
        " /home/brant/Downloads/N block 73 of 200 tmax: 14614.664764\n",
        "file"
       ]
      },
      {
       "output_type": "stream",
       "stream": "stdout",
       "text": [
        " /home/brant/Downloads/N block 74 of 200 tmax: 14645.6907971\n",
        "file"
       ]
      },
      {
       "output_type": "stream",
       "stream": "stdout",
       "text": [
        " /home/brant/Downloads/N block 75 of 200 tmax: 14676.718476\n",
        "file"
       ]
      },
      {
       "output_type": "stream",
       "stream": "stdout",
       "text": [
        " /home/brant/Downloads/N block 76 of 200 tmax: 14707.7496217\n",
        "file"
       ]
      },
      {
       "output_type": "stream",
       "stream": "stdout",
       "text": [
        " /home/brant/Downloads/N block 77 of 200 tmax: 14738.7913706\n",
        "file"
       ]
      },
      {
       "output_type": "stream",
       "stream": "stdout",
       "text": [
        " /home/brant/Downloads/N block 78 of 200 tmax: 14769.8060775\n",
        "file"
       ]
      },
      {
       "output_type": "stream",
       "stream": "stdout",
       "text": [
        " /home/brant/Downloads/N block 79 of 200 tmax: 14800.8197096\n",
        "file"
       ]
      },
      {
       "output_type": "stream",
       "stream": "stdout",
       "text": [
        " /home/brant/Downloads/N block 80 of 200 tmax: 14831.8546873\n",
        "file"
       ]
      },
      {
       "output_type": "stream",
       "stream": "stdout",
       "text": [
        " /home/brant/Downloads/N block 81 of 200 tmax: 14862.9011942\n",
        "file"
       ]
      },
      {
       "output_type": "stream",
       "stream": "stdout",
       "text": [
        " /home/brant/Downloads/N block 82 of 200 tmax: 14893.9261079\n",
        "file"
       ]
      },
      {
       "output_type": "stream",
       "stream": "stdout",
       "text": [
        " /home/brant/Downloads/N block 83 of 200 tmax: 14924.9378312\n",
        "file"
       ]
      },
      {
       "output_type": "stream",
       "stream": "stdout",
       "text": [
        " /home/brant/Downloads/N block 84 of 200 tmax: 14955.9763886\n",
        "file"
       ]
      },
      {
       "output_type": "stream",
       "stream": "stdout",
       "text": [
        " /home/brant/Downloads/N block 85 of 200 tmax: 14987.009273\n",
        "file"
       ]
      },
      {
       "output_type": "stream",
       "stream": "stdout",
       "text": [
        " /home/brant/Downloads/N block 86 of 200 tmax: 15018.0544074\n",
        "file"
       ]
      },
      {
       "output_type": "stream",
       "stream": "stdout",
       "text": [
        " /home/brant/Downloads/N block 87 of 200 tmax: 15049.0975175\n",
        "file"
       ]
      },
      {
       "output_type": "stream",
       "stream": "stdout",
       "text": [
        " /home/brant/Downloads/N block 88 of 200 tmax: 15080.1167268\n",
        "file"
       ]
      },
      {
       "output_type": "stream",
       "stream": "stdout",
       "text": [
        " /home/brant/Downloads/N block 89 of 200 tmax: 15111.1410919\n",
        "file"
       ]
      },
      {
       "output_type": "stream",
       "stream": "stdout",
       "text": [
        " /home/brant/Downloads/N block 90 of 200 tmax: 15142.1678565\n",
        "file"
       ]
      },
      {
       "output_type": "stream",
       "stream": "stdout",
       "text": [
        " /home/brant/Downloads/N block 91 of 200 tmax: 15173.2055792\n",
        "file"
       ]
      },
      {
       "output_type": "stream",
       "stream": "stdout",
       "text": [
        " /home/brant/Downloads/N block 92 of 200 tmax: 15204.2464242\n",
        "file"
       ]
      },
      {
       "output_type": "stream",
       "stream": "stdout",
       "text": [
        " /home/brant/Downloads/N block 93 of 200 tmax: 15235.2780387\n",
        "file"
       ]
      },
      {
       "output_type": "stream",
       "stream": "stdout",
       "text": [
        " /home/brant/Downloads/N block 94 of 200 tmax: 15266.3109118\n",
        "file"
       ]
      },
      {
       "output_type": "stream",
       "stream": "stdout",
       "text": [
        " /home/brant/Downloads/N block 95 of 200 tmax: 15297.3560463\n",
        "file"
       ]
      },
      {
       "output_type": "stream",
       "stream": "stdout",
       "text": [
        " /home/brant/Downloads/N block 96 of 200 tmax: 15328.4044748\n",
        "file"
       ]
      },
      {
       "output_type": "stream",
       "stream": "stdout",
       "text": [
        " /home/brant/Downloads/N block 97 of 200 tmax: 15359.4333422\n",
        "file"
       ]
      },
      {
       "output_type": "stream",
       "stream": "stdout",
       "text": [
        " /home/brant/Downloads/N block 98 of 200 tmax: 15390.462107\n",
        "file"
       ]
      },
      {
       "output_type": "stream",
       "stream": "stdout",
       "text": [
        " /home/brant/Downloads/N block 99 of 200 tmax: 15421.4934134\n",
        "file"
       ]
      },
      {
       "output_type": "stream",
       "stream": "stdout",
       "text": [
        " /home/brant/Downloads/N block 100 of 200 tmax: 15452.5115255\n",
        "file"
       ]
      },
      {
       "output_type": "stream",
       "stream": "stdout",
       "text": [
        " /home/brant/Downloads/N block 101 of 200 tmax: 15483.5248833\n",
        "file"
       ]
      },
      {
       "output_type": "stream",
       "stream": "stdout",
       "text": [
        " /home/brant/Downloads/N block 102 of 200 tmax: 15514.5384351\n",
        "file"
       ]
      },
      {
       "output_type": "stream",
       "stream": "stdout",
       "text": [
        " /home/brant/Downloads/N block 103 of 200 tmax: 15545.5516212\n",
        "file"
       ]
      },
      {
       "output_type": "stream",
       "stream": "stdout",
       "text": [
        " /home/brant/Downloads/N block 104 of 200 tmax: 15576.5985166\n",
        "file"
       ]
      },
      {
       "output_type": "stream",
       "stream": "stdout",
       "text": [
        " /home/brant/Downloads/N block 105 of 200 tmax: 15607.6251898\n",
        "file"
       ]
      },
      {
       "output_type": "stream",
       "stream": "stdout",
       "text": [
        " /home/brant/Downloads/N block 106 of 200 tmax: 15638.6463301\n",
        "file"
       ]
      },
      {
       "output_type": "stream",
       "stream": "stdout",
       "text": [
        " /home/brant/Downloads/N block 107 of 200 tmax: 15669.6772126\n",
        "file"
       ]
      },
      {
       "output_type": "stream",
       "stream": "stdout",
       "text": [
        " /home/brant/Downloads/N block 108 of 200 tmax: 15700.7061715\n",
        "file"
       ]
      },
      {
       "output_type": "stream",
       "stream": "stdout",
       "text": [
        " /home/brant/Downloads/N block 109 of 200 tmax: 15731.7334155\n",
        "file"
       ]
      },
      {
       "output_type": "stream",
       "stream": "stdout",
       "text": [
        " /home/brant/Downloads/N block 110 of 200 tmax: 15762.756933\n",
        "file"
       ]
      },
      {
       "output_type": "stream",
       "stream": "stdout",
       "text": [
        " /home/brant/Downloads/N block 111 of 200 tmax: 15793.7812067\n",
        "file"
       ]
      },
      {
       "output_type": "stream",
       "stream": "stdout",
       "text": [
        " /home/brant/Downloads/N block 112 of 200 tmax: 15824.7946448\n",
        "file"
       ]
      },
      {
       "output_type": "stream",
       "stream": "stdout",
       "text": [
        " /home/brant/Downloads/N block 113 of 200 tmax: 15855.8178769\n",
        "file"
       ]
      },
      {
       "output_type": "stream",
       "stream": "stdout",
       "text": [
        " /home/brant/Downloads/N block 114 of 200 tmax: 15886.8450986\n",
        "file"
       ]
      },
      {
       "output_type": "stream",
       "stream": "stdout",
       "text": [
        " /home/brant/Downloads/N block 115 of 200 tmax: 15917.8617479\n",
        "file"
       ]
      },
      {
       "output_type": "stream",
       "stream": "stdout",
       "text": [
        " /home/brant/Downloads/N block 116 of 200 tmax: 15948.8884098\n",
        "file"
       ]
      },
      {
       "output_type": "stream",
       "stream": "stdout",
       "text": [
        " /home/brant/Downloads/N block 117 of 200 tmax: 15979.9061674\n",
        "file"
       ]
      },
      {
       "output_type": "stream",
       "stream": "stdout",
       "text": [
        " /home/brant/Downloads/N block 118 of 200 tmax: 16010.9387547\n",
        "file"
       ]
      },
      {
       "output_type": "stream",
       "stream": "stdout",
       "text": [
        " /home/brant/Downloads/N block 119 of 200 tmax: 16041.981075\n",
        "file"
       ]
      },
      {
       "output_type": "stream",
       "stream": "stdout",
       "text": [
        " /home/brant/Downloads/N block 120 of 200 tmax: 16073.0037697\n",
        "file"
       ]
      },
      {
       "output_type": "stream",
       "stream": "stdout",
       "text": [
        " /home/brant/Downloads/N block 121 of 200 tmax: 16104.0149221\n",
        "file"
       ]
      },
      {
       "output_type": "stream",
       "stream": "stdout",
       "text": [
        " /home/brant/Downloads/N block 122 of 200 tmax: 16135.0321088\n",
        "file"
       ]
      },
      {
       "output_type": "stream",
       "stream": "stdout",
       "text": [
        " /home/brant/Downloads/N block 123 of 200 tmax: 16166.0707465\n",
        "file"
       ]
      },
      {
       "output_type": "stream",
       "stream": "stdout",
       "text": [
        " /home/brant/Downloads/N block 124 of 200 tmax: 16197.0826526\n",
        "file"
       ]
      },
      {
       "output_type": "stream",
       "stream": "stdout",
       "text": [
        " /home/brant/Downloads/N block 125 of 200 tmax: 16228.1135239\n",
        "file"
       ]
      },
      {
       "output_type": "stream",
       "stream": "stdout",
       "text": [
        " /home/brant/Downloads/N block 126 of 200 tmax: 16259.1426656\n",
        "file"
       ]
      },
      {
       "output_type": "stream",
       "stream": "stdout",
       "text": [
        " /home/brant/Downloads/N block 127 of 200 tmax: 16290.1565831\n",
        "file"
       ]
      },
      {
       "output_type": "stream",
       "stream": "stdout",
       "text": [
        " /home/brant/Downloads/N block 128 of 200 tmax: 16321.185542\n",
        "file"
       ]
      },
      {
       "output_type": "stream",
       "stream": "stdout",
       "text": [
        " /home/brant/Downloads/N block 129 of 200 tmax: 16352.2069678\n",
        "file"
       ]
      },
      {
       "output_type": "stream",
       "stream": "stdout",
       "text": [
        " /home/brant/Downloads/N block 130 of 200 tmax: 16383.2243596\n",
        "file"
       ]
      },
      {
       "output_type": "stream",
       "stream": "stdout",
       "text": [
        " /home/brant/Downloads/N block 131 of 200 tmax: 16414.2693913\n",
        "file"
       ]
      },
      {
       "output_type": "stream",
       "stream": "stdout",
       "text": [
        " /home/brant/Downloads/N block 132 of 200 tmax: 16445.3042775\n",
        "file"
       ]
      },
      {
       "output_type": "stream",
       "stream": "stdout",
       "text": [
        " /home/brant/Downloads/N block 133 of 200 tmax: 16476.3500524\n",
        "file"
       ]
      },
      {
       "output_type": "stream",
       "stream": "stdout",
       "text": [
        " /home/brant/Downloads/N block 134 of 200 tmax: 16507.3673305\n",
        "file"
       ]
      },
      {
       "output_type": "stream",
       "stream": "stdout",
       "text": [
        " /home/brant/Downloads/N block 135 of 200 tmax: 16538.4085191\n",
        "file"
       ]
      },
      {
       "output_type": "stream",
       "stream": "stdout",
       "text": [
        " /home/brant/Downloads/N block 136 of 200 tmax: 16569.4219683\n",
        "file"
       ]
      },
      {
       "output_type": "stream",
       "stream": "stdout",
       "text": [
        " /home/brant/Downloads/N block 137 of 200 tmax: 16600.4636257\n",
        "file"
       ]
      },
      {
       "output_type": "stream",
       "stream": "stdout",
       "text": [
        " /home/brant/Downloads/N block 138 of 200 tmax: 16631.5028349\n",
        "file"
       ]
      },
      {
       "output_type": "stream",
       "stream": "stdout",
       "text": [
        " /home/brant/Downloads/N block 139 of 200 tmax: 16662.5293252\n",
        "file"
       ]
      },
      {
       "output_type": "stream",
       "stream": "stdout",
       "text": [
        " /home/brant/Downloads/N block 140 of 200 tmax: 16693.5757518\n",
        "file"
       ]
      },
      {
       "output_type": "stream",
       "stream": "stdout",
       "text": [
        " /home/brant/Downloads/N block 141 of 200 tmax: 16724.622819\n",
        "file"
       ]
      },
      {
       "output_type": "stream",
       "stream": "stdout",
       "text": [
        " /home/brant/Downloads/N block 142 of 200 tmax: 16755.6675072\n",
        "file"
       ]
      },
      {
       "output_type": "stream",
       "stream": "stdout",
       "text": [
        " /home/brant/Downloads/N block 143 of 200 tmax: 16786.7128358\n",
        "file"
       ]
      },
      {
       "output_type": "stream",
       "stream": "stdout",
       "text": [
        " /home/brant/Downloads/N block 144 of 200 tmax: 16817.7403429\n",
        "file"
       ]
      },
      {
       "output_type": "stream",
       "stream": "stdout",
       "text": [
        " /home/brant/Downloads/N block 145 of 200 tmax: 16848.7700444\n",
        "file"
       ]
      },
      {
       "output_type": "stream",
       "stream": "stdout",
       "text": [
        " /home/brant/Downloads/N block 146 of 200 tmax: 16879.8079613\n",
        "file"
       ]
      },
      {
       "output_type": "stream",
       "stream": "stdout",
       "text": [
        " /home/brant/Downloads/N block 147 of 200 tmax: 16910.8330802\n",
        "file"
       ]
      },
      {
       "output_type": "stream",
       "stream": "stdout",
       "text": [
        " /home/brant/Downloads/N block 148 of 200 tmax: 16941.8610222\n",
        "file"
       ]
      },
      {
       "output_type": "stream",
       "stream": "stdout",
       "text": [
        " /home/brant/Downloads/N block 149 of 200 tmax: 16972.9091874\n",
        "file"
       ]
      },
      {
       "output_type": "stream",
       "stream": "stdout",
       "text": [
        " /home/brant/Downloads/N block 150 of 200 tmax: 17003.9327161\n",
        "file"
       ]
      },
      {
       "output_type": "stream",
       "stream": "stdout",
       "text": [
        " /home/brant/Downloads/N block 151 of 200 tmax: 17034.9475256\n",
        "file"
       ]
      },
      {
       "output_type": "stream",
       "stream": "stdout",
       "text": [
        " /home/brant/Downloads/N block 152 of 200 tmax: 17065.9683805\n",
        "file"
       ]
      },
      {
       "output_type": "stream",
       "stream": "stdout",
       "text": [
        " /home/brant/Downloads/N block 153 of 200 tmax: 17097.0024432\n",
        "file"
       ]
      },
      {
       "output_type": "stream",
       "stream": "stdout",
       "text": [
        " /home/brant/Downloads/N block 154 of 200 tmax: 17128.022395\n",
        "file"
       ]
      },
      {
       "output_type": "stream",
       "stream": "stdout",
       "text": [
        " /home/brant/Downloads/N block 155 of 200 tmax: 17159.0567434\n",
        "file"
       ]
      },
      {
       "output_type": "stream",
       "stream": "stdout",
       "text": [
        " /home/brant/Downloads/N block 156 of 200 tmax: 17190.0853365\n",
        "file"
       ]
      },
      {
       "output_type": "stream",
       "stream": "stdout",
       "text": [
        " /home/brant/Downloads/N block 157 of 200 tmax: 17221.1137468\n",
        "file"
       ]
      },
      {
       "output_type": "stream",
       "stream": "stdout",
       "text": [
        " /home/brant/Downloads/N block 158 of 200 tmax: 17252.1326014\n",
        "file"
       ]
      },
      {
       "output_type": "stream",
       "stream": "stdout",
       "text": [
        " /home/brant/Downloads/N block 159 of 200 tmax: 17283.165017\n",
        "file"
       ]
      },
      {
       "output_type": "stream",
       "stream": "stdout",
       "text": [
        " /home/brant/Downloads/N block 160 of 200 tmax: 17314.1824089\n",
        "file"
       ]
      },
      {
       "output_type": "stream",
       "stream": "stdout",
       "text": [
        " /home/brant/Downloads/N block 161 of 200 tmax: 17345.2001664\n",
        "file"
       ]
      },
      {
       "output_type": "stream",
       "stream": "stdout",
       "text": [
        " /home/brant/Downloads/N block 162 of 200 tmax: 17376.2249195\n",
        "file"
       ]
      },
      {
       "output_type": "stream",
       "stream": "stdout",
       "text": [
        " /home/brant/Downloads/N block 163 of 200 tmax: 17407.2662221\n",
        "file"
       ]
      },
      {
       "output_type": "stream",
       "stream": "stdout",
       "text": [
        " /home/brant/Downloads/N block 164 of 200 tmax: 17438.2941641\n",
        "file"
       ]
      },
      {
       "output_type": "stream",
       "stream": "stdout",
       "text": [
        " /home/brant/Downloads/N block 165 of 200 tmax: 17469.3369194\n",
        "file"
       ]
      },
      {
       "output_type": "stream",
       "stream": "stdout",
       "text": [
        " /home/brant/Downloads/N block 166 of 200 tmax: 17500.3742761\n",
        "file"
       ]
      },
      {
       "output_type": "stream",
       "stream": "stdout",
       "text": [
        " /home/brant/Downloads/N block 167 of 200 tmax: 17531.4148467\n",
        "file"
       ]
      },
      {
       "output_type": "stream",
       "stream": "stdout",
       "text": [
        " /home/brant/Downloads/N block 168 of 200 tmax: 17562.4609764\n",
        "file"
       ]
      },
      {
       "output_type": "stream",
       "stream": "stdout",
       "text": [
        " /home/brant/Downloads/N block 169 of 200 tmax: 17593.4936552\n",
        "file"
       ]
      },
      {
       "output_type": "stream",
       "stream": "stdout",
       "text": [
        " /home/brant/Downloads/N block 170 of 200 tmax: 17624.5376804\n",
        "file"
       ]
      },
      {
       "output_type": "stream",
       "stream": "stdout",
       "text": [
        " /home/brant/Downloads/N block 171 of 200 tmax: 17655.5548894\n",
        "file"
       ]
      },
      {
       "output_type": "stream",
       "stream": "stdout",
       "text": [
        " /home/brant/Downloads/N block 172 of 200 tmax: 17686.5986513\n",
        "file"
       ]
      },
      {
       "output_type": "stream",
       "stream": "stdout",
       "text": [
        " /home/brant/Downloads/N block 173 of 200 tmax: 17717.6397596\n",
        "file"
       ]
      },
      {
       "output_type": "stream",
       "stream": "stdout",
       "text": [
        " /home/brant/Downloads/N block 174 of 200 tmax: 17748.6626259\n",
        "file"
       ]
      },
      {
       "output_type": "stream",
       "stream": "stdout",
       "text": [
        " /home/brant/Downloads/N block 175 of 200 tmax: 17779.6935197\n",
        "file"
       ]
      },
      {
       "output_type": "stream",
       "stream": "stdout",
       "text": [
        " /home/brant/Downloads/N block 176 of 200 tmax: 17810.7319054\n",
        "file"
       ]
      },
      {
       "output_type": "stream",
       "stream": "stdout",
       "text": [
        " /home/brant/Downloads/N block 177 of 200 tmax: 17841.7764217\n",
        "file"
       ]
      },
      {
       "output_type": "stream",
       "stream": "stdout",
       "text": [
        " /home/brant/Downloads/N block 178 of 200 tmax: 17872.8021003\n",
        "file"
       ]
      },
      {
       "output_type": "stream",
       "stream": "stdout",
       "text": [
        " /home/brant/Downloads/N block 179 of 200 tmax: 17903.8481385\n",
        "file"
       ]
      },
      {
       "output_type": "stream",
       "stream": "stdout",
       "text": [
        " /home/brant/Downloads/N block 180 of 200 tmax: 17934.8905391\n",
        "file"
       ]
      },
      {
       "output_type": "stream",
       "stream": "stdout",
       "text": [
        " /home/brant/Downloads/N block 181 of 200 tmax: 17965.9367828\n",
        "file"
       ]
      },
      {
       "output_type": "stream",
       "stream": "stdout",
       "text": [
        " /home/brant/Downloads/N block 182 of 200 tmax: 17996.9841245\n",
        "file"
       ]
      },
      {
       "output_type": "stream",
       "stream": "stdout",
       "text": [
        " /home/brant/Downloads/N block 183 of 200 tmax: 18028.0018597\n",
        "file"
       ]
      },
      {
       "output_type": "stream",
       "stream": "stdout",
       "text": [
        " /home/brant/Downloads/N block 184 of 200 tmax: 18059.0365741\n",
        "file"
       ]
      },
      {
       "output_type": "stream",
       "stream": "stdout",
       "text": [
        " /home/brant/Downloads/N block 185 of 200 tmax: 18090.0777739\n",
        "file"
       ]
      },
      {
       "output_type": "stream",
       "stream": "stdout",
       "text": [
        " /home/brant/Downloads/N block 186 of 200 tmax: 18121.1051673\n",
        "file"
       ]
      },
      {
       "output_type": "stream",
       "stream": "stdout",
       "text": [
        " /home/brant/Downloads/N block 187 of 200 tmax: 18152.1427182\n",
        "file"
       ]
      },
      {
       "output_type": "stream",
       "stream": "stdout",
       "text": [
        " /home/brant/Downloads/N block 188 of 200 tmax: 18183.1749508\n",
        "file"
       ]
      },
      {
       "output_type": "stream",
       "stream": "stdout",
       "text": [
        " /home/brant/Downloads/N block 189 of 200 tmax: 18214.1956229\n",
        "file"
       ]
      },
      {
       "output_type": "stream",
       "stream": "stdout",
       "text": [
        " /home/brant/Downloads/N block 190 of 200 tmax: 18245.2237589\n",
        "file"
       ]
      },
      {
       "output_type": "stream",
       "stream": "stdout",
       "text": [
        " /home/brant/Downloads/N block 191 of 200 tmax: 18276.2529006\n",
        "file"
       ]
      },
      {
       "output_type": "stream",
       "stream": "stdout",
       "text": [
        " /home/brant/Downloads/N block 192 of 200 tmax: 18307.2835855\n",
        "file"
       ]
      },
      {
       "output_type": "stream",
       "stream": "stdout",
       "text": [
        " /home/brant/Downloads/N block 193 of 200 tmax: 18338.3299206\n",
        "file"
       ]
      },
      {
       "output_type": "stream",
       "stream": "stdout",
       "text": [
        " /home/brant/Downloads/N block 194 of 200 tmax: 18369.345107\n",
        "file"
       ]
      },
      {
       "output_type": "stream",
       "stream": "stdout",
       "text": [
        " /home/brant/Downloads/N block 195 of 200 tmax: 18400.3846935\n",
        "file"
       ]
      },
      {
       "output_type": "stream",
       "stream": "stdout",
       "text": [
        " /home/brant/Downloads/N block 196 of 200 tmax: 18431.4298279\n",
        "file"
       ]
      },
      {
       "output_type": "stream",
       "stream": "stdout",
       "text": [
        " /home/brant/Downloads/N block 197 of 200 tmax: 18462.4454603\n",
        "file"
       ]
      },
      {
       "output_type": "stream",
       "stream": "stdout",
       "text": [
        " /home/brant/Downloads/N block 198 of 200 tmax: 18493.491041\n",
        "file"
       ]
      },
      {
       "output_type": "stream",
       "stream": "stdout",
       "text": [
        " /home/brant/Downloads/N block 199 of 200 tmax: 18524.5075988\n",
        "file"
       ]
      },
      {
       "output_type": "stream",
       "stream": "stdout",
       "text": [
        " /home/brant/Downloads/O block 1 of 200 tmax: 18555.5491983\n",
        "file"
       ]
      },
      {
       "output_type": "stream",
       "stream": "stdout",
       "text": [
        " /home/brant/Downloads/O block 2 of 200 tmax: 18586.5863832\n",
        "file"
       ]
      },
      {
       "output_type": "stream",
       "stream": "stdout",
       "text": [
        " /home/brant/Downloads/O block 3 of 200 tmax: 18617.6304308\n",
        "file"
       ]
      },
      {
       "output_type": "stream",
       "stream": "stdout",
       "text": [
        " /home/brant/Downloads/O block 4 of 200 tmax: 18648.6682451\n",
        "file"
       ]
      },
      {
       "output_type": "stream",
       "stream": "stdout",
       "text": [
        " /home/brant/Downloads/O block 5 of 200 tmax: 18679.7031425\n",
        "file"
       ]
      },
      {
       "output_type": "stream",
       "stream": "stdout",
       "text": [
        " /home/brant/Downloads/O block 6 of 200 tmax: 18710.7363816\n",
        "file"
       ]
      },
      {
       "output_type": "stream",
       "stream": "stdout",
       "text": [
        " /home/brant/Downloads/O block 7 of 200 tmax: 18741.7505622\n",
        "file"
       ]
      },
      {
       "output_type": "stream",
       "stream": "stdout",
       "text": [
        " /home/brant/Downloads/O block 8 of 200 tmax: 18772.7844419\n",
        "file"
       ]
      },
      {
       "output_type": "stream",
       "stream": "stdout",
       "text": [
        " /home/brant/Downloads/O block 9 of 200 tmax: 18803.8057874\n",
        "file"
       ]
      },
      {
       "output_type": "stream",
       "stream": "stdout",
       "text": [
        " /home/brant/Downloads/O block 10 of 200 tmax: 18834.8270304\n",
        "file"
       ]
      },
      {
       "output_type": "stream",
       "stream": "stdout",
       "text": [
        " /home/brant/Downloads/O block 11 of 200 tmax: 18865.8566983\n",
        "file"
       ]
      },
      {
       "output_type": "stream",
       "stream": "stdout",
       "text": [
        " /home/brant/Downloads/O block 12 of 200 tmax: 18896.9026787\n",
        "file"
       ]
      },
      {
       "output_type": "stream",
       "stream": "stdout",
       "text": [
        " /home/brant/Downloads/O block 13 of 200 tmax: 18927.9223451\n",
        "file"
       ]
      },
      {
       "output_type": "stream",
       "stream": "stdout",
       "text": [
        " /home/brant/Downloads/O block 14 of 200 tmax: 18958.9656607\n",
        "file"
       ]
      },
      {
       "output_type": "stream",
       "stream": "stdout",
       "text": [
        " /home/brant/Downloads/O block 15 of 200 tmax: 18990.0010959\n",
        "file"
       ]
      },
      {
       "output_type": "stream",
       "stream": "stdout",
       "text": [
        " /home/brant/Downloads/O block 16 of 200 tmax: 19021.0175043\n",
        "file"
       ]
      },
      {
       "output_type": "stream",
       "stream": "stdout",
       "text": [
        " /home/brant/Downloads/O block 17 of 200 tmax: 19052.029959\n",
        "file"
       ]
      },
      {
       "output_type": "stream",
       "stream": "stdout",
       "text": [
        " /home/brant/Downloads/O block 18 of 200 tmax: 19083.0705407\n",
        "file"
       ]
      },
      {
       "output_type": "stream",
       "stream": "stdout",
       "text": [
        " /home/brant/Downloads/O block 19 of 200 tmax: 19114.0936925\n",
        "file"
       ]
      },
      {
       "output_type": "stream",
       "stream": "stdout",
       "text": [
        " /home/brant/Downloads/O block 20 of 200 tmax: 19145.1122038\n",
        "file"
       ]
      },
      {
       "output_type": "stream",
       "stream": "stdout",
       "text": [
        " /home/brant/Downloads/O block 21 of 200 tmax: 19176.131607\n",
        "file"
       ]
      },
      {
       "output_type": "stream",
       "stream": "stdout",
       "text": [
        " /home/brant/Downloads/O block 22 of 200 tmax: 19207.1648574\n",
        "file"
       ]
      },
      {
       "output_type": "stream",
       "stream": "stdout",
       "text": [
        " /home/brant/Downloads/O block 23 of 200 tmax: 19238.1862832\n",
        "file"
       ]
      },
      {
       "output_type": "stream",
       "stream": "stdout",
       "text": [
        " /home/brant/Downloads/O block 24 of 200 tmax: 19269.2321609\n",
        "file"
       ]
      },
      {
       "output_type": "stream",
       "stream": "stdout",
       "text": [
        " /home/brant/Downloads/O block 25 of 200 tmax: 19300.2532098\n",
        "file"
       ]
      },
      {
       "output_type": "stream",
       "stream": "stdout",
       "text": [
        " /home/brant/Downloads/O block 26 of 200 tmax: 19331.2763505\n",
        "file"
       ]
      },
      {
       "output_type": "stream",
       "stream": "stdout",
       "text": [
        " /home/brant/Downloads/O block 27 of 200 tmax: 19362.3004277\n",
        "file"
       ]
      },
      {
       "output_type": "stream",
       "stream": "stdout",
       "text": [
        " /home/brant/Downloads/O block 28 of 200 tmax: 19393.3203796\n",
        "file"
       ]
      },
      {
       "output_type": "stream",
       "stream": "stdout",
       "text": [
        " /home/brant/Downloads/O block 29 of 200 tmax: 19424.3323548\n",
        "file"
       ]
      },
      {
       "output_type": "stream",
       "stream": "stdout",
       "text": [
        " /home/brant/Downloads/O block 30 of 200 tmax: 19455.3552323\n",
        "file"
       ]
      },
      {
       "output_type": "stream",
       "stream": "stdout",
       "text": [
        " /home/brant/Downloads/O block 31 of 200 tmax: 19486.3855514\n",
        "file"
       ]
      },
      {
       "output_type": "stream",
       "stream": "stdout",
       "text": [
        " /home/brant/Downloads/O block 32 of 200 tmax: 19517.4077087\n",
        "file"
       ]
      },
      {
       "output_type": "stream",
       "stream": "stdout",
       "text": [
        " /home/brant/Downloads/O block 33 of 200 tmax: 19548.4304948\n",
        "file"
       ]
      },
      {
       "output_type": "stream",
       "stream": "stdout",
       "text": [
        " /home/brant/Downloads/O block 34 of 200 tmax: 19579.4448695\n",
        "file"
       ]
      },
      {
       "output_type": "stream",
       "stream": "stdout",
       "text": [
        " /home/brant/Downloads/O block 35 of 200 tmax: 19610.4731772\n",
        "file"
       ]
      },
      {
       "output_type": "stream",
       "stream": "stdout",
       "text": [
        " /home/brant/Downloads/O block 36 of 200 tmax: 19641.4896547\n",
        "file"
       ]
      },
      {
       "output_type": "stream",
       "stream": "stdout",
       "text": [
        " /home/brant/Downloads/O block 37 of 200 tmax: 19672.5223672\n",
        "file"
       ]
      },
      {
       "output_type": "stream",
       "stream": "stdout",
       "text": [
        " /home/brant/Downloads/O block 38 of 200 tmax: 19703.5339299\n",
        "file"
       ]
      },
      {
       "output_type": "stream",
       "stream": "stdout",
       "text": [
        " /home/brant/Downloads/O block 39 of 200 tmax: 19734.5487506\n",
        "file"
       ]
      },
      {
       "output_type": "stream",
       "stream": "stdout",
       "text": [
        " /home/brant/Downloads/O block 40 of 200 tmax: 19765.5933473\n",
        "file"
       ]
      },
      {
       "output_type": "stream",
       "stream": "stdout",
       "text": [
        " /home/brant/Downloads/O block 41 of 200 tmax: 19796.6218713\n",
        "file"
       ]
      },
      {
       "output_type": "stream",
       "stream": "stdout",
       "text": [
        " /home/brant/Downloads/O block 42 of 200 tmax: 19827.6669254\n",
        "file"
       ]
      },
      {
       "output_type": "stream",
       "stream": "stdout",
       "text": [
        " /home/brant/Downloads/O block 43 of 200 tmax: 19858.6833227\n",
        "file"
       ]
      },
      {
       "output_type": "stream",
       "stream": "stdout",
       "text": [
        " /home/brant/Downloads/O block 44 of 200 tmax: 19889.6981545\n",
        "file"
       ]
      },
      {
       "output_type": "stream",
       "stream": "stdout",
       "text": [
        " /home/brant/Downloads/O block 45 of 200 tmax: 19920.7124266\n",
        "file"
       ]
      },
      {
       "output_type": "stream",
       "stream": "stdout",
       "text": [
        " /home/brant/Downloads/O block 46 of 200 tmax: 19951.7559252\n",
        "file"
       ]
      },
      {
       "output_type": "stream",
       "stream": "stdout",
       "text": [
        " /home/brant/Downloads/O block 47 of 200 tmax: 19982.789816\n",
        "file"
       ]
      },
      {
       "output_type": "stream",
       "stream": "stdout",
       "text": [
        " /home/brant/Downloads/O block 48 of 200 tmax: 20013.835042\n",
        "file"
       ]
      },
      {
       "output_type": "stream",
       "stream": "stdout",
       "text": [
        " /home/brant/Downloads/O block 49 of 200 tmax: 20044.8698591\n",
        "file"
       ]
      },
      {
       "output_type": "stream",
       "stream": "stdout",
       "text": [
        " /home/brant/Downloads/O block 50 of 200 tmax: 20075.8895366\n",
        "file"
       ]
      },
      {
       "output_type": "stream",
       "stream": "stdout",
       "text": [
        " /home/brant/Downloads/O block 51 of 200 tmax: 20106.9359745\n",
        "file"
       ]
      },
      {
       "output_type": "stream",
       "stream": "stdout",
       "text": [
        " /home/brant/Downloads/O block 52 of 200 tmax: 20137.9817607\n",
        "file"
       ]
      },
      {
       "output_type": "stream",
       "stream": "stdout",
       "text": [
        " /home/brant/Downloads/O block 53 of 200 tmax: 20169.0151025\n",
        "file"
       ]
      },
      {
       "output_type": "stream",
       "stream": "stdout",
       "text": [
        " /home/brant/Downloads/O block 54 of 200 tmax: 20200.0484556\n",
        "file"
       ]
      },
      {
       "output_type": "stream",
       "stream": "stdout",
       "text": [
        " /home/brant/Downloads/O block 55 of 200 tmax: 20231.0916909\n",
        "file"
       ]
      },
      {
       "output_type": "stream",
       "stream": "stdout",
       "text": [
        " /home/brant/Downloads/O block 56 of 200 tmax: 20262.1085453\n",
        "file"
       ]
      },
      {
       "output_type": "stream",
       "stream": "stdout",
       "text": [
        " /home/brant/Downloads/O block 57 of 200 tmax: 20293.1199028\n",
        "file"
       ]
      },
      {
       "output_type": "stream",
       "stream": "stdout",
       "text": [
        " /home/brant/Downloads/O block 58 of 200 tmax: 20324.1599356\n",
        "file"
       ]
      },
      {
       "output_type": "stream",
       "stream": "stdout",
       "text": [
        " /home/brant/Downloads/O block 59 of 200 tmax: 20355.18063\n",
        "file"
       ]
      },
      {
       "output_type": "stream",
       "stream": "stdout",
       "text": [
        " /home/brant/Downloads/O block 60 of 200 tmax: 20386.1949244\n",
        "file"
       ]
      },
      {
       "output_type": "stream",
       "stream": "stdout",
       "text": [
        " /home/brant/Downloads/O block 61 of 200 tmax: 20417.2127153\n",
        "file"
       ]
      },
      {
       "output_type": "stream",
       "stream": "stdout",
       "text": [
        " /home/brant/Downloads/O block 62 of 200 tmax: 20448.2329526\n",
        "file"
       ]
      },
      {
       "output_type": "stream",
       "stream": "stdout",
       "text": [
        " /home/brant/Downloads/O block 63 of 200 tmax: 20479.2743579\n",
        "file"
       ]
      },
      {
       "output_type": "stream",
       "stream": "stdout",
       "text": [
        " /home/brant/Downloads/O block 64 of 200 tmax: 20510.3070592\n",
        "file"
       ]
      },
      {
       "output_type": "stream",
       "stream": "stdout",
       "text": [
        " /home/brant/Downloads/O block 65 of 200 tmax: 20541.3379305\n",
        "file"
       ]
      },
      {
       "output_type": "stream",
       "stream": "stdout",
       "text": [
        " /home/brant/Downloads/O block 66 of 200 tmax: 20572.3576303\n",
        "file"
       ]
      },
      {
       "output_type": "stream",
       "stream": "stdout",
       "text": [
        " /home/brant/Downloads/O block 67 of 200 tmax: 20603.3984866\n",
        "file"
       ]
      },
      {
       "output_type": "stream",
       "stream": "stdout",
       "text": [
        " /home/brant/Downloads/O block 68 of 200 tmax: 20634.4158895\n",
        "file"
       ]
      },
      {
       "output_type": "stream",
       "stream": "stdout",
       "text": [
        " /home/brant/Downloads/O block 69 of 200 tmax: 20665.4422995\n",
        "file"
       ]
      },
      {
       "output_type": "stream",
       "stream": "stdout",
       "text": [
        " /home/brant/Downloads/O block 70 of 200 tmax: 20696.4842538\n",
        "file"
       ]
      },
      {
       "output_type": "stream",
       "stream": "stdout",
       "text": [
        " /home/brant/Downloads/O block 71 of 200 tmax: 20727.5316982\n",
        "file"
       ]
      },
      {
       "output_type": "stream",
       "stream": "stdout",
       "text": [
        " /home/brant/Downloads/O block 72 of 200 tmax: 20758.5640223\n",
        "file"
       ]
      },
      {
       "output_type": "stream",
       "stream": "stdout",
       "text": [
        " /home/brant/Downloads/O block 73 of 200 tmax: 20789.5963689\n",
        "file"
       ]
      },
      {
       "output_type": "stream",
       "stream": "stdout",
       "text": [
        " /home/brant/Downloads/O block 74 of 200 tmax: 20820.613143\n",
        "file"
       ]
      },
      {
       "output_type": "stream",
       "stream": "stdout",
       "text": [
        " /home/brant/Downloads/O block 75 of 200 tmax: 20851.6407527\n",
        "file"
       ]
      },
      {
       "output_type": "stream",
       "stream": "stdout",
       "text": [
        " /home/brant/Downloads/O block 76 of 200 tmax: 20882.6684427\n",
        "file"
       ]
      },
      {
       "output_type": "stream",
       "stream": "stdout",
       "text": [
        " /home/brant/Downloads/O block 77 of 200 tmax: 20913.6992337\n",
        "file"
       ]
      },
      {
       "output_type": "stream",
       "stream": "stdout",
       "text": [
        " /home/brant/Downloads/O block 78 of 200 tmax: 20944.7217678\n",
        "file"
       ]
      },
      {
       "output_type": "stream",
       "stream": "stdout",
       "text": [
        " /home/brant/Downloads/O block 79 of 200 tmax: 20975.7499038\n",
        "file"
       ]
      },
      {
       "output_type": "stream",
       "stream": "stdout",
       "text": [
        " /home/brant/Downloads/O block 80 of 200 tmax: 21006.7883586\n",
        "file"
       ]
      },
      {
       "output_type": "stream",
       "stream": "stdout",
       "text": [
        " /home/brant/Downloads/O block 81 of 200 tmax: 21037.8279114\n",
        "file"
       ]
      },
      {
       "output_type": "stream",
       "stream": "stdout",
       "text": [
        " /home/brant/Downloads/O block 82 of 200 tmax: 21068.846766\n",
        "file"
       ]
      },
      {
       "output_type": "stream",
       "stream": "stdout",
       "text": [
        " /home/brant/Downloads/O block 83 of 200 tmax: 21099.876376\n",
        "file"
       ]
      },
      {
       "output_type": "stream",
       "stream": "stdout",
       "text": [
        " /home/brant/Downloads/O block 84 of 200 tmax: 21130.9077048\n",
        "file"
       ]
      },
      {
       "output_type": "stream",
       "stream": "stdout",
       "text": [
        " /home/brant/Downloads/O block 85 of 200 tmax: 21161.9512259\n",
        "file"
       ]
      },
      {
       "output_type": "stream",
       "stream": "stdout",
       "text": [
        " /home/brant/Downloads/O block 86 of 200 tmax: 21192.9758987\n",
        "file"
       ]
      },
      {
       "output_type": "stream",
       "stream": "stdout",
       "text": [
        " /home/brant/Downloads/O block 87 of 200 tmax: 21223.9939417\n",
        "file"
       ]
      },
      {
       "output_type": "stream",
       "stream": "stdout",
       "text": [
        " /home/brant/Downloads/O block 88 of 200 tmax: 21255.0330706\n",
        "file"
       ]
      },
      {
       "output_type": "stream",
       "stream": "stdout",
       "text": [
        " /home/brant/Downloads/O block 89 of 200 tmax: 21286.0792565\n",
        "file"
       ]
      },
      {
       "output_type": "stream",
       "stream": "stdout",
       "text": [
        " /home/brant/Downloads/O block 90 of 200 tmax: 21317.123052\n",
        "file"
       ]
      },
      {
       "output_type": "stream",
       "stream": "stdout",
       "text": [
        " /home/brant/Downloads/O block 91 of 200 tmax: 21348.1461236\n",
        "file"
       ]
      },
      {
       "output_type": "stream",
       "stream": "stdout",
       "text": [
        " /home/brant/Downloads/O block 92 of 200 tmax: 21379.1617091\n",
        "file"
       ]
      },
      {
       "output_type": "stream",
       "stream": "stdout",
       "text": [
        " /home/brant/Downloads/O block 93 of 200 tmax: 21410.2012844\n",
        "file"
       ]
      },
      {
       "output_type": "stream",
       "stream": "stdout",
       "text": [
        " /home/brant/Downloads/O block 94 of 200 tmax: 21441.2474365\n",
        "file"
       ]
      },
      {
       "output_type": "stream",
       "stream": "stdout",
       "text": [
        " /home/brant/Downloads/O block 95 of 200 tmax: 21472.2891163\n",
        "file"
       ]
      },
      {
       "output_type": "stream",
       "stream": "stdout",
       "text": [
        " /home/brant/Downloads/O block 96 of 200 tmax: 21503.3290575\n",
        "file"
       ]
      },
      {
       "output_type": "stream",
       "stream": "stdout",
       "text": [
        " /home/brant/Downloads/O block 97 of 200 tmax: 21534.3693536\n",
        "file"
       ]
      },
      {
       "output_type": "stream",
       "stream": "stdout",
       "text": [
        " /home/brant/Downloads/O block 98 of 200 tmax: 21565.396301\n",
        "file"
       ]
      },
      {
       "output_type": "stream",
       "stream": "stdout",
       "text": [
        " /home/brant/Downloads/O block 99 of 200 tmax: 21596.4179899\n",
        "file"
       ]
      },
      {
       "output_type": "stream",
       "stream": "stdout",
       "text": [
        " /home/brant/Downloads/O block 100 of 200 tmax: 21627.4493766\n",
        "file"
       ]
      },
      {
       "output_type": "stream",
       "stream": "stdout",
       "text": [
        " /home/brant/Downloads/O block 101 of 200 tmax: 21658.4942477\n",
        "file"
       ]
      },
      {
       "output_type": "stream",
       "stream": "stdout",
       "text": [
        " /home/brant/Downloads/O block 102 of 200 tmax: 21689.5114455\n",
        "file"
       ]
      },
      {
       "output_type": "stream",
       "stream": "stdout",
       "text": [
        " /home/brant/Downloads/O block 103 of 200 tmax: 21720.5515697\n",
        "file"
       ]
      },
      {
       "output_type": "stream",
       "stream": "stdout",
       "text": [
        " /home/brant/Downloads/O block 104 of 200 tmax: 21751.5757384\n",
        "file"
       ]
      },
      {
       "output_type": "stream",
       "stream": "stdout",
       "text": [
        " /home/brant/Downloads/O block 105 of 200 tmax: 21782.5916785\n",
        "file"
       ]
      },
      {
       "output_type": "stream",
       "stream": "stdout",
       "text": [
        " /home/brant/Downloads/O block 106 of 200 tmax: 21813.6276627\n",
        "file"
       ]
      },
      {
       "output_type": "stream",
       "stream": "stdout",
       "text": [
        " /home/brant/Downloads/O block 107 of 200 tmax: 21844.653959\n",
        "file"
       ]
      },
      {
       "output_type": "stream",
       "stream": "stdout",
       "text": [
        " /home/brant/Downloads/O block 108 of 200 tmax: 21875.6910524\n",
        "file"
       ]
      },
      {
       "output_type": "stream",
       "stream": "stdout",
       "text": [
        " /home/brant/Downloads/O block 109 of 200 tmax: 21906.7144897\n",
        "file"
       ]
      },
      {
       "output_type": "stream",
       "stream": "stdout",
       "text": [
        " /home/brant/Downloads/O block 110 of 200 tmax: 21937.7306929\n",
        "file"
       ]
      },
      {
       "output_type": "stream",
       "stream": "stdout",
       "text": [
        " /home/brant/Downloads/O block 111 of 200 tmax: 21968.7630395\n",
        "file"
       ]
      },
      {
       "output_type": "stream",
       "stream": "stdout",
       "text": [
        " /home/brant/Downloads/O block 112 of 200 tmax: 21999.7862024\n",
        "file"
       ]
      },
      {
       "output_type": "stream",
       "stream": "stdout",
       "text": [
        " /home/brant/Downloads/O block 113 of 200 tmax: 22030.8017545\n",
        "file"
       ]
      },
      {
       "output_type": "stream",
       "stream": "stdout",
       "text": [
        " /home/brant/Downloads/O block 114 of 200 tmax: 22061.8337126\n",
        "file"
       ]
      },
      {
       "output_type": "stream",
       "stream": "stdout",
       "text": [
        " /home/brant/Downloads/O block 115 of 200 tmax: 22092.8549444\n",
        "file"
       ]
      },
      {
       "output_type": "stream",
       "stream": "stdout",
       "text": [
        " /home/brant/Downloads/O block 116 of 200 tmax: 22123.8749074\n",
        "file"
       ]
      },
      {
       "output_type": "stream",
       "stream": "stdout",
       "text": [
        " /home/brant/Downloads/O block 117 of 200 tmax: 22154.9172967\n",
        "file"
       ]
      },
      {
       "output_type": "stream",
       "stream": "stdout",
       "text": [
        " /home/brant/Downloads/O block 118 of 200 tmax: 22185.9358994\n",
        "file"
       ]
      },
      {
       "output_type": "stream",
       "stream": "stdout",
       "text": [
        " /home/brant/Downloads/O block 119 of 200 tmax: 22216.9755549\n",
        "file"
       ]
      },
      {
       "output_type": "stream",
       "stream": "stdout",
       "text": [
        " /home/brant/Downloads/O block 120 of 200 tmax: 22248.0240862\n",
        "file"
       ]
      },
      {
       "output_type": "stream",
       "stream": "stdout",
       "text": [
        " /home/brant/Downloads/O block 121 of 200 tmax: 22279.0542336\n",
        "file"
       ]
      },
      {
       "output_type": "stream",
       "stream": "stdout",
       "text": [
        " /home/brant/Downloads/O block 122 of 200 tmax: 22310.1005687\n",
        "file"
       ]
      },
      {
       "output_type": "stream",
       "stream": "stdout",
       "text": [
        " /home/brant/Downloads/O block 123 of 200 tmax: 22341.1184177\n",
        "file"
       ]
      },
      {
       "output_type": "stream",
       "stream": "stdout",
       "text": [
        " /home/brant/Downloads/O block 124 of 200 tmax: 22372.161653\n",
        "file"
       ]
      },
      {
       "output_type": "stream",
       "stream": "stdout",
       "text": [
        " /home/brant/Downloads/O block 125 of 200 tmax: 22403.1933478\n",
        "file"
       ]
      },
      {
       "output_type": "stream",
       "stream": "stdout",
       "text": [
        " /home/brant/Downloads/O block 126 of 200 tmax: 22434.23274\n",
        "file"
       ]
      },
      {
       "output_type": "stream",
       "stream": "stdout",
       "text": [
        " /home/brant/Downloads/O block 127 of 200 tmax: 22465.2477547\n",
        "file"
       ]
      },
      {
       "output_type": "stream",
       "stream": "stdout",
       "text": [
        " /home/brant/Downloads/O block 128 of 200 tmax: 22496.272519\n",
        "file"
       ]
      },
      {
       "output_type": "stream",
       "stream": "stdout",
       "text": [
        " /home/brant/Downloads/O block 129 of 200 tmax: 22527.309887\n",
        "file"
       ]
      },
      {
       "output_type": "stream",
       "stream": "stdout",
       "text": [
        " /home/brant/Downloads/O block 130 of 200 tmax: 22558.3367653\n",
        "file"
       ]
      },
      {
       "output_type": "stream",
       "stream": "stdout",
       "text": [
        " /home/brant/Downloads/O block 131 of 200 tmax: 22589.3630727\n",
        "file"
       ]
      },
      {
       "output_type": "stream",
       "stream": "stdout",
       "text": [
        " /home/brant/Downloads/O block 132 of 200 tmax: 22620.3908541\n",
        "file"
       ]
      },
      {
       "output_type": "stream",
       "stream": "stdout",
       "text": [
        " /home/brant/Downloads/O block 133 of 200 tmax: 22651.4341585\n",
        "file"
       ]
      },
      {
       "output_type": "stream",
       "stream": "stdout",
       "text": [
        " /home/brant/Downloads/O block 134 of 200 tmax: 22682.462009\n",
        "file"
       ]
      },
      {
       "output_type": "stream",
       "stream": "stdout",
       "text": [
        " /home/brant/Downloads/O block 135 of 200 tmax: 22713.5082527\n",
        "file"
       ]
      },
      {
       "output_type": "stream",
       "stream": "stdout",
       "text": [
        " /home/brant/Downloads/O block 136 of 200 tmax: 22744.5321471\n",
        "file"
       ]
      },
      {
       "output_type": "stream",
       "stream": "stdout",
       "text": [
        " /home/brant/Downloads/O block 137 of 200 tmax: 22775.5709903\n",
        "file"
       ]
      },
      {
       "output_type": "stream",
       "stream": "stdout",
       "text": [
        " /home/brant/Downloads/O block 138 of 200 tmax: 22753.39172\n",
        "file"
       ]
      },
      {
       "output_type": "stream",
       "stream": "stdout",
       "text": [
        " /home/brant/Downloads/O block 139 of 200 tmax: 22784.421776\n",
        "file"
       ]
      },
      {
       "output_type": "stream",
       "stream": "stdout",
       "text": [
        " /home/brant/Downloads/O block 140 of 200 tmax: 22815.4598984\n",
        "file"
       ]
      },
      {
       "output_type": "stream",
       "stream": "stdout",
       "text": [
        " /home/brant/Downloads/O block 141 of 200 tmax: 22846.4719071\n",
        "file"
       ]
      },
      {
       "output_type": "stream",
       "stream": "stdout",
       "text": [
        " /home/brant/Downloads/O block 142 of 200 tmax: 22877.5024091\n",
        "file"
       ]
      },
      {
       "output_type": "stream",
       "stream": "stdout",
       "text": [
        " /home/brant/Downloads/O block 143 of 200 tmax: 22908.5479207\n",
        "file"
       ]
      },
      {
       "output_type": "stream",
       "stream": "stdout",
       "text": [
        " /home/brant/Downloads/O block 144 of 200 tmax: 22939.559644\n",
        "file"
       ]
      },
      {
       "output_type": "stream",
       "stream": "stdout",
       "text": [
        " /home/brant/Downloads/O block 145 of 200 tmax: 22970.5796872\n",
        "file"
       ]
      },
      {
       "output_type": "stream",
       "stream": "stdout",
       "text": [
        " /home/brant/Downloads/O block 146 of 200 tmax: 23001.6107639\n",
        "file"
       ]
      },
      {
       "output_type": "stream",
       "stream": "stdout",
       "text": [
        " /home/brant/Downloads/O block 147 of 200 tmax: 23032.6349685\n",
        "file"
       ]
      },
      {
       "output_type": "stream",
       "stream": "stdout",
       "text": [
        " /home/brant/Downloads/O block 148 of 200 tmax: 23063.6712497\n",
        "file"
       ]
      },
      {
       "output_type": "stream",
       "stream": "stdout",
       "text": [
        " /home/brant/Downloads/O block 149 of 200 tmax: 23094.7189574\n",
        "file"
       ]
      },
      {
       "output_type": "stream",
       "stream": "stdout",
       "text": [
        " /home/brant/Downloads/O block 150 of 200 tmax: 23125.7506522\n",
        "file"
       ]
      },
      {
       "output_type": "stream",
       "stream": "stdout",
       "text": [
        " /home/brant/Downloads/O block 151 of 200 tmax: 23156.7868081\n",
        "file"
       ]
      },
      {
       "output_type": "stream",
       "stream": "stdout",
       "text": [
        " /home/brant/Downloads/O block 152 of 200 tmax: 23187.8252853\n",
        "file"
       ]
      },
      {
       "output_type": "stream",
       "stream": "stdout",
       "text": [
        " /home/brant/Downloads/O block 153 of 200 tmax: 23218.8609035\n",
        "file"
       ]
      },
      {
       "output_type": "stream",
       "stream": "stdout",
       "text": [
        " /home/brant/Downloads/O block 154 of 200 tmax: 23249.8914278\n",
        "file"
       ]
      },
      {
       "output_type": "stream",
       "stream": "stdout",
       "text": [
        " /home/brant/Downloads/O block 155 of 200 tmax: 23280.9224821\n",
        "file"
       ]
      },
      {
       "output_type": "stream",
       "stream": "stdout",
       "text": [
        " /home/brant/Downloads/O block 156 of 200 tmax: 23311.9466396\n",
        "file"
       ]
      },
      {
       "output_type": "stream",
       "stream": "stdout",
       "text": [
        " /home/brant/Downloads/O block 157 of 200 tmax: 23342.9591054\n",
        "file"
       ]
      },
      {
       "output_type": "stream",
       "stream": "stdout",
       "text": [
        " /home/brant/Downloads/O block 158 of 200 tmax: 23374.0067216\n",
        "file"
       ]
      },
      {
       "output_type": "stream",
       "stream": "stdout",
       "text": [
        " /home/brant/Downloads/O block 159 of 200 tmax: 23405.0450046\n",
        "file"
       ]
      },
      {
       "output_type": "stream",
       "stream": "stdout",
       "text": [
        " /home/brant/Downloads/O block 160 of 200 tmax: 23436.0817432\n",
        "file"
       ]
      },
      {
       "output_type": "stream",
       "stream": "stdout",
       "text": [
        " /home/brant/Downloads/O block 161 of 200 tmax: 23467.1157368\n",
        "file"
       ]
      },
      {
       "output_type": "stream",
       "stream": "stdout",
       "text": [
        " /home/brant/Downloads/O block 162 of 200 tmax: 23498.1640963\n",
        "file"
       ]
      },
      {
       "output_type": "stream",
       "stream": "stdout",
       "text": [
        " /home/brant/Downloads/O block 163 of 200 tmax: 23529.2084184\n",
        "file"
       ]
      },
      {
       "output_type": "stream",
       "stream": "stdout",
       "text": [
        " /home/brant/Downloads/O block 164 of 200 tmax: 23560.2360058\n",
        "file"
       ]
      },
      {
       "output_type": "stream",
       "stream": "stdout",
       "text": [
        " /home/brant/Downloads/O block 165 of 200 tmax: 23591.2761991\n",
        "file"
       ]
      },
      {
       "output_type": "stream",
       "stream": "stdout",
       "text": [
        " /home/brant/Downloads/O block 166 of 200 tmax: 23622.2928595\n",
        "file"
       ]
      },
      {
       "output_type": "stream",
       "stream": "stdout",
       "text": [
        " /home/brant/Downloads/O block 167 of 200 tmax: 23653.3176929\n",
        "file"
       ]
      },
      {
       "output_type": "stream",
       "stream": "stdout",
       "text": [
        " /home/brant/Downloads/O block 168 of 200 tmax: 23684.3638339\n",
        "file"
       ]
      },
      {
       "output_type": "stream",
       "stream": "stdout",
       "text": [
        " /home/brant/Downloads/O block 169 of 200 tmax: 23715.377466\n",
        "file"
       ]
      },
      {
       "output_type": "stream",
       "stream": "stdout",
       "text": [
        " /home/brant/Downloads/O block 170 of 200 tmax: 23746.4220514\n",
        "file"
       ]
      },
      {
       "output_type": "stream",
       "stream": "stdout",
       "text": [
        " /home/brant/Downloads/O block 171 of 200 tmax: 23777.4343232\n",
        "file"
       ]
      },
      {
       "output_type": "stream",
       "stream": "stdout",
       "text": [
        " /home/brant/Downloads/O block 172 of 200 tmax: 23808.4566633\n",
        "file"
       ]
      },
      {
       "output_type": "stream",
       "stream": "stdout",
       "text": [
        " /home/brant/Downloads/O block 173 of 200 tmax: 23839.484525\n",
        "file"
       ]
      },
      {
       "output_type": "stream",
       "stream": "stdout",
       "text": [
        " /home/brant/Downloads/O block 174 of 200 tmax: 23870.5330675\n",
        "file"
       ]
      },
      {
       "output_type": "stream",
       "stream": "stdout",
       "text": [
        " /home/brant/Downloads/O block 175 of 200 tmax: 23901.575651\n",
        "file"
       ]
      },
      {
       "output_type": "stream",
       "stream": "stdout",
       "text": [
        " /home/brant/Downloads/O block 176 of 200 tmax: 23932.59542\n",
        "file"
       ]
      },
      {
       "output_type": "stream",
       "stream": "stdout",
       "text": [
        " /home/brant/Downloads/O block 177 of 200 tmax: 23963.6240131\n",
        "file"
       ]
      },
      {
       "output_type": "stream",
       "stream": "stdout",
       "text": [
        " /home/brant/Downloads/O block 178 of 200 tmax: 23994.640319\n",
        "file"
       ]
      },
      {
       "output_type": "stream",
       "stream": "stdout",
       "text": [
        " /home/brant/Downloads/O block 179 of 200 tmax: 24025.6567162\n",
        "file"
       ]
      },
      {
       "output_type": "stream",
       "stream": "stdout",
       "text": [
        " /home/brant/Downloads/O block 180 of 200 tmax: 24056.6701878\n",
        "file"
       ]
      },
      {
       "output_type": "stream",
       "stream": "stdout",
       "text": [
        " /home/brant/Downloads/O block 181 of 200 tmax: 24087.6821853\n",
        "file"
       ]
      },
      {
       "output_type": "stream",
       "stream": "stdout",
       "text": [
        " /home/brant/Downloads/O block 182 of 200 tmax: 24118.6976571\n",
        "file"
       ]
      },
      {
       "output_type": "stream",
       "stream": "stdout",
       "text": [
        " /home/brant/Downloads/O block 183 of 200 tmax: 24149.7335498\n",
        "file"
       ]
      },
      {
       "output_type": "stream",
       "stream": "stdout",
       "text": [
        " /home/brant/Downloads/O block 184 of 200 tmax: 24180.7808803\n",
        "file"
       ]
      },
      {
       "output_type": "stream",
       "stream": "stdout",
       "text": [
        " /home/brant/Downloads/O block 185 of 200 tmax: 24211.8086394\n",
        "file"
       ]
      },
      {
       "output_type": "stream",
       "stream": "stdout",
       "text": [
        " /home/brant/Downloads/O block 186 of 200 tmax: 24242.8548028\n",
        "file"
       ]
      },
      {
       "output_type": "stream",
       "stream": "stdout",
       "text": [
        " /home/brant/Downloads/O block 187 of 200 tmax: 24273.8967459\n",
        "file"
       ]
      },
      {
       "output_type": "stream",
       "stream": "stdout",
       "text": [
        " /home/brant/Downloads/O block 188 of 200 tmax: 24304.915886\n",
        "file"
       ]
      },
      {
       "output_type": "stream",
       "stream": "stdout",
       "text": [
        " /home/brant/Downloads/O block 189 of 200 tmax: 24335.9431077\n",
        "file"
       ]
      },
      {
       "output_type": "stream",
       "stream": "stdout",
       "text": [
        " /home/brant/Downloads/O block 190 of 200 tmax: 24366.9772731\n",
        "file"
       ]
      },
      {
       "output_type": "stream",
       "stream": "stdout",
       "text": [
        " /home/brant/Downloads/O block 191 of 200 tmax: 24397.99039\n",
        "file"
       ]
      },
      {
       "output_type": "stream",
       "stream": "stdout",
       "text": [
        " /home/brant/Downloads/O block 192 of 200 tmax: 24429.0186286\n",
        "file"
       ]
      },
      {
       "output_type": "stream",
       "stream": "stdout",
       "text": [
        " /home/brant/Downloads/O block 193 of 200 tmax: 24460.032089\n",
        "file"
       ]
      },
      {
       "output_type": "stream",
       "stream": "stdout",
       "text": [
        " /home/brant/Downloads/O block 194 of 200 tmax: 24491.048018\n",
        "file"
       ]
      },
      {
       "output_type": "stream",
       "stream": "stdout",
       "text": [
        " /home/brant/Downloads/O block 195 of 200 tmax: 24522.0961944\n",
        "file"
       ]
      },
      {
       "output_type": "stream",
       "stream": "stdout",
       "text": [
        " /home/brant/Downloads/O block 196 of 200 tmax: 24553.1183405\n",
        "file"
       ]
      },
      {
       "output_type": "stream",
       "stream": "stdout",
       "text": [
        " /home/brant/Downloads/O block 197 of 200 tmax: 24584.1501268\n",
        "file"
       ]
      },
      {
       "output_type": "stream",
       "stream": "stdout",
       "text": [
        " /home/brant/Downloads/O block 198 of 200 tmax: 24615.1719875\n",
        "file"
       ]
      },
      {
       "output_type": "stream",
       "stream": "stdout",
       "text": [
        " /home/brant/Downloads/O block 199 of 200 tmax: 24646.2201527\n"
       ]
      }
     ],
     "prompt_number": 106
    },
    {
     "cell_type": "code",
     "collapsed": false,
     "input": [
      "plot(d2['t'],(d2['v01b']-d2['v01a'] + d2['v02b']-d2['v02a'])/2.0)\n",
      "plot(d2['t'],3*sqrt(d2['var2'])*sign((d2['v01b']-d2['v01a'] + d2['v02b']-d2['v02a'])/2.0))\n",
      "hlines(0,min(d2['t']),max(d2['t']))"
     ],
     "language": "python",
     "metadata": {},
     "outputs": [
      {
       "metadata": {},
       "output_type": "pyout",
       "prompt_number": 8,
       "text": [
        "<matplotlib.collections.LineCollection at 0x26563b90>"
       ]
      }
     ],
     "prompt_number": 8
    },
    {
     "cell_type": "code",
     "collapsed": false,
     "input": [
      "plot(d2['t'],sqrt(d2['var1'])*sign((d2['v01b']-d2['v01a'] + d2['v02b']-d2['v02a'])/2.0))\n",
      "plot(d2['t'],sqrt(d2['var2'])*sign((d2['v01b']-d2['v01a'] + d2['v02b']-d2['v02a'])/2.0))\n",
      "hlines(0,min(d2['t']),max(d2['t']))"
     ],
     "language": "python",
     "metadata": {},
     "outputs": [
      {
       "output_type": "stream",
       "stream": "stderr",
       "text": [
        "Exception in Tkinter callback\n",
        "Traceback (most recent call last):\n",
        "  File \"/usr/lib/python2.7/lib-tk/Tkinter.py\", line 1473, in __call__\n",
        "    return self.func(*args)\n",
        "  File \"/usr/lib/python2.7/lib-tk/Tkinter.py\", line 534, in callit\n",
        "    func(*args)\n",
        "  File \"/usr/lib/pymodules/python2.7/matplotlib/backends/backend_tkagg.py\", line 363, in idle_draw\n",
        "    self.draw()\n",
        "  File \"/usr/lib/pymodules/python2.7/matplotlib/backends/backend_tkagg.py\", line 348, in draw\n",
        "    FigureCanvasAgg.draw(self)\n",
        "  File \"/usr/lib/pymodules/python2.7/matplotlib/backends/backend_agg.py\", line 440, in draw\n",
        "    self.figure.draw(self.renderer)\n",
        "  File \"/usr/lib/pymodules/python2.7/matplotlib/artist.py\", line 54, in draw_wrapper\n",
        "    draw(artist, renderer, *args, **kwargs)\n",
        "  File \"/usr/lib/pymodules/python2.7/matplotlib/figure.py\", line 1006, in draw\n",
        "    func(*args)\n",
        "  File \"/usr/lib/pymodules/python2.7/matplotlib/artist.py\", line 54, in draw_wrapper\n",
        "    draw(artist, renderer, *args, **kwargs)\n",
        "  File \"/usr/lib/pymodules/python2.7/matplotlib/axes.py\", line 2086, in draw\n",
        "    a.draw(renderer)\n",
        "  File \"/usr/lib/pymodules/python2.7/matplotlib/artist.py\", line 54, in draw_wrapper\n",
        "    draw(artist, renderer, *args, **kwargs)\n",
        "  File \"/usr/lib/pymodules/python2.7/matplotlib/lines.py\", line 528, in draw\n",
        "    drawFunc(renderer, gc, tpath, affine.frozen())\n",
        "  File \"/usr/lib/pymodules/python2.7/matplotlib/lines.py\", line 867, in _draw_lines\n",
        "    self._lineFunc(renderer, gc, path, trans)\n",
        "  File \"/usr/lib/pymodules/python2.7/matplotlib/lines.py\", line 911, in _draw_solid\n",
        "    renderer.draw_path(gc, path, trans)\n",
        "  File \"/usr/lib/pymodules/python2.7/matplotlib/backends/backend_agg.py\", line 146, in draw_path\n",
        "    self._renderer.draw_path(gc, path, transform, rgbFace)\n",
        "OverflowError: Agg rendering complexity exceeded. Consider downsampling or decimating your data.\n"
       ]
      },
      {
       "metadata": {},
       "output_type": "pyout",
       "prompt_number": 4,
       "text": [
        "<matplotlib.collections.LineCollection at 0x7e6c410>"
       ]
      }
     ],
     "prompt_number": 4
    },
    {
     "cell_type": "code",
     "collapsed": false,
     "input": [
      "plot(d2['var1'],d2['var2'])"
     ],
     "language": "python",
     "metadata": {},
     "outputs": [
      {
       "metadata": {},
       "output_type": "pyout",
       "prompt_number": 3,
       "text": [
        "[<matplotlib.lines.Line2D at 0x542ca90>]"
       ]
      }
     ],
     "prompt_number": 3
    },
    {
     "cell_type": "code",
     "collapsed": false,
     "input": [
      "# sampleStorm.pdf and sampleStorm_wide.pdf generated here.  Load d.pickle (below).\n",
      "plt.clf()\n",
      "timebase=60\n",
      "plot(d['t']/timebase,sqrt(d['var1'])*sign((d['v01b']-d['v01a'] + d['v02b']-d['v02a'])/2.0))\n",
      "hlines(0,min(d['t'])/timebase,max(d['t'])/timebase)\n",
      "#plot(d2['t'],sqrt(d2['var1']))\n",
      "#plot(d2['t'],(d2['v01b']-d2['v01a'] + d2['v02b']-d2['v02a'])/2.0)\n",
      "#plot(d2['t'],sqrt(d2['var2'])*sign((d2['v01b']-d2['v01a'] + d2['v02b']-d2['v02a'])/2.0))\n",
      "#plot(d2['t'],(d2['v01b']-d2['v01a'] + d2['v02b']-d2['v02a'])/2.0)"
     ],
     "language": "python",
     "metadata": {},
     "outputs": [
      {
       "metadata": {},
       "output_type": "pyout",
       "prompt_number": 9,
       "text": [
        "<matplotlib.collections.LineCollection at 0x7f1e1ac917d0>"
       ]
      }
     ],
     "prompt_number": 9
    },
    {
     "cell_type": "code",
     "collapsed": false,
     "input": [
      "ylabel('electric field (uncalibrated, partially saturated)')\n",
      "xlabel('time (minutes)')"
     ],
     "language": "python",
     "metadata": {},
     "outputs": [
      {
       "metadata": {},
       "output_type": "pyout",
       "prompt_number": 12,
       "text": [
        "<matplotlib.text.Text at 0x4875b50>"
       ]
      }
     ],
     "prompt_number": 12
    },
    {
     "cell_type": "code",
     "collapsed": false,
     "input": [
      "1/(d['t'].values[1]-d['t'].values[0])"
     ],
     "language": "python",
     "metadata": {},
     "outputs": [
      {
       "metadata": {},
       "output_type": "pyout",
       "prompt_number": 99,
       "text": [
        "53.141080158725714"
       ]
      }
     ],
     "prompt_number": 99
    },
    {
     "cell_type": "code",
     "collapsed": false,
     "input": [
      "specgram(sqrt(d2['var1'])*sign((d2['v01b']-d2['v01a'] + d2['v02b']-d2['v02a'])/2.0),1024,53,cmap=cm.cubehelix_r)"
     ],
     "language": "python",
     "metadata": {},
     "outputs": [
      {
       "output_type": "stream",
       "stream": "stderr",
       "text": [
        "Exception in Tkinter callback\n",
        "Traceback (most recent call last):\n",
        "  File \"/usr/lib/python2.7/lib-tk/Tkinter.py\", line 1473, in __call__\n",
        "    return self.func(*args)\n",
        "  File \"/usr/lib/python2.7/lib-tk/Tkinter.py\", line 534, in callit\n",
        "    func(*args)\n",
        "  File \"/usr/lib/pymodules/python2.7/matplotlib/backends/backend_tkagg.py\", line 363, in idle_draw\n",
        "    self.draw()\n",
        "  File \"/usr/lib/pymodules/python2.7/matplotlib/backends/backend_tkagg.py\", line 348, in draw\n",
        "    FigureCanvasAgg.draw(self)\n",
        "  File \"/usr/lib/pymodules/python2.7/matplotlib/backends/backend_agg.py\", line 440, in draw\n",
        "    self.figure.draw(self.renderer)\n",
        "  File \"/usr/lib/pymodules/python2.7/matplotlib/artist.py\", line 54, in draw_wrapper\n",
        "    draw(artist, renderer, *args, **kwargs)\n",
        "  File \"/usr/lib/pymodules/python2.7/matplotlib/figure.py\", line 1006, in draw\n",
        "    func(*args)\n",
        "  File \"/usr/lib/pymodules/python2.7/matplotlib/artist.py\", line 54, in draw_wrapper\n",
        "    draw(artist, renderer, *args, **kwargs)\n",
        "  File \"/usr/lib/pymodules/python2.7/matplotlib/axes.py\", line 2086, in draw\n",
        "    a.draw(renderer)\n",
        "  File \"/usr/lib/pymodules/python2.7/matplotlib/artist.py\", line 54, in draw_wrapper\n",
        "    draw(artist, renderer, *args, **kwargs)\n",
        "  File \"/usr/lib/pymodules/python2.7/matplotlib/lines.py\", line 528, in draw\n",
        "    drawFunc(renderer, gc, tpath, affine.frozen())\n",
        "  File \"/usr/lib/pymodules/python2.7/matplotlib/lines.py\", line 867, in _draw_lines\n",
        "    self._lineFunc(renderer, gc, path, trans)\n",
        "  File \"/usr/lib/pymodules/python2.7/matplotlib/lines.py\", line 911, in _draw_solid\n",
        "    renderer.draw_path(gc, path, trans)\n",
        "  File \"/usr/lib/pymodules/python2.7/matplotlib/backends/backend_agg.py\", line 146, in draw_path\n",
        "    self._renderer.draw_path(gc, path, transform, rgbFace)\n",
        "OverflowError: Agg rendering complexity exceeded. Consider downsampling or decimating your data.\n"
       ]
      },
      {
       "metadata": {},
       "output_type": "pyout",
       "prompt_number": 121,
       "text": [
        "(array([[  1.69207741e+05,   1.75798574e+05,   1.67325126e+05, ...,\n",
        "          5.08052433e+05,   5.18328826e+05,   5.20190156e+05],\n",
        "       [  8.52057083e+04,   8.92383488e+04,   8.37171253e+04, ...,\n",
        "          2.53130291e+05,   2.59808748e+05,   2.64415351e+05],\n",
        "       [  6.72697852e-01,   7.37748944e+00,   3.06386246e-01, ...,\n",
        "          2.10982967e+00,   3.30165663e-02,   2.23411978e+01],\n",
        "       ..., \n",
        "       [  3.87484643e-03,   9.68958814e-03,   3.11632083e-03, ...,\n",
        "          3.84024533e-03,   8.33629860e-03,   9.96650798e-03],\n",
        "       [  3.78823443e-02,   6.44624566e-03,   3.06989003e-02, ...,\n",
        "          2.42404129e-02,   5.98402756e-02,   5.17886548e-02],\n",
        "       [  5.32105074e-02,   1.81922781e-02,   5.29346792e-02, ...,\n",
        "          6.24934784e-02,   8.07029045e-02,   5.88830632e-02]]),\n",
        " array([  0.        ,   0.05175781,   0.10351562,   0.15527344,\n",
        "         0.20703125,   0.25878906,   0.31054688,   0.36230469,\n",
        "         0.4140625 ,   0.46582031,   0.51757812,   0.56933594,\n",
        "         0.62109375,   0.67285156,   0.72460938,   0.77636719,\n",
        "         0.828125  ,   0.87988281,   0.93164062,   0.98339844,\n",
        "         1.03515625,   1.08691406,   1.13867188,   1.19042969,\n",
        "         1.2421875 ,   1.29394531,   1.34570312,   1.39746094,\n",
        "         1.44921875,   1.50097656,   1.55273438,   1.60449219,\n",
        "         1.65625   ,   1.70800781,   1.75976562,   1.81152344,\n",
        "         1.86328125,   1.91503906,   1.96679688,   2.01855469,\n",
        "         2.0703125 ,   2.12207031,   2.17382812,   2.22558594,\n",
        "         2.27734375,   2.32910156,   2.38085938,   2.43261719,\n",
        "         2.484375  ,   2.53613281,   2.58789062,   2.63964844,\n",
        "         2.69140625,   2.74316406,   2.79492188,   2.84667969,\n",
        "         2.8984375 ,   2.95019531,   3.00195312,   3.05371094,\n",
        "         3.10546875,   3.15722656,   3.20898438,   3.26074219,\n",
        "         3.3125    ,   3.36425781,   3.41601562,   3.46777344,\n",
        "         3.51953125,   3.57128906,   3.62304688,   3.67480469,\n",
        "         3.7265625 ,   3.77832031,   3.83007812,   3.88183594,\n",
        "         3.93359375,   3.98535156,   4.03710938,   4.08886719,\n",
        "         4.140625  ,   4.19238281,   4.24414062,   4.29589844,\n",
        "         4.34765625,   4.39941406,   4.45117188,   4.50292969,\n",
        "         4.5546875 ,   4.60644531,   4.65820312,   4.70996094,\n",
        "         4.76171875,   4.81347656,   4.86523438,   4.91699219,\n",
        "         4.96875   ,   5.02050781,   5.07226562,   5.12402344,\n",
        "         5.17578125,   5.22753906,   5.27929688,   5.33105469,\n",
        "         5.3828125 ,   5.43457031,   5.48632812,   5.53808594,\n",
        "         5.58984375,   5.64160156,   5.69335938,   5.74511719,\n",
        "         5.796875  ,   5.84863281,   5.90039062,   5.95214844,\n",
        "         6.00390625,   6.05566406,   6.10742188,   6.15917969,\n",
        "         6.2109375 ,   6.26269531,   6.31445312,   6.36621094,\n",
        "         6.41796875,   6.46972656,   6.52148438,   6.57324219,\n",
        "         6.625     ,   6.67675781,   6.72851562,   6.78027344,\n",
        "         6.83203125,   6.88378906,   6.93554688,   6.98730469,\n",
        "         7.0390625 ,   7.09082031,   7.14257812,   7.19433594,\n",
        "         7.24609375,   7.29785156,   7.34960938,   7.40136719,\n",
        "         7.453125  ,   7.50488281,   7.55664062,   7.60839844,\n",
        "         7.66015625,   7.71191406,   7.76367188,   7.81542969,\n",
        "         7.8671875 ,   7.91894531,   7.97070312,   8.02246094,\n",
        "         8.07421875,   8.12597656,   8.17773438,   8.22949219,\n",
        "         8.28125   ,   8.33300781,   8.38476562,   8.43652344,\n",
        "         8.48828125,   8.54003906,   8.59179688,   8.64355469,\n",
        "         8.6953125 ,   8.74707031,   8.79882812,   8.85058594,\n",
        "         8.90234375,   8.95410156,   9.00585938,   9.05761719,\n",
        "         9.109375  ,   9.16113281,   9.21289062,   9.26464844,\n",
        "         9.31640625,   9.36816406,   9.41992188,   9.47167969,\n",
        "         9.5234375 ,   9.57519531,   9.62695312,   9.67871094,\n",
        "         9.73046875,   9.78222656,   9.83398438,   9.88574219,\n",
        "         9.9375    ,   9.98925781,  10.04101562,  10.09277344,\n",
        "        10.14453125,  10.19628906,  10.24804688,  10.29980469,\n",
        "        10.3515625 ,  10.40332031,  10.45507812,  10.50683594,\n",
        "        10.55859375,  10.61035156,  10.66210938,  10.71386719,\n",
        "        10.765625  ,  10.81738281,  10.86914062,  10.92089844,\n",
        "        10.97265625,  11.02441406,  11.07617188,  11.12792969,\n",
        "        11.1796875 ,  11.23144531,  11.28320312,  11.33496094,\n",
        "        11.38671875,  11.43847656,  11.49023438,  11.54199219,\n",
        "        11.59375   ,  11.64550781,  11.69726562,  11.74902344,\n",
        "        11.80078125,  11.85253906,  11.90429688,  11.95605469,\n",
        "        12.0078125 ,  12.05957031,  12.11132812,  12.16308594,\n",
        "        12.21484375,  12.26660156,  12.31835938,  12.37011719,\n",
        "        12.421875  ,  12.47363281,  12.52539062,  12.57714844,\n",
        "        12.62890625,  12.68066406,  12.73242188,  12.78417969,\n",
        "        12.8359375 ,  12.88769531,  12.93945312,  12.99121094,\n",
        "        13.04296875,  13.09472656,  13.14648438,  13.19824219,\n",
        "        13.25      ,  13.30175781,  13.35351562,  13.40527344,\n",
        "        13.45703125,  13.50878906,  13.56054688,  13.61230469,\n",
        "        13.6640625 ,  13.71582031,  13.76757812,  13.81933594,\n",
        "        13.87109375,  13.92285156,  13.97460938,  14.02636719,\n",
        "        14.078125  ,  14.12988281,  14.18164062,  14.23339844,\n",
        "        14.28515625,  14.33691406,  14.38867188,  14.44042969,\n",
        "        14.4921875 ,  14.54394531,  14.59570312,  14.64746094,\n",
        "        14.69921875,  14.75097656,  14.80273438,  14.85449219,\n",
        "        14.90625   ,  14.95800781,  15.00976562,  15.06152344,\n",
        "        15.11328125,  15.16503906,  15.21679688,  15.26855469,\n",
        "        15.3203125 ,  15.37207031,  15.42382812,  15.47558594,\n",
        "        15.52734375,  15.57910156,  15.63085938,  15.68261719,\n",
        "        15.734375  ,  15.78613281,  15.83789062,  15.88964844,\n",
        "        15.94140625,  15.99316406,  16.04492188,  16.09667969,\n",
        "        16.1484375 ,  16.20019531,  16.25195312,  16.30371094,\n",
        "        16.35546875,  16.40722656,  16.45898438,  16.51074219,\n",
        "        16.5625    ,  16.61425781,  16.66601562,  16.71777344,\n",
        "        16.76953125,  16.82128906,  16.87304688,  16.92480469,\n",
        "        16.9765625 ,  17.02832031,  17.08007812,  17.13183594,\n",
        "        17.18359375,  17.23535156,  17.28710938,  17.33886719,\n",
        "        17.390625  ,  17.44238281,  17.49414062,  17.54589844,\n",
        "        17.59765625,  17.64941406,  17.70117188,  17.75292969,\n",
        "        17.8046875 ,  17.85644531,  17.90820312,  17.95996094,\n",
        "        18.01171875,  18.06347656,  18.11523438,  18.16699219,\n",
        "        18.21875   ,  18.27050781,  18.32226562,  18.37402344,\n",
        "        18.42578125,  18.47753906,  18.52929688,  18.58105469,\n",
        "        18.6328125 ,  18.68457031,  18.73632812,  18.78808594,\n",
        "        18.83984375,  18.89160156,  18.94335938,  18.99511719,\n",
        "        19.046875  ,  19.09863281,  19.15039062,  19.20214844,\n",
        "        19.25390625,  19.30566406,  19.35742188,  19.40917969,\n",
        "        19.4609375 ,  19.51269531,  19.56445312,  19.61621094,\n",
        "        19.66796875,  19.71972656,  19.77148438,  19.82324219,\n",
        "        19.875     ,  19.92675781,  19.97851562,  20.03027344,\n",
        "        20.08203125,  20.13378906,  20.18554688,  20.23730469,\n",
        "        20.2890625 ,  20.34082031,  20.39257812,  20.44433594,\n",
        "        20.49609375,  20.54785156,  20.59960938,  20.65136719,\n",
        "        20.703125  ,  20.75488281,  20.80664062,  20.85839844,\n",
        "        20.91015625,  20.96191406,  21.01367188,  21.06542969,\n",
        "        21.1171875 ,  21.16894531,  21.22070312,  21.27246094,\n",
        "        21.32421875,  21.37597656,  21.42773438,  21.47949219,\n",
        "        21.53125   ,  21.58300781,  21.63476562,  21.68652344,\n",
        "        21.73828125,  21.79003906,  21.84179688,  21.89355469,\n",
        "        21.9453125 ,  21.99707031,  22.04882812,  22.10058594,\n",
        "        22.15234375,  22.20410156,  22.25585938,  22.30761719,\n",
        "        22.359375  ,  22.41113281,  22.46289062,  22.51464844,\n",
        "        22.56640625,  22.61816406,  22.66992188,  22.72167969,\n",
        "        22.7734375 ,  22.82519531,  22.87695312,  22.92871094,\n",
        "        22.98046875,  23.03222656,  23.08398438,  23.13574219,\n",
        "        23.1875    ,  23.23925781,  23.29101562,  23.34277344,\n",
        "        23.39453125,  23.44628906,  23.49804688,  23.54980469,\n",
        "        23.6015625 ,  23.65332031,  23.70507812,  23.75683594,\n",
        "        23.80859375,  23.86035156,  23.91210938,  23.96386719,\n",
        "        24.015625  ,  24.06738281,  24.11914062,  24.17089844,\n",
        "        24.22265625,  24.27441406,  24.32617188,  24.37792969,\n",
        "        24.4296875 ,  24.48144531,  24.53320312,  24.58496094,\n",
        "        24.63671875,  24.68847656,  24.74023438,  24.79199219,\n",
        "        24.84375   ,  24.89550781,  24.94726562,  24.99902344,\n",
        "        25.05078125,  25.10253906,  25.15429688,  25.20605469,\n",
        "        25.2578125 ,  25.30957031,  25.36132812,  25.41308594,\n",
        "        25.46484375,  25.51660156,  25.56835938,  25.62011719,\n",
        "        25.671875  ,  25.72363281,  25.77539062,  25.82714844,\n",
        "        25.87890625,  25.93066406,  25.98242188,  26.03417969,\n",
        "        26.0859375 ,  26.13769531,  26.18945312,  26.24121094,\n",
        "        26.29296875,  26.34472656,  26.39648438,  26.44824219,  26.5       ]),\n",
        " array([  9.66037736e+00,   2.65660377e+01,   4.34716981e+01, ...,\n",
        "         2.47595472e+04,   2.47764528e+04,   2.47933585e+04]),\n",
        " <matplotlib.image.AxesImage at 0x1a4159c10>)"
       ]
      }
     ],
     "prompt_number": 121
    },
    {
     "cell_type": "code",
     "collapsed": false,
     "input": [
      "#plot(d['t']/60,d['v01b']-d['v01a'])\n",
      "plot(d['t']/60,(d['v01b']-d['v01a'] + d['v02b']-d['v02a'])/2.0)"
     ],
     "language": "python",
     "metadata": {},
     "outputs": [
      {
       "metadata": {},
       "output_type": "pyout",
       "prompt_number": 8,
       "text": [
        "[<matplotlib.lines.Line2D at 0x7f1e1ac66910>]"
       ]
      }
     ],
     "prompt_number": 8
    },
    {
     "cell_type": "code",
     "collapsed": false,
     "input": [
      "t = d2['t'].values\n",
      "v01a = d2['v01a'].values\n",
      "sel = v01a>1000.0\n",
      "plot(t[sel],sqrt(v01a[sel]))"
     ],
     "language": "python",
     "metadata": {},
     "outputs": [
      {
       "metadata": {},
       "output_type": "pyout",
       "prompt_number": 79,
       "text": [
        "[<matplotlib.lines.Line2D at 0x183455910>]"
       ]
      }
     ],
     "prompt_number": 79
    },
    {
     "cell_type": "code",
     "collapsed": false,
     "input": [
      "#plot(d2['t'],sqrt(d2['v01b']),label=\"1b\")\n",
      "plot(d2['t'],sqrt(d2['v01a']),label=\"1a\")\n",
      "#plot(d2['t'],sqrt(d2['v02b']),label=\"2b\")\n",
      "plot(d2['t'],sqrt(d2['v02a']),label=\"2a\")\n",
      "legend()"
     ],
     "language": "python",
     "metadata": {},
     "outputs": [
      {
       "metadata": {},
       "output_type": "pyout",
       "prompt_number": 8,
       "text": [
        "<matplotlib.legend.Legend at 0x10270b90>"
       ]
      }
     ],
     "prompt_number": 8
    },
    {
     "cell_type": "code",
     "collapsed": false,
     "input": [
      "d2.to_pickle(\"/home/brant/d2.pickle\")"
     ],
     "language": "python",
     "metadata": {},
     "outputs": [],
     "prompt_number": 117
    },
    {
     "cell_type": "code",
     "collapsed": false,
     "input": [
      "d = pd.read_pickle(\"/home/brant/d.pickle\")"
     ],
     "language": "python",
     "metadata": {},
     "outputs": [],
     "prompt_number": 7
    },
    {
     "cell_type": "code",
     "collapsed": false,
     "input": [
      "d2 = "
     ],
     "language": "python",
     "metadata": {},
     "outputs": [
      {
       "metadata": {},
       "output_type": "pyout",
       "prompt_number": 99,
       "text": [
        "9.0"
       ]
      }
     ],
     "prompt_number": 99
    },
    {
     "cell_type": "code",
     "collapsed": false,
     "input": [
      "##ax1 = subplot(211)\n",
      "#plot(b['t'],b['adc1'],label=\"adc0\")\n",
      "##ax2 = subplot(212,sharex=ax1)\n",
      "#plot(b['t'],b['adc0'],label=\"adc1\")\n",
      "#plot(b['t'],b['adc2'],label=\"adc2\")\n",
      "##legend()\n",
      "plot(d2['t'],sqrt(d2['v01a']),label=\"1a\")\n",
      "#plot(d2['t'],sqrt(d2['v02b']),label=\"2b\")\n",
      "plot(d2['t'],sqrt(d2['v02a']),label=\"2a\")\n",
      "\n",
      "#xlim(0,15)"
     ],
     "language": "python",
     "metadata": {},
     "outputs": [
      {
       "metadata": {},
       "output_type": "pyout",
       "prompt_number": 5,
       "text": [
        "[<matplotlib.lines.Line2D at 0x7f1e1ad9cd50>]"
       ]
      }
     ],
     "prompt_number": 5
    },
    {
     "cell_type": "code",
     "collapsed": false,
     "input": [
      "d2 = pd.read_pickle(\"/home/brant/d2.pickle\")"
     ],
     "language": "python",
     "metadata": {},
     "outputs": [],
     "prompt_number": 3
    },
    {
     "cell_type": "code",
     "collapsed": false,
     "input": [
      "hlines(b['adc1'].mean(),9,10)"
     ],
     "language": "python",
     "metadata": {},
     "outputs": [
      {
       "metadata": {},
       "output_type": "pyout",
       "prompt_number": 33,
       "text": [
        "<matplotlib.collections.LineCollection at 0x7e88ecd0>"
       ]
      }
     ],
     "prompt_number": 33
    },
    {
     "cell_type": "code",
     "collapsed": false,
     "input": [
      "plot(d2['t'],d2['v01b']-d2['v01a'])\n",
      "#plot(d2['t'],d2['v01b'])\n",
      "plot(d2['t'],d2['v02b']-d2['v02a'])\n",
      "#plot(d2['t'],d2['v02b'])"
     ],
     "language": "python",
     "metadata": {},
     "outputs": [
      {
       "metadata": {},
       "output_type": "pyout",
       "prompt_number": 18,
       "text": [
        "[<matplotlib.lines.Line2D at 0x7f98932e5e10>]"
       ]
      }
     ],
     "prompt_number": 18
    },
    {
     "cell_type": "code",
     "collapsed": false,
     "input": [
      "plot(d2['t'],d2['var1'])"
     ],
     "language": "python",
     "metadata": {},
     "outputs": [
      {
       "metadata": {},
       "output_type": "pyout",
       "prompt_number": 4,
       "text": [
        "[<matplotlib.lines.Line2D at 0x7f1e1aeeae10>]"
       ]
      }
     ],
     "prompt_number": 4
    },
    {
     "cell_type": "code",
     "collapsed": false,
     "input": [
      "figure()"
     ],
     "language": "python",
     "metadata": {},
     "outputs": [
      {
       "metadata": {},
       "output_type": "pyout",
       "prompt_number": 10,
       "text": [
        "<matplotlib.figure.Figure at 0x7f989350f850>"
       ]
      }
     ],
     "prompt_number": 10
    },
    {
     "cell_type": "code",
     "collapsed": false,
     "input": [
      "plt.clf()"
     ],
     "language": "python",
     "metadata": {},
     "outputs": [],
     "prompt_number": 17
    },
    {
     "cell_type": "code",
     "collapsed": false,
     "input": [
      "d2"
     ],
     "language": "python",
     "metadata": {},
     "outputs": [
      {
       "html": [
        "<pre>\n",
        "&lt;class 'pandas.core.frame.DataFrame'&gt;\n",
        "Int64Index: 1314964 entries, 0 to 1649\n",
        "Data columns (total 7 columns):\n",
        "t       1314964  non-null values\n",
        "v01a    1314964  non-null values\n",
        "v01b    1314964  non-null values\n",
        "v02a    1314964  non-null values\n",
        "v02b    1314964  non-null values\n",
        "var1    1311114  non-null values\n",
        "var2    1311038  non-null values\n",
        "dtypes: float64(7)\n",
        "</pre>"
       ],
       "metadata": {},
       "output_type": "pyout",
       "prompt_number": 19,
       "text": [
        "<class 'pandas.core.frame.DataFrame'>\n",
        "Int64Index: 1314964 entries, 0 to 1649\n",
        "Data columns (total 7 columns):\n",
        "t       1314964  non-null values\n",
        "v01a    1314964  non-null values\n",
        "v01b    1314964  non-null values\n",
        "v02a    1314964  non-null values\n",
        "v02b    1314964  non-null values\n",
        "var1    1311114  non-null values\n",
        "var2    1311038  non-null values\n",
        "dtypes: float64(7)"
       ]
      }
     ],
     "prompt_number": 19
    },
    {
     "cell_type": "code",
     "collapsed": false,
     "input": [],
     "language": "python",
     "metadata": {},
     "outputs": []
    }
   ],
   "metadata": {}
  }
 ]
}