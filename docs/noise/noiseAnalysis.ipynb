{
 "cells": [
  {
   "cell_type": "code",
   "execution_count": 1,
   "metadata": {
    "collapsed": false
   },
   "outputs": [
    {
     "name": "stdout",
     "output_type": "stream",
     "text": [
      "Using matplotlib backend: Qt5Agg\n",
      "Populating the interactive namespace from numpy and matplotlib\n"
     ]
    }
   ],
   "source": [
    "%pylab\n",
    "import sys\n",
    "sys.path.append(\"/home/brant/caerenet/git/dataProc\")\n",
    "\n",
    "import dataProc_cal as dp"
   ]
  },
  {
   "cell_type": "code",
   "execution_count": 25,
   "metadata": {
    "collapsed": false
   },
   "outputs": [],
   "source": [
    "def plotTestData(fn,c='blue',tmin=15,twindow=(30,30.2)):\n",
    "    a = dp.readData(fn)\n",
    "    a0 = a[0].loc[a[0]['t']>tmin]\n",
    "    a1 = a[1].loc[a[1]['t']>tmin]\n",
    "    a2 = a[2].loc[a[2]['t']>tmin]\n",
    "    subplot(311)\n",
    "    plot(a0['t'],a0['adc'],color=c)\n",
    "    plot(a1['t'],a1['adc'],color=c)\n",
    "    plot(a2['t'],a2['adc'],color=c)\n",
    "    xlim(twindow[0],twindow[1])\n",
    "    subplot(312)\n",
    "    fs = 1/(a1['t'].iloc[1]-a1['t'].iloc[0])\n",
    "    psd(a1['adc']-mean(a1['adc']),Fs=fs,NFFT=4096,color=c)\n",
    "    psd(a2['adc']-mean(a2['adc']),Fs=fs,NFFT=4096,color=c)\n",
    "    #psd(a0['adc']-mean(a0['adc']),Fs=fs,NFFT=4096,color='red')\n",
    "    subplot(313)\n",
    "    psd(a1['adc']-mean(a1['adc']),Fs=fs,NFFT=4096,color=c)\n",
    "    psd(a2['adc']-mean(a2['adc']),Fs=fs,NFFT=4096,color=c)\n",
    "    psd(a0['adc']-mean(a0['adc']),Fs=fs,NFFT=4096,color='red')\n",
    "    xlim(0,300)\n",
    "    #figure()\n",
    "    #specgram(a1['adc'],Fs=fs,NFFT=1024)\n",
    "    #colorbar()\n",
    "    #figure()\n",
    "    #specgram(a2['adc'],Fs=fs,NFFT=1024)\n",
    "    #colorbar()"
   ]
  },
  {
   "cell_type": "code",
   "execution_count": 69,
   "metadata": {
    "collapsed": false
   },
   "outputs": [],
   "source": [
    "plotTestData(\"testdata/orig_1\",'blue')"
   ]
  },
  {
   "cell_type": "code",
   "execution_count": 12,
   "metadata": {
    "collapsed": false
   },
   "outputs": [],
   "source": [
    "plotTestData(\"testdata/orig_2\",'blue')"
   ]
  },
  {
   "cell_type": "code",
   "execution_count": 72,
   "metadata": {
    "collapsed": false
   },
   "outputs": [],
   "source": [
    "plotTestData(\"testdata/orig_3\",'blue')"
   ]
  },
  {
   "cell_type": "code",
   "execution_count": 73,
   "metadata": {
    "collapsed": true
   },
   "outputs": [],
   "source": [
    "plotTestData(\"testdata/noEl_10\",'green')"
   ]
  },
  {
   "cell_type": "code",
   "execution_count": 81,
   "metadata": {
    "collapsed": true
   },
   "outputs": [],
   "source": [
    "plotTestData(\"testdata/noRotElCov_8\",'red')\n",
    "plotTestData(\"testdata/noRot_7\",'blue')"
   ]
  },
  {
   "cell_type": "markdown",
   "metadata": {},
   "source": [
    "(30.126-30.095)"
   ]
  },
  {
   "cell_type": "code",
   "execution_count": 24,
   "metadata": {
    "collapsed": false
   },
   "outputs": [
    {
     "data": {
      "text/plain": [
       "0.03103030303030303"
      ]
     },
     "execution_count": 24,
     "metadata": {},
     "output_type": "execute_result"
    }
   ],
   "source": [
    "1024./33000"
   ]
  },
  {
   "cell_type": "code",
   "execution_count": 23,
   "metadata": {
    "collapsed": false
   },
   "outputs": [
    {
     "data": {
      "text/plain": [
       "11000"
      ]
     },
     "execution_count": 23,
     "metadata": {},
     "output_type": "execute_result"
    }
   ],
   "source": [
    "2*5500"
   ]
  },
  {
   "cell_type": "code",
   "execution_count": 30,
   "metadata": {
    "collapsed": true
   },
   "outputs": [],
   "source": [
    "plotTestData(\"testdata/sdB3Delay_14\",\"green\")"
   ]
  },
  {
   "cell_type": "code",
   "execution_count": 92,
   "metadata": {
    "collapsed": false
   },
   "outputs": [],
   "source": [
    "plotTestData(\"testdata/fullWithEApplied\")"
   ]
  },
  {
   "cell_type": "code",
   "execution_count": 29,
   "metadata": {
    "collapsed": false
   },
   "outputs": [],
   "source": [
    "plotTestData(\"testdata/backToNormal_34\",tmin=0,twindow=(0,35))\n",
    "#plotTestData(\"testdata/motorFar_22\",'red')"
   ]
  },
  {
   "cell_type": "code",
   "execution_count": 7,
   "metadata": {
    "collapsed": false
   },
   "outputs": [
    {
     "data": {
      "text/plain": [
       "53.07855626326923"
      ]
     },
     "execution_count": 7,
     "metadata": {},
     "output_type": "execute_result"
    }
   ],
   "source": [
    "10/(30.2009-30.0125)"
   ]
  },
  {
   "cell_type": "code",
   "execution_count": 26,
   "metadata": {
    "collapsed": true
   },
   "outputs": [],
   "source": [
    "plotTestData(\"testdata/sdtest_35\",tmin=0,twindow=(0,35))"
   ]
  },
  {
   "cell_type": "code",
   "execution_count": null,
   "metadata": {
    "collapsed": true
   },
   "outputs": [],
   "source": []
  }
 ],
 "metadata": {
  "kernelspec": {
   "display_name": "Python 2",
   "language": "python",
   "name": "python2"
  },
  "language_info": {
   "codemirror_mode": {
    "name": "ipython",
    "version": 2
   },
   "file_extension": ".py",
   "mimetype": "text/x-python",
   "name": "python",
   "nbconvert_exporter": "python",
   "pygments_lexer": "ipython2",
   "version": "2.7.10"
  }
 },
 "nbformat": 4,
 "nbformat_minor": 0
}
