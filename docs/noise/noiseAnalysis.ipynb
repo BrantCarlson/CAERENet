{
 "cells": [
  {
   "cell_type": "code",
   "execution_count": 1,
   "metadata": {
    "collapsed": false
   },
   "outputs": [
    {
     "name": "stdout",
     "output_type": "stream",
     "text": [
      "Using matplotlib backend: Qt5Agg\n",
      "Populating the interactive namespace from numpy and matplotlib\n"
     ]
    }
   ],
   "source": [
    "%pylab\n",
    "import sys\n",
    "sys.path.append(\"/home/brant/caerenet/git/dataProc\")\n",
    "\n",
    "import dataProc_cal as dp"
   ]
  },
  {
   "cell_type": "code",
   "execution_count": 29,
   "metadata": {
    "collapsed": true
   },
   "outputs": [],
   "source": [
    "def plotTestData0(fn,tmin=15,twindow=(30,30.2)):\n",
    "    a = dp.readData(fn)\n",
    "    a0 = a[0].loc[a[0]['t']>tmin]\n",
    "    a1 = a[1].loc[a[1]['t']>tmin]\n",
    "    a2 = a[2].loc[a[2]['t']>tmin]\n",
    "    #plot(a0['t'],a0['adc'])\n",
    "    plot(a1['t'],a1['adc'],label=\"ch1\")\n",
    "    plot(a2['t'],a2['adc'],label=\"ch2\")\n",
    "    legend()\n",
    "    xlim(twindow[0],twindow[1])"
   ]
  },
  {
   "cell_type": "code",
   "execution_count": 58,
   "metadata": {
    "collapsed": false
   },
   "outputs": [],
   "source": [
    "def plotTestData(fn,c='blue',tmin=15,twindow=(30,30.2)):\n",
    "    a = dp.readData(fn)\n",
    "    a0 = a[0].loc[a[0]['t']>tmin]\n",
    "    a1 = a[1].loc[a[1]['t']>tmin]\n",
    "    a2 = a[2].loc[a[2]['t']>tmin]\n",
    "    subplot(311)\n",
    "    plot(a0['t'],a0['adc'],color=c)\n",
    "    plot(a1['t'],a1['adc'],color=c)\n",
    "    plot(a2['t'],a2['adc'],color=c)\n",
    "    xlim(twindow[0],twindow[1])\n",
    "    subplot(312)\n",
    "    fs = 1/(a1['t'].iloc[1]-a1['t'].iloc[0])\n",
    "    psd(a1['adc']-mean(a1['adc']),Fs=fs,NFFT=4096,color=c)\n",
    "    psd(a2['adc']-mean(a2['adc']),Fs=fs,NFFT=4096,color=c)\n",
    "    #psd(a0['adc']-mean(a0['adc']),Fs=fs,NFFT=4096,color='red')\n",
    "    subplot(313)\n",
    "    psd(a1['adc']-mean(a1['adc']),Fs=fs,NFFT=4096,color=c)\n",
    "    psd(a2['adc']-mean(a2['adc']),Fs=fs,NFFT=4096,color=c)\n",
    "    psd(a0['adc']-mean(a0['adc']),Fs=fs,NFFT=4096,color='red')\n",
    "    xlim(0,300)\n",
    "    #figure()\n",
    "    #specgram(a1['adc'],Fs=fs,NFFT=1024)\n",
    "    #colorbar()\n",
    "    #figure()\n",
    "    #specgram(a2['adc'],Fs=fs,NFFT=1024)\n",
    "    #colorbar()"
   ]
  },
  {
   "cell_type": "code",
   "execution_count": 25,
   "metadata": {
    "collapsed": false
   },
   "outputs": [],
   "source": [
    "plotTestData0(\"testdata/coverRot_6\")"
   ]
  },
  {
   "cell_type": "code",
   "execution_count": 42,
   "metadata": {
    "collapsed": false
   },
   "outputs": [],
   "source": [
    "plotTestData0(\"pulsetestdata/02_inputSwap\")"
   ]
  },
  {
   "cell_type": "code",
   "execution_count": 74,
   "metadata": {
    "collapsed": false
   },
   "outputs": [],
   "source": [
    "#plotTestData0(\"pulsetestdata/04_rewired\")\n",
    "plotTestData(\"pulsetestdata/06_dgndE\",tmin=0,twindow=(29,30))"
   ]
  },
  {
   "cell_type": "code",
   "execution_count": 49,
   "metadata": {
    "collapsed": true
   },
   "outputs": [],
   "source": [
    "plotTestData(\"testdata/noEl_10\",'green')"
   ]
  },
  {
   "cell_type": "code",
   "execution_count": 81,
   "metadata": {
    "collapsed": true
   },
   "outputs": [],
   "source": [
    "plotTestData(\"testdata/noRotElCov_8\",'red')\n",
    "plotTestData(\"testdata/noRot_7\",'blue')"
   ]
  },
  {
   "cell_type": "code",
   "execution_count": 16,
   "metadata": {
    "collapsed": false
   },
   "outputs": [
    {
     "data": {
      "text/plain": [
       "1017.0999999999838"
      ]
     },
     "execution_count": 16,
     "metadata": {},
     "output_type": "execute_result"
    }
   ],
   "source": [
    "(-(30.0201-30.0508))*11000*3+4"
   ]
  },
  {
   "cell_type": "code",
   "execution_count": 24,
   "metadata": {
    "collapsed": false
   },
   "outputs": [
    {
     "data": {
      "text/plain": [
       "0.03103030303030303"
      ]
     },
     "execution_count": 24,
     "metadata": {},
     "output_type": "execute_result"
    }
   ],
   "source": [
    "1024./33000"
   ]
  },
  {
   "cell_type": "code",
   "execution_count": 23,
   "metadata": {
    "collapsed": false
   },
   "outputs": [
    {
     "data": {
      "text/plain": [
       "11000"
      ]
     },
     "execution_count": 23,
     "metadata": {},
     "output_type": "execute_result"
    }
   ],
   "source": [
    "2*5500"
   ]
  },
  {
   "cell_type": "code",
   "execution_count": 30,
   "metadata": {
    "collapsed": true
   },
   "outputs": [],
   "source": [
    "plotTestData(\"testdata/sdB3Delay_14\",\"green\")"
   ]
  },
  {
   "cell_type": "code",
   "execution_count": 92,
   "metadata": {
    "collapsed": false
   },
   "outputs": [],
   "source": [
    "plotTestData(\"testdata/fullWithEApplied\")"
   ]
  },
  {
   "cell_type": "code",
   "execution_count": 29,
   "metadata": {
    "collapsed": false
   },
   "outputs": [],
   "source": [
    "plotTestData(\"testdata/backToNormal_34\",tmin=0,twindow=(0,35))\n",
    "#plotTestData(\"testdata/motorFar_22\",'red')"
   ]
  },
  {
   "cell_type": "code",
   "execution_count": 7,
   "metadata": {
    "collapsed": false
   },
   "outputs": [
    {
     "data": {
      "text/plain": [
       "53.07855626326923"
      ]
     },
     "execution_count": 7,
     "metadata": {},
     "output_type": "execute_result"
    }
   ],
   "source": [
    "10/(30.2009-30.0125)"
   ]
  },
  {
   "cell_type": "code",
   "execution_count": 26,
   "metadata": {
    "collapsed": true
   },
   "outputs": [],
   "source": [
    "plotTestData(\"testdata/sdtest_35\",tmin=0,twindow=(0,35))"
   ]
  },
  {
   "cell_type": "code",
   "execution_count": 30,
   "metadata": {
    "collapsed": false
   },
   "outputs": [
    {
     "ename": "KeyError",
     "evalue": "MemoryError()",
     "output_type": "error",
     "traceback": [
      "\u001b[1;31m---------------------------------------------------------------------------\u001b[0m",
      "\u001b[1;31mKeyError\u001b[0m                                  Traceback (most recent call last)",
      "\u001b[1;32m<ipython-input-30-149cd5224e96>\u001b[0m in \u001b[0;36m<module>\u001b[1;34m()\u001b[0m\n\u001b[1;32m----> 1\u001b[1;33m \u001b[0mplotTestData\u001b[0m\u001b[1;33m(\u001b[0m\u001b[1;34m\"/run/media/brant/6262-3935/0003\"\u001b[0m\u001b[1;33m,\u001b[0m\u001b[0mtmin\u001b[0m\u001b[1;33m=\u001b[0m\u001b[1;36m0\u001b[0m\u001b[1;33m,\u001b[0m\u001b[0mtwindow\u001b[0m\u001b[1;33m=\u001b[0m\u001b[1;33m(\u001b[0m\u001b[1;36m0\u001b[0m\u001b[1;33m,\u001b[0m\u001b[1;36m30\u001b[0m\u001b[1;33m)\u001b[0m\u001b[1;33m)\u001b[0m\u001b[1;33m\u001b[0m\u001b[0m\n\u001b[0m",
      "\u001b[1;32m<ipython-input-25-e48b1833ca4f>\u001b[0m in \u001b[0;36mplotTestData\u001b[1;34m(fn, c, tmin, twindow)\u001b[0m\n\u001b[0;32m      2\u001b[0m     \u001b[0ma\u001b[0m \u001b[1;33m=\u001b[0m \u001b[0mdp\u001b[0m\u001b[1;33m.\u001b[0m\u001b[0mreadData\u001b[0m\u001b[1;33m(\u001b[0m\u001b[0mfn\u001b[0m\u001b[1;33m)\u001b[0m\u001b[1;33m\u001b[0m\u001b[0m\n\u001b[0;32m      3\u001b[0m     \u001b[0ma0\u001b[0m \u001b[1;33m=\u001b[0m \u001b[0ma\u001b[0m\u001b[1;33m[\u001b[0m\u001b[1;36m0\u001b[0m\u001b[1;33m]\u001b[0m\u001b[1;33m.\u001b[0m\u001b[0mloc\u001b[0m\u001b[1;33m[\u001b[0m\u001b[0ma\u001b[0m\u001b[1;33m[\u001b[0m\u001b[1;36m0\u001b[0m\u001b[1;33m]\u001b[0m\u001b[1;33m[\u001b[0m\u001b[1;34m't'\u001b[0m\u001b[1;33m]\u001b[0m\u001b[1;33m>\u001b[0m\u001b[0mtmin\u001b[0m\u001b[1;33m]\u001b[0m\u001b[1;33m\u001b[0m\u001b[0m\n\u001b[1;32m----> 4\u001b[1;33m     \u001b[0ma1\u001b[0m \u001b[1;33m=\u001b[0m \u001b[0ma\u001b[0m\u001b[1;33m[\u001b[0m\u001b[1;36m1\u001b[0m\u001b[1;33m]\u001b[0m\u001b[1;33m.\u001b[0m\u001b[0mloc\u001b[0m\u001b[1;33m[\u001b[0m\u001b[0ma\u001b[0m\u001b[1;33m[\u001b[0m\u001b[1;36m1\u001b[0m\u001b[1;33m]\u001b[0m\u001b[1;33m[\u001b[0m\u001b[1;34m't'\u001b[0m\u001b[1;33m]\u001b[0m\u001b[1;33m>\u001b[0m\u001b[0mtmin\u001b[0m\u001b[1;33m]\u001b[0m\u001b[1;33m\u001b[0m\u001b[0m\n\u001b[0m\u001b[0;32m      5\u001b[0m     \u001b[0ma2\u001b[0m \u001b[1;33m=\u001b[0m \u001b[0ma\u001b[0m\u001b[1;33m[\u001b[0m\u001b[1;36m2\u001b[0m\u001b[1;33m]\u001b[0m\u001b[1;33m.\u001b[0m\u001b[0mloc\u001b[0m\u001b[1;33m[\u001b[0m\u001b[0ma\u001b[0m\u001b[1;33m[\u001b[0m\u001b[1;36m2\u001b[0m\u001b[1;33m]\u001b[0m\u001b[1;33m[\u001b[0m\u001b[1;34m't'\u001b[0m\u001b[1;33m]\u001b[0m\u001b[1;33m>\u001b[0m\u001b[0mtmin\u001b[0m\u001b[1;33m]\u001b[0m\u001b[1;33m\u001b[0m\u001b[0m\n\u001b[0;32m      6\u001b[0m     \u001b[0msubplot\u001b[0m\u001b[1;33m(\u001b[0m\u001b[1;36m311\u001b[0m\u001b[1;33m)\u001b[0m\u001b[1;33m\u001b[0m\u001b[0m\n",
      "\u001b[1;32m/usr/lib/python2.7/site-packages/pandas/core/indexing.pyc\u001b[0m in \u001b[0;36m__getitem__\u001b[1;34m(self, key)\u001b[0m\n\u001b[0;32m   1187\u001b[0m             \u001b[1;32mreturn\u001b[0m \u001b[0mself\u001b[0m\u001b[1;33m.\u001b[0m\u001b[0m_getitem_tuple\u001b[0m\u001b[1;33m(\u001b[0m\u001b[0mkey\u001b[0m\u001b[1;33m)\u001b[0m\u001b[1;33m\u001b[0m\u001b[0m\n\u001b[0;32m   1188\u001b[0m         \u001b[1;32melse\u001b[0m\u001b[1;33m:\u001b[0m\u001b[1;33m\u001b[0m\u001b[0m\n\u001b[1;32m-> 1189\u001b[1;33m             \u001b[1;32mreturn\u001b[0m \u001b[0mself\u001b[0m\u001b[1;33m.\u001b[0m\u001b[0m_getitem_axis\u001b[0m\u001b[1;33m(\u001b[0m\u001b[0mkey\u001b[0m\u001b[1;33m,\u001b[0m \u001b[0maxis\u001b[0m\u001b[1;33m=\u001b[0m\u001b[1;36m0\u001b[0m\u001b[1;33m)\u001b[0m\u001b[1;33m\u001b[0m\u001b[0m\n\u001b[0m\u001b[0;32m   1190\u001b[0m \u001b[1;33m\u001b[0m\u001b[0m\n\u001b[0;32m   1191\u001b[0m     \u001b[1;32mdef\u001b[0m \u001b[0m_getitem_axis\u001b[0m\u001b[1;33m(\u001b[0m\u001b[0mself\u001b[0m\u001b[1;33m,\u001b[0m \u001b[0mkey\u001b[0m\u001b[1;33m,\u001b[0m \u001b[0maxis\u001b[0m\u001b[1;33m=\u001b[0m\u001b[1;36m0\u001b[0m\u001b[1;33m)\u001b[0m\u001b[1;33m:\u001b[0m\u001b[1;33m\u001b[0m\u001b[0m\n",
      "\u001b[1;32m/usr/lib/python2.7/site-packages/pandas/core/indexing.pyc\u001b[0m in \u001b[0;36m_getitem_axis\u001b[1;34m(self, key, axis)\u001b[0m\n\u001b[0;32m   1304\u001b[0m             \u001b[1;32mreturn\u001b[0m \u001b[0mself\u001b[0m\u001b[1;33m.\u001b[0m\u001b[0m_get_slice_axis\u001b[0m\u001b[1;33m(\u001b[0m\u001b[0mkey\u001b[0m\u001b[1;33m,\u001b[0m \u001b[0maxis\u001b[0m\u001b[1;33m=\u001b[0m\u001b[0maxis\u001b[0m\u001b[1;33m)\u001b[0m\u001b[1;33m\u001b[0m\u001b[0m\n\u001b[0;32m   1305\u001b[0m         \u001b[1;32melif\u001b[0m \u001b[0mis_bool_indexer\u001b[0m\u001b[1;33m(\u001b[0m\u001b[0mkey\u001b[0m\u001b[1;33m)\u001b[0m\u001b[1;33m:\u001b[0m\u001b[1;33m\u001b[0m\u001b[0m\n\u001b[1;32m-> 1306\u001b[1;33m             \u001b[1;32mreturn\u001b[0m \u001b[0mself\u001b[0m\u001b[1;33m.\u001b[0m\u001b[0m_getbool_axis\u001b[0m\u001b[1;33m(\u001b[0m\u001b[0mkey\u001b[0m\u001b[1;33m,\u001b[0m \u001b[0maxis\u001b[0m\u001b[1;33m=\u001b[0m\u001b[0maxis\u001b[0m\u001b[1;33m)\u001b[0m\u001b[1;33m\u001b[0m\u001b[0m\n\u001b[0m\u001b[0;32m   1307\u001b[0m         \u001b[1;32melif\u001b[0m \u001b[0mis_list_like_indexer\u001b[0m\u001b[1;33m(\u001b[0m\u001b[0mkey\u001b[0m\u001b[1;33m)\u001b[0m\u001b[1;33m:\u001b[0m\u001b[1;33m\u001b[0m\u001b[0m\n\u001b[0;32m   1308\u001b[0m \u001b[1;33m\u001b[0m\u001b[0m\n",
      "\u001b[1;32m/usr/lib/python2.7/site-packages/pandas/core/indexing.pyc\u001b[0m in \u001b[0;36m_getbool_axis\u001b[1;34m(self, key, axis)\u001b[0m\n\u001b[0;32m   1199\u001b[0m             \u001b[1;32mreturn\u001b[0m \u001b[0mself\u001b[0m\u001b[1;33m.\u001b[0m\u001b[0mobj\u001b[0m\u001b[1;33m.\u001b[0m\u001b[0mtake\u001b[0m\u001b[1;33m(\u001b[0m\u001b[0minds\u001b[0m\u001b[1;33m,\u001b[0m \u001b[0maxis\u001b[0m\u001b[1;33m=\u001b[0m\u001b[0maxis\u001b[0m\u001b[1;33m,\u001b[0m \u001b[0mconvert\u001b[0m\u001b[1;33m=\u001b[0m\u001b[0mFalse\u001b[0m\u001b[1;33m)\u001b[0m\u001b[1;33m\u001b[0m\u001b[0m\n\u001b[0;32m   1200\u001b[0m         \u001b[1;32mexcept\u001b[0m \u001b[0mException\u001b[0m \u001b[1;32mas\u001b[0m \u001b[0mdetail\u001b[0m\u001b[1;33m:\u001b[0m\u001b[1;33m\u001b[0m\u001b[0m\n\u001b[1;32m-> 1201\u001b[1;33m             \u001b[1;32mraise\u001b[0m \u001b[0mself\u001b[0m\u001b[1;33m.\u001b[0m\u001b[0m_exception\u001b[0m\u001b[1;33m(\u001b[0m\u001b[0mdetail\u001b[0m\u001b[1;33m)\u001b[0m\u001b[1;33m\u001b[0m\u001b[0m\n\u001b[0m\u001b[0;32m   1202\u001b[0m \u001b[1;33m\u001b[0m\u001b[0m\n\u001b[0;32m   1203\u001b[0m     \u001b[1;32mdef\u001b[0m \u001b[0m_get_slice_axis\u001b[0m\u001b[1;33m(\u001b[0m\u001b[0mself\u001b[0m\u001b[1;33m,\u001b[0m \u001b[0mslice_obj\u001b[0m\u001b[1;33m,\u001b[0m \u001b[0maxis\u001b[0m\u001b[1;33m=\u001b[0m\u001b[1;36m0\u001b[0m\u001b[1;33m)\u001b[0m\u001b[1;33m:\u001b[0m\u001b[1;33m\u001b[0m\u001b[0m\n",
      "\u001b[1;31mKeyError\u001b[0m: MemoryError()"
     ]
    }
   ],
   "source": [
    "plotTestData(\"/run/media/brant/6262-3935/0003\",tmin=0,twindow=(0,30))"
   ]
  },
  {
   "cell_type": "code",
   "execution_count": 71,
   "metadata": {
    "collapsed": false
   },
   "outputs": [
    {
     "data": {
      "text/plain": [
       "(array([[  1.43472722e+06,   1.57775707e+06,   1.39278080e+06, ...,\n",
       "           1.40690755e+06,   1.40758532e+06,   1.40706585e+06],\n",
       "        [  7.18215295e+05,   8.16758983e+05,   7.39427660e+05, ...,\n",
       "           7.03862559e+05,   7.04472100e+05,   7.03850919e+05],\n",
       "        [  7.96310516e+00,   4.61139841e+03,   2.97426954e+03, ...,\n",
       "           6.53342839e-02,   2.73795429e-01,   3.69049021e-02],\n",
       "        ..., \n",
       "        [  1.69934046e-04,   7.41146653e-04,   9.93417426e-04, ...,\n",
       "           1.22555723e-05,   3.40405923e-05,   3.00079394e-05],\n",
       "        [  7.21088440e-05,   2.42873457e-04,   9.78073092e-04, ...,\n",
       "           8.93606657e-04,   1.53157207e-03,   6.06323774e-04],\n",
       "        [  4.65977159e-04,   1.23488317e-03,   5.66855948e-04, ...,\n",
       "           1.08715847e-03,   1.03196392e-03,   3.49425812e-04]]),\n",
       " array([  0.00000000e+00,   2.69144901e+00,   5.38289802e+00, ...,\n",
       "          5.50670467e+03,   5.50939612e+03,   5.51208757e+03]),\n",
       " array([  0.18577354,   0.54570976,   0.90564599,   1.26558222,\n",
       "          1.62551844,   1.98545467,   2.3453909 ,   2.70532712,\n",
       "          3.06526335,   3.42519958,   3.7851358 ,   4.14507203,\n",
       "          4.50500825,   4.86494448,   5.22488071,   5.58481693,\n",
       "          5.94475316,   6.30468939,   6.66462561,   7.02456184,\n",
       "          7.38449807,   7.74443429,   8.10437052,   8.46430675,\n",
       "          8.82424297,   9.1841792 ,   9.54411543,   9.90405165,\n",
       "         10.26398788,  10.62392411,  10.98386033,  11.34379656,\n",
       "         11.70373279,  12.06366901,  12.42360524,  12.78354147,\n",
       "         13.14347769,  13.50341392,  13.86335015,  14.22328637,\n",
       "         14.5832226 ,  14.94315882,  15.30309505,  15.66303128,\n",
       "         16.0229675 ,  16.38290373,  16.74283996,  17.10277618,\n",
       "         17.46271241,  17.82264864,  18.18258486,  18.54252109,\n",
       "         18.90245732,  19.26239354,  19.62232977,  19.982266  ,\n",
       "         20.34220222,  20.70213845,  21.06207468,  21.4220109 ,\n",
       "         21.78194713,  22.14188336,  22.50181958,  22.86175581,\n",
       "         23.22169204,  23.58162826,  23.94156449,  24.30150072,\n",
       "         24.66143694,  25.02137317,  25.38130939,  25.74124562,\n",
       "         26.10118185,  26.46111807,  26.8210543 ,  27.18099053,\n",
       "         27.54092675,  27.90086298,  28.26079921,  28.62073543,\n",
       "         28.98067166,  29.34060789,  29.70054411,  30.06048034,  30.42041657]),\n",
       " <matplotlib.image.AxesImage at 0x7f6b1c2b9b90>)"
      ]
     },
     "execution_count": 71,
     "metadata": {},
     "output_type": "execute_result"
    }
   ],
   "source": [
    "a = dp.readData(\"pulsetestdata/06_dgndE\")\n",
    "specgram(a[2]['adc'],NFFT=1024*4,Fs=1/(a[2]['t'][2]-a[2]['t'][1]))"
   ]
  },
  {
   "cell_type": "code",
   "execution_count": 25,
   "metadata": {
    "collapsed": false
   },
   "outputs": [
    {
     "data": {
      "text/plain": [
       "[<matplotlib.lines.Line2D at 0x7f4b054b6c90>]"
      ]
     },
     "execution_count": 25,
     "metadata": {},
     "output_type": "execute_result"
    }
   ],
   "source": [
    "plot(a[2]['t'],a[2]['adc'])\n",
    "plot(a[1]['t'],a[1]['adc'])"
   ]
  },
  {
   "cell_type": "code",
   "execution_count": null,
   "metadata": {
    "collapsed": true
   },
   "outputs": [],
   "source": []
  }
 ],
 "metadata": {
  "kernelspec": {
   "display_name": "Python 2",
   "language": "python",
   "name": "python2"
  },
  "language_info": {
   "codemirror_mode": {
    "name": "ipython",
    "version": 2
   },
   "file_extension": ".py",
   "mimetype": "text/x-python",
   "name": "python",
   "nbconvert_exporter": "python",
   "pygments_lexer": "ipython2",
   "version": "2.7.10"
  }
 },
 "nbformat": 4,
 "nbformat_minor": 0
}
