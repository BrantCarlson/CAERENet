{
 "metadata": {
  "name": "calibration"
 },
 "nbformat": 3,
 "nbformat_minor": 0,
 "worksheets": [
  {
   "cells": [
    {
     "cell_type": "markdown",
     "metadata": {},
     "source": [
      "# Field Mill Calibration\n",
      "\n",
      "I moved some of the file read and calibration functions to a separate file, dataProc_cal.py, which I import here.  This notebook just deals with calling the functions to read the data, fit to find the amplitude, and make some plots."
     ]
    },
    {
     "cell_type": "code",
     "collapsed": false,
     "input": [
      "%pylab inline\n",
      "import pandas as pd\n",
      "import os\n",
      "import dataProc_cal as cal"
     ],
     "language": "python",
     "metadata": {},
     "outputs": [
      {
       "output_type": "stream",
       "stream": "stdout",
       "text": [
        "\n",
        "Welcome to pylab, a matplotlib-based Python environment [backend: module://IPython.zmq.pylab.backend_inline].\n",
        "For more information, type 'help(pylab)'.\n"
       ]
      }
     ],
     "prompt_number": 1
    },
    {
     "cell_type": "markdown",
     "metadata": {},
     "source": [
      "## Parallel processing setup\n",
      "IPython includes some nice parallel processing support.  Since I'm using a 4-core CPU, I'm going to use it.  If you want to use this, start a cluster in the IPython dashboard before running these."
     ]
    },
    {
     "cell_type": "code",
     "collapsed": false,
     "input": [
      "from IPython.parallel import Client"
     ],
     "language": "python",
     "metadata": {},
     "outputs": [],
     "prompt_number": 36
    },
    {
     "cell_type": "code",
     "collapsed": false,
     "input": [
      "rc = Client()\n",
      "dview = rc[:]\n",
      "with dview.sync_imports():\n",
      "    import dataProc_cal"
     ],
     "language": "python",
     "metadata": {},
     "outputs": [
      {
       "output_type": "stream",
       "stream": "stdout",
       "text": [
        "importing dataProc_cal on engine(s)\n"
       ]
      }
     ],
     "prompt_number": 46
    },
    {
     "cell_type": "code",
     "collapsed": false,
     "input": [
      "dview.execute('reload(dataProc_cal)',block=True)"
     ],
     "language": "python",
     "metadata": {},
     "outputs": [
      {
       "output_type": "pyout",
       "prompt_number": 265,
       "text": [
        "<AsyncResult: finished>"
       ]
      }
     ],
     "prompt_number": 265
    },
    {
     "cell_type": "markdown",
     "metadata": {},
     "source": [
      "## Parallel calculations\n",
      "I'm just going to process all the files in the given directory, assuming they have a certain filename format."
     ]
    },
    {
     "cell_type": "code",
     "collapsed": false,
     "input": [
      "calFilePath = \"/home/brant/sure/cal/\"\n",
      "fns = [f for f in os.listdir(calFilePath) if os.path.isfile(calFilePath+f)]\n",
      "fpths = map(lambda fn: calFilePath+fn, fns)"
     ],
     "language": "python",
     "metadata": {},
     "outputs": [],
     "prompt_number": 266
    },
    {
     "cell_type": "markdown",
     "metadata": {},
     "source": [
      "THIS WILL TAKE A WHILE TO EVALUATE...  instead, see pd.load(...) command below."
     ]
    },
    {
     "cell_type": "code",
     "collapsed": false,
     "input": [
      "c = dview.map_sync(lambda fn: dataProc_cal.procBigFile(fn,0,2),fpths)"
     ],
     "language": "python",
     "metadata": {},
     "outputs": [],
     "prompt_number": 267
    },
    {
     "cell_type": "markdown",
     "metadata": {},
     "source": [
      "# Calibration plots"
     ]
    },
    {
     "cell_type": "code",
     "collapsed": false,
     "input": [
      "dist = 0.41 # distance separating ground plane from HV plane in meters.  measured.\n",
      "\n",
      "def mean2030(fn):\n",
      "    v = float(fn[:-1])\n",
      "    f = fn[-1]\n",
      "    return pd.DataFrame({'v':v,\n",
      "                         'f':f,\n",
      "                         'E':v/dist,\n",
      "                         'a0':p0[fn].a[np.logical_and(p0[fn].t>20,p0[fn].t<30)].abs().mean(),\n",
      "                         'a2':p2[fn].a[np.logical_and(p2[fn].t>20,p2[fn].t<30)].abs().mean()},index=[fn])\n",
      "\n",
      "c = pd.concat(map(mean2030,fns))\n",
      "c = c.set_index(['v','f'])\n",
      "c = c.sort_index()"
     ],
     "language": "python",
     "metadata": {},
     "outputs": [],
     "prompt_number": 290
    },
    {
     "cell_type": "markdown",
     "metadata": {},
     "source": [
      "### Plot results of calibration"
     ]
    },
    {
     "cell_type": "code",
     "collapsed": false,
     "input": [
      "# full plot, both channels\n",
      "scatter(c.E,c.a2,c='r',s=100)\n",
      "scatter(c.E,c.a0,c='b',s=100)\n",
      "xlim(-10,1600)\n",
      "ylim(-10,2100)\n",
      "xlabel('E (V/m)')\n",
      "ylabel('adc output (dimensionless)')"
     ],
     "language": "python",
     "metadata": {},
     "outputs": [
      {
       "output_type": "pyout",
       "prompt_number": 291,
       "text": [
        "<matplotlib.text.Text at 0x248c78d0>"
       ]
      },
      {
       "output_type": "display_data",
       "png": "[encoded data removed]"
      }
     ],
     "prompt_number": 291
    },
    {
     "cell_type": "code",
     "collapsed": false,
     "input": [
      "# zoomed in plot, both channels.\n",
      "scatter(c.E,c.a2,c='r',s=100)\n",
      "scatter(c.E,c.a0,c='b',s=100)\n",
      "xlim(-10,150)\n",
      "ylim(-10,300)\n",
      "xlabel('E (V/m)')\n",
      "ylabel('adc output (dimensionless)')"
     ],
     "language": "python",
     "metadata": {},
     "outputs": [
      {
       "output_type": "pyout",
       "prompt_number": 296,
       "text": [
        "<matplotlib.text.Text at 0x266a2610>"
       ]
      },
      {
       "output_type": "display_data",
       "png": "[encoded data removed]"
      }
     ],
     "prompt_number": 296
    },
    {
     "cell_type": "code",
     "collapsed": false,
     "input": [
      "c.save(\"calibration1.pandas\")\n",
      "# c = pd.load(\"calibration1.pandas\")"
     ],
     "language": "python",
     "metadata": {},
     "outputs": [],
     "prompt_number": 300
    },
    {
     "cell_type": "code",
     "collapsed": false,
     "input": [
      "c"
     ],
     "language": "python",
     "metadata": {},
     "outputs": [
      {
       "html": [
        "<div style=\"max-height:1000px;max-width:1500px;overflow:auto;\">\n",
        "<table border=\"1\" class=\"dataframe\">\n",
        "  <thead>\n",
        "    <tr style=\"text-align: right;\">\n",
        "      <th></th>\n",
        "      <th></th>\n",
        "      <th>E</th>\n",
        "      <th>a0</th>\n",
        "      <th>a2</th>\n",
        "    </tr>\n",
        "    <tr>\n",
        "      <th>v</th>\n",
        "      <th>f</th>\n",
        "      <th></th>\n",
        "      <th></th>\n",
        "      <th></th>\n",
        "    </tr>\n",
        "  </thead>\n",
        "  <tbody>\n",
        "    <tr>\n",
        "      <th rowspan=\"3\" valign=\"top\">0.0  </th>\n",
        "      <th>a</th>\n",
        "      <td>    0.000000</td>\n",
        "      <td>   43.357288</td>\n",
        "      <td>   41.438286</td>\n",
        "    </tr>\n",
        "    <tr>\n",
        "      <th>b</th>\n",
        "      <td>    0.000000</td>\n",
        "      <td>   20.786943</td>\n",
        "      <td>   25.523270</td>\n",
        "    </tr>\n",
        "    <tr>\n",
        "      <th>c</th>\n",
        "      <td>    0.000000</td>\n",
        "      <td>   21.833035</td>\n",
        "      <td>   26.573651</td>\n",
        "    </tr>\n",
        "    <tr>\n",
        "      <th rowspan=\"3\" valign=\"top\">1.6  </th>\n",
        "      <th>a</th>\n",
        "      <td>    3.902439</td>\n",
        "      <td>   99.164021</td>\n",
        "      <td>   94.538117</td>\n",
        "    </tr>\n",
        "    <tr>\n",
        "      <th>b</th>\n",
        "      <td>    3.902439</td>\n",
        "      <td>   53.054367</td>\n",
        "      <td>   48.459497</td>\n",
        "    </tr>\n",
        "    <tr>\n",
        "      <th>c</th>\n",
        "      <td>    3.902439</td>\n",
        "      <td>   26.923529</td>\n",
        "      <td>   27.024024</td>\n",
        "    </tr>\n",
        "    <tr>\n",
        "      <th rowspan=\"2\" valign=\"top\">10.2 </th>\n",
        "      <th>a</th>\n",
        "      <td>   24.878049</td>\n",
        "      <td>   62.458863</td>\n",
        "      <td>   62.263465</td>\n",
        "    </tr>\n",
        "    <tr>\n",
        "      <th>b</th>\n",
        "      <td>   24.878049</td>\n",
        "      <td>   61.028363</td>\n",
        "      <td>   60.483256</td>\n",
        "    </tr>\n",
        "    <tr>\n",
        "      <th>10.3 </th>\n",
        "      <th>c</th>\n",
        "      <td>   25.121951</td>\n",
        "      <td>   58.405290</td>\n",
        "      <td>   58.282546</td>\n",
        "    </tr>\n",
        "    <tr>\n",
        "      <th rowspan=\"3\" valign=\"top\">20.1 </th>\n",
        "      <th>a</th>\n",
        "      <td>   49.024390</td>\n",
        "      <td>  128.948762</td>\n",
        "      <td>  124.793137</td>\n",
        "    </tr>\n",
        "    <tr>\n",
        "      <th>b</th>\n",
        "      <td>   49.024390</td>\n",
        "      <td>  129.183811</td>\n",
        "      <td>  124.730297</td>\n",
        "    </tr>\n",
        "    <tr>\n",
        "      <th>c</th>\n",
        "      <td>   49.024390</td>\n",
        "      <td>  126.670242</td>\n",
        "      <td>  124.436491</td>\n",
        "    </tr>\n",
        "    <tr>\n",
        "      <th rowspan=\"3\" valign=\"top\">40.1 </th>\n",
        "      <th>a</th>\n",
        "      <td>   97.804878</td>\n",
        "      <td>  269.131633</td>\n",
        "      <td>  261.045982</td>\n",
        "    </tr>\n",
        "    <tr>\n",
        "      <th>b</th>\n",
        "      <td>   97.804878</td>\n",
        "      <td>  268.717319</td>\n",
        "      <td>  260.136567</td>\n",
        "    </tr>\n",
        "    <tr>\n",
        "      <th>c</th>\n",
        "      <td>   97.804878</td>\n",
        "      <td>  268.402203</td>\n",
        "      <td>  260.124323</td>\n",
        "    </tr>\n",
        "    <tr>\n",
        "      <th rowspan=\"3\" valign=\"top\">80.1 </th>\n",
        "      <th>a</th>\n",
        "      <td>  195.365854</td>\n",
        "      <td>  546.933868</td>\n",
        "      <td>  530.217138</td>\n",
        "    </tr>\n",
        "    <tr>\n",
        "      <th>b</th>\n",
        "      <td>  195.365854</td>\n",
        "      <td>  547.197650</td>\n",
        "      <td>  530.248233</td>\n",
        "    </tr>\n",
        "    <tr>\n",
        "      <th>c</th>\n",
        "      <td>  195.365854</td>\n",
        "      <td>  547.433841</td>\n",
        "      <td>  529.901856</td>\n",
        "    </tr>\n",
        "    <tr>\n",
        "      <th rowspan=\"3\" valign=\"top\">150.1</th>\n",
        "      <th>a</th>\n",
        "      <td>  366.097561</td>\n",
        "      <td> 1036.614693</td>\n",
        "      <td> 1002.318358</td>\n",
        "    </tr>\n",
        "    <tr>\n",
        "      <th>b</th>\n",
        "      <td>  366.097561</td>\n",
        "      <td> 1037.122242</td>\n",
        "      <td> 1003.269814</td>\n",
        "    </tr>\n",
        "    <tr>\n",
        "      <th>c</th>\n",
        "      <td>  366.097561</td>\n",
        "      <td> 1035.502382</td>\n",
        "      <td> 1002.035810</td>\n",
        "    </tr>\n",
        "    <tr>\n",
        "      <th rowspan=\"3\" valign=\"top\">213.0</th>\n",
        "      <th>a</th>\n",
        "      <td>  519.512195</td>\n",
        "      <td> 1378.725582</td>\n",
        "      <td> 1391.233444</td>\n",
        "    </tr>\n",
        "    <tr>\n",
        "      <th>b</th>\n",
        "      <td>  519.512195</td>\n",
        "      <td> 1382.721159</td>\n",
        "      <td> 1393.137606</td>\n",
        "    </tr>\n",
        "    <tr>\n",
        "      <th>c</th>\n",
        "      <td>  519.512195</td>\n",
        "      <td> 1378.473270</td>\n",
        "      <td> 1389.441181</td>\n",
        "    </tr>\n",
        "    <tr>\n",
        "      <th rowspan=\"3\" valign=\"top\">300.5</th>\n",
        "      <th>a</th>\n",
        "      <td>  732.926829</td>\n",
        "      <td> 1726.417883</td>\n",
        "      <td> 1710.222129</td>\n",
        "    </tr>\n",
        "    <tr>\n",
        "      <th>b</th>\n",
        "      <td>  732.926829</td>\n",
        "      <td> 1733.568425</td>\n",
        "      <td> 1718.403747</td>\n",
        "    </tr>\n",
        "    <tr>\n",
        "      <th>c</th>\n",
        "      <td>  732.926829</td>\n",
        "      <td> 1742.548060</td>\n",
        "      <td> 1727.130005</td>\n",
        "    </tr>\n",
        "    <tr>\n",
        "      <th rowspan=\"3\" valign=\"top\">400.0</th>\n",
        "      <th>a</th>\n",
        "      <td>  975.609756</td>\n",
        "      <td> 1853.414758</td>\n",
        "      <td> 1846.087177</td>\n",
        "    </tr>\n",
        "    <tr>\n",
        "      <th>b</th>\n",
        "      <td>  975.609756</td>\n",
        "      <td> 1851.604649</td>\n",
        "      <td> 1845.006019</td>\n",
        "    </tr>\n",
        "    <tr>\n",
        "      <th>c</th>\n",
        "      <td>  975.609756</td>\n",
        "      <td> 1855.011782</td>\n",
        "      <td> 1847.955749</td>\n",
        "    </tr>\n",
        "    <tr>\n",
        "      <th rowspan=\"3\" valign=\"top\">508.5</th>\n",
        "      <th>a</th>\n",
        "      <td> 1240.243902</td>\n",
        "      <td> 1891.055493</td>\n",
        "      <td> 1894.300199</td>\n",
        "    </tr>\n",
        "    <tr>\n",
        "      <th>b</th>\n",
        "      <td> 1240.243902</td>\n",
        "      <td> 1892.047505</td>\n",
        "      <td> 1895.107956</td>\n",
        "    </tr>\n",
        "    <tr>\n",
        "      <th>c</th>\n",
        "      <td> 1240.243902</td>\n",
        "      <td> 1892.644583</td>\n",
        "      <td> 1893.621802</td>\n",
        "    </tr>\n",
        "  </tbody>\n",
        "</table>\n",
        "</div>"
       ],
       "output_type": "pyout",
       "prompt_number": 302,
       "text": [
        "                   E           a0           a2\n",
        "v     f                                       \n",
        "0.0   a     0.000000    43.357288    41.438286\n",
        "      b     0.000000    20.786943    25.523270\n",
        "      c     0.000000    21.833035    26.573651\n",
        "1.6   a     3.902439    99.164021    94.538117\n",
        "      b     3.902439    53.054367    48.459497\n",
        "      c     3.902439    26.923529    27.024024\n",
        "10.2  a    24.878049    62.458863    62.263465\n",
        "      b    24.878049    61.028363    60.483256\n",
        "10.3  c    25.121951    58.405290    58.282546\n",
        "20.1  a    49.024390   128.948762   124.793137\n",
        "      b    49.024390   129.183811   124.730297\n",
        "      c    49.024390   126.670242   124.436491\n",
        "40.1  a    97.804878   269.131633   261.045982\n",
        "      b    97.804878   268.717319   260.136567\n",
        "      c    97.804878   268.402203   260.124323\n",
        "80.1  a   195.365854   546.933868   530.217138\n",
        "      b   195.365854   547.197650   530.248233\n",
        "      c   195.365854   547.433841   529.901856\n",
        "150.1 a   366.097561  1036.614693  1002.318358\n",
        "      b   366.097561  1037.122242  1003.269814\n",
        "      c   366.097561  1035.502382  1002.035810\n",
        "213.0 a   519.512195  1378.725582  1391.233444\n",
        "      b   519.512195  1382.721159  1393.137606\n",
        "      c   519.512195  1378.473270  1389.441181\n",
        "300.5 a   732.926829  1726.417883  1710.222129\n",
        "      b   732.926829  1733.568425  1718.403747\n",
        "      c   732.926829  1742.548060  1727.130005\n",
        "400.0 a   975.609756  1853.414758  1846.087177\n",
        "      b   975.609756  1851.604649  1845.006019\n",
        "      c   975.609756  1855.011782  1847.955749\n",
        "508.5 a  1240.243902  1891.055493  1894.300199\n",
        "      b  1240.243902  1892.047505  1895.107956\n",
        "      c  1240.243902  1892.644583  1893.621802"
       ]
      }
     ],
     "prompt_number": 302
    },
    {
     "cell_type": "markdown",
     "metadata": {},
     "source": [
      "# Test code for fits\n",
      "Ignore this part."
     ]
    },
    {
     "cell_type": "code",
     "collapsed": false,
     "input": [
      "reload(cal)\n",
      "x = cal.readData(\"/home/brant/sure/cal/0a\")\n",
      "fit = cal.fitSegs(x[0].t,x[0].adc,x[2].t,x[2].adc)\n",
      "fit.head()"
     ],
     "language": "python",
     "metadata": {},
     "outputs": [
      {
       "html": [
        "<div style=\"max-height:1000px;max-width:1500px;overflow:auto;\">\n",
        "<table border=\"1\" class=\"dataframe\">\n",
        "  <thead>\n",
        "    <tr style=\"text-align: right;\">\n",
        "      <th></th>\n",
        "      <th>t</th>\n",
        "      <th>m1</th>\n",
        "      <th>a1</th>\n",
        "      <th>omega</th>\n",
        "      <th>t0</th>\n",
        "      <th>m2</th>\n",
        "      <th>a2</th>\n",
        "      <th>mma1</th>\n",
        "      <th>mmm1</th>\n",
        "      <th>mma2</th>\n",
        "      <th>mmm2</th>\n",
        "    </tr>\n",
        "  </thead>\n",
        "  <tbody>\n",
        "    <tr>\n",
        "      <th>0</th>\n",
        "      <td> 0.000000</td>\n",
        "      <td> 2174.5</td>\n",
        "      <td> 41.515999</td>\n",
        "      <td> 314.159265</td>\n",
        "      <td> 0.010544</td>\n",
        "      <td> 2006.0</td>\n",
        "      <td>-42.016192</td>\n",
        "      <td> 41.5</td>\n",
        "      <td> 2174.5</td>\n",
        "      <td> 42.0</td>\n",
        "      <td> 2006.0</td>\n",
        "    </tr>\n",
        "    <tr>\n",
        "      <th>1</th>\n",
        "      <td> 0.030906</td>\n",
        "      <td> 2183.0</td>\n",
        "      <td> 55.021204</td>\n",
        "      <td> 314.159265</td>\n",
        "      <td> 0.037797</td>\n",
        "      <td> 2009.5</td>\n",
        "      <td>-38.514843</td>\n",
        "      <td> 55.0</td>\n",
        "      <td> 2183.0</td>\n",
        "      <td> 38.5</td>\n",
        "      <td> 2009.5</td>\n",
        "    </tr>\n",
        "    <tr>\n",
        "      <th>2</th>\n",
        "      <td> 0.061953</td>\n",
        "      <td> 2179.5</td>\n",
        "      <td> 48.518698</td>\n",
        "      <td> 314.159265</td>\n",
        "      <td> 0.064361</td>\n",
        "      <td> 2010.5</td>\n",
        "      <td>-43.516770</td>\n",
        "      <td> 48.5</td>\n",
        "      <td> 2179.5</td>\n",
        "      <td> 43.5</td>\n",
        "      <td> 2010.5</td>\n",
        "    </tr>\n",
        "    <tr>\n",
        "      <th>3</th>\n",
        "      <td> 0.093001</td>\n",
        "      <td> 2173.5</td>\n",
        "      <td> 46.517927</td>\n",
        "      <td> 314.159265</td>\n",
        "      <td> 0.116637</td>\n",
        "      <td> 2009.0</td>\n",
        "      <td>-46.017734</td>\n",
        "      <td> 46.5</td>\n",
        "      <td> 2173.5</td>\n",
        "      <td> 46.0</td>\n",
        "      <td> 2009.0</td>\n",
        "    </tr>\n",
        "    <tr>\n",
        "      <th>4</th>\n",
        "      <td> 0.124048</td>\n",
        "      <td> 2173.5</td>\n",
        "      <td> 54.521011</td>\n",
        "      <td> 314.159265</td>\n",
        "      <td> 0.141908</td>\n",
        "      <td> 2017.5</td>\n",
        "      <td>-37.514457</td>\n",
        "      <td> 54.5</td>\n",
        "      <td> 2173.5</td>\n",
        "      <td> 37.5</td>\n",
        "      <td> 2017.5</td>\n",
        "    </tr>\n",
        "  </tbody>\n",
        "</table>\n",
        "</div>"
       ],
       "output_type": "pyout",
       "prompt_number": 286,
       "text": [
        "          t      m1         a1       omega        t0      m2         a2  mma1    mmm1  \\\n",
        "0  0.000000  2174.5  41.515999  314.159265  0.010544  2006.0 -42.016192  41.5  2174.5   \n",
        "1  0.030906  2183.0  55.021204  314.159265  0.037797  2009.5 -38.514843  55.0  2183.0   \n",
        "2  0.061953  2179.5  48.518698  314.159265  0.064361  2010.5 -43.516770  48.5  2179.5   \n",
        "3  0.093001  2173.5  46.517927  314.159265  0.116637  2009.0 -46.017734  46.5  2173.5   \n",
        "4  0.124048  2173.5  54.521011  314.159265  0.141908  2017.5 -37.514457  54.5  2173.5   \n",
        "\n",
        "   mma2    mmm2  \n",
        "0  42.0  2006.0  \n",
        "1  38.5  2009.5  \n",
        "2  43.5  2010.5  \n",
        "3  46.0  2009.0  \n",
        "4  37.5  2017.5  "
       ]
      }
     ],
     "prompt_number": 286
    },
    {
     "cell_type": "code",
     "collapsed": false,
     "input": [
      "plot(x[0].t,x[0].adc)\n",
      "plot(fit.t,fit.m1)\n",
      "plot(fit.t,fit.m1+fit.a1.abs())\n",
      "plot(fit.t,fit.m1-fit.a1.abs())\n",
      "xlim(28,28.1)\n",
      "ylim(2100,2150)\n",
      "#plot(x[0].t,x[0].adc)\n",
      "#plot(fit.t,fit.m1-fit.a1.abs())\n",
      "#plot(fit.t,fit.m2-fit.a2.abs())"
     ],
     "language": "python",
     "metadata": {},
     "outputs": [
      {
       "output_type": "pyout",
       "prompt_number": 289,
       "text": [
        "(2100, 2150)"
       ]
      },
      {
       "output_type": "display_data",
       "png": "[encoded data removed]"
      }
     ],
     "prompt_number": 289
    },
    {
     "cell_type": "code",
     "collapsed": false,
     "input": [],
     "language": "python",
     "metadata": {},
     "outputs": []
    }
   ],
   "metadata": {}
  }
 ]
}